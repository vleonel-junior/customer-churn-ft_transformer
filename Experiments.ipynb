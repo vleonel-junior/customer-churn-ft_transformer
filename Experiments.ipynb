{
 "cells": [
  {
   "cell_type": "code",
   "execution_count": 1,
   "id": "4f8c5e5c",
   "metadata": {
    "_cell_guid": "b1076dfc-b9ad-4769-8c92-a6c4dae69d19",
    "_uuid": "8f2839f25d086af736a60e9eeb907d3b93b6e0e5",
    "execution": {
     "iopub.execute_input": "2025-06-29T03:20:44.566391Z",
     "iopub.status.busy": "2025-06-29T03:20:44.566122Z",
     "iopub.status.idle": "2025-06-29T03:20:45.455580Z",
     "shell.execute_reply": "2025-06-29T03:20:45.454449Z"
    },
    "papermill": {
     "duration": 0.895829,
     "end_time": "2025-06-29T03:20:45.458101",
     "exception": false,
     "start_time": "2025-06-29T03:20:44.562272",
     "status": "completed"
    },
    "tags": []
   },
   "outputs": [
    {
     "name": "stdout",
     "output_type": "stream",
     "text": [
      "Cloning into 'customer-churn-ft_transformer'...\r\n",
      "remote: Enumerating objects: 250, done.\u001b[K\r\n",
      "remote: Counting objects: 100% (250/250), done.\u001b[K\r\n",
      "remote: Compressing objects: 100% (152/152), done.\u001b[K\r\n",
      "remote: Total 250 (delta 112), reused 196 (delta 60), pack-reused 0 (from 0)\u001b[K\r\n",
      "Receiving objects: 100% (250/250), 585.64 KiB | 12.20 MiB/s, done.\r\n",
      "Resolving deltas: 100% (112/112), done.\r\n"
     ]
    }
   ],
   "source": [
    "!git clone https://github.com/vleonel-junior/customer-churn-ft_transformer.git"
   ]
  },
  {
   "cell_type": "code",
   "execution_count": 2,
   "id": "71fa85ed",
   "metadata": {
    "execution": {
     "iopub.execute_input": "2025-06-29T03:20:45.467194Z",
     "iopub.status.busy": "2025-06-29T03:20:45.466857Z",
     "iopub.status.idle": "2025-06-29T03:20:45.471830Z",
     "shell.execute_reply": "2025-06-29T03:20:45.471057Z"
    },
    "papermill": {
     "duration": 0.010051,
     "end_time": "2025-06-29T03:20:45.473349",
     "exception": false,
     "start_time": "2025-06-29T03:20:45.463298",
     "status": "completed"
    },
    "tags": []
   },
   "outputs": [],
   "source": [
    "import sys\n",
    "sys.path.append('/kaggle/working/customer-churn-ft_transformer')"
   ]
  },
  {
   "cell_type": "code",
   "execution_count": 3,
   "id": "e225de6e",
   "metadata": {
    "execution": {
     "iopub.execute_input": "2025-06-29T03:20:45.483652Z",
     "iopub.status.busy": "2025-06-29T03:20:45.483273Z",
     "iopub.status.idle": "2025-06-29T03:20:45.843103Z",
     "shell.execute_reply": "2025-06-29T03:20:45.842352Z"
    },
    "papermill": {
     "duration": 0.366343,
     "end_time": "2025-06-29T03:20:45.844542",
     "exception": false,
     "start_time": "2025-06-29T03:20:45.478199",
     "status": "completed"
    },
    "tags": []
   },
   "outputs": [
    {
     "name": "stdout",
     "output_type": "stream",
     "text": [
      "/kaggle/working/customer-churn-ft_transformer\r\n",
      "total 84\r\n",
      "drwxr-xr-x 8 root root  4096 Jun 29 03:20 .\r\n",
      "drwxr-xr-x 3 root root  4096 Jun 29 03:20 ..\r\n",
      "drwxr-xr-x 3 root root  4096 Jun 29 03:20 data\r\n",
      "-rw-r--r-- 1 root root 19479 Jun 29 03:20 Experiments.ipynb\r\n",
      "drwxr-xr-x 2 root root  4096 Jun 29 03:20 ftt_plus\r\n",
      "drwxr-xr-x 8 root root  4096 Jun 29 03:20 .git\r\n",
      "-rw-r--r-- 1 root root     0 Jun 29 03:20 model.py\r\n",
      "-rw-r--r-- 1 root root  6931 Jun 29 03:20 num_embedding_factory.py\r\n",
      "drwxr-xr-x 2 root root  4096 Jun 29 03:20 __pycache__\r\n",
      "-rw-r--r-- 1 root root    32 Jun 29 03:20 README.md\r\n",
      "drwxr-xr-x 5 root root  4096 Jun 29 03:20 rtdl_lib\r\n",
      "-rw-r--r-- 1 root root   788 Jun 29 03:20 test.ipynb\r\n",
      "-rw-r--r-- 1 root root 10563 Jun 29 03:20 test_num_embedding_factory.py\r\n",
      "drwxr-xr-x 3 root root  4096 Jun 29 03:20 train\r\n",
      "-rw-r--r-- 1 root root  2213 Jun 29 03:20 utils.py\r\n",
      "total 968\r\n",
      "drwxr-xr-x 3 root root   4096 Jun 29 03:20 .\r\n",
      "drwxr-xr-x 8 root root   4096 Jun 29 03:20 ..\r\n",
      "-rw-r--r-- 1 root root   4224 Jun 29 03:20 process_telecom_data.py\r\n",
      "drwxr-xr-x 2 root root   4096 Jun 29 03:20 __pycache__\r\n",
      "-rw-r--r-- 1 root root 970457 Jun 29 03:20 Telco_Customer_Churn.csv\r\n",
      "-rw-r--r-- 1 root root      0 Jun 29 03:20 utils.py\r\n"
     ]
    }
   ],
   "source": [
    "# Le bon chemin est directement :\n",
    "import os\n",
    "os.chdir('/kaggle/working/customer-churn-ft_transformer')\n",
    "\n",
    "# Vérifier que vous êtes au bon endroit\n",
    "!pwd\n",
    "!ls -la\n",
    "\n",
    "# Vérifier que les datasets sont là\n",
    "!ls -la data/"
   ]
  },
  {
   "cell_type": "code",
   "execution_count": 4,
   "id": "6ed6a75f",
   "metadata": {
    "execution": {
     "iopub.execute_input": "2025-06-29T03:20:45.851342Z",
     "iopub.status.busy": "2025-06-29T03:20:45.850582Z",
     "iopub.status.idle": "2025-06-29T03:22:18.023379Z",
     "shell.execute_reply": "2025-06-29T03:22:18.022617Z"
    },
    "papermill": {
     "duration": 92.178126,
     "end_time": "2025-06-29T03:22:18.025434",
     "exception": false,
     "start_time": "2025-06-29T03:20:45.847308",
     "status": "completed"
    },
    "tags": []
   },
   "outputs": [
    {
     "name": "stdout",
     "output_type": "stream",
     "text": [
      "Collecting rtdl\r\n",
      "  Downloading rtdl-0.0.13-py3-none-any.whl.metadata (1.0 kB)\r\n",
      "Requirement already satisfied: numpy<2,>=1.18 in /usr/local/lib/python3.11/dist-packages (from rtdl) (1.26.4)\r\n",
      "Collecting torch<2,>=1.7 (from rtdl)\r\n",
      "  Downloading torch-1.13.1-cp311-cp311-manylinux1_x86_64.whl.metadata (24 kB)\r\n",
      "Requirement already satisfied: mkl_fft in /usr/local/lib/python3.11/dist-packages (from numpy<2,>=1.18->rtdl) (1.3.8)\r\n",
      "Requirement already satisfied: mkl_random in /usr/local/lib/python3.11/dist-packages (from numpy<2,>=1.18->rtdl) (1.2.4)\r\n",
      "Requirement already satisfied: mkl_umath in /usr/local/lib/python3.11/dist-packages (from numpy<2,>=1.18->rtdl) (0.1.1)\r\n",
      "Requirement already satisfied: mkl in /usr/local/lib/python3.11/dist-packages (from numpy<2,>=1.18->rtdl) (2025.1.0)\r\n",
      "Requirement already satisfied: tbb4py in /usr/local/lib/python3.11/dist-packages (from numpy<2,>=1.18->rtdl) (2022.1.0)\r\n",
      "Requirement already satisfied: mkl-service in /usr/local/lib/python3.11/dist-packages (from numpy<2,>=1.18->rtdl) (2.4.1)\r\n",
      "Requirement already satisfied: typing-extensions in /usr/local/lib/python3.11/dist-packages (from torch<2,>=1.7->rtdl) (4.13.2)\r\n",
      "Collecting nvidia-cuda-runtime-cu11==11.7.99 (from torch<2,>=1.7->rtdl)\r\n",
      "  Downloading nvidia_cuda_runtime_cu11-11.7.99-py3-none-manylinux1_x86_64.whl.metadata (1.6 kB)\r\n",
      "Collecting nvidia-cudnn-cu11==8.5.0.96 (from torch<2,>=1.7->rtdl)\r\n",
      "  Downloading nvidia_cudnn_cu11-8.5.0.96-2-py3-none-manylinux1_x86_64.whl.metadata (1.6 kB)\r\n",
      "Collecting nvidia-cublas-cu11==11.10.3.66 (from torch<2,>=1.7->rtdl)\r\n",
      "  Downloading nvidia_cublas_cu11-11.10.3.66-py3-none-manylinux1_x86_64.whl.metadata (1.6 kB)\r\n",
      "Collecting nvidia-cuda-nvrtc-cu11==11.7.99 (from torch<2,>=1.7->rtdl)\r\n",
      "  Downloading nvidia_cuda_nvrtc_cu11-11.7.99-2-py3-none-manylinux1_x86_64.whl.metadata (1.5 kB)\r\n",
      "Requirement already satisfied: setuptools in /usr/local/lib/python3.11/dist-packages (from nvidia-cublas-cu11==11.10.3.66->torch<2,>=1.7->rtdl) (75.2.0)\r\n",
      "Requirement already satisfied: wheel in /usr/local/lib/python3.11/dist-packages (from nvidia-cublas-cu11==11.10.3.66->torch<2,>=1.7->rtdl) (0.45.1)\r\n",
      "Requirement already satisfied: intel-openmp<2026,>=2024 in /usr/local/lib/python3.11/dist-packages (from mkl->numpy<2,>=1.18->rtdl) (2024.2.0)\r\n",
      "Requirement already satisfied: tbb==2022.* in /usr/local/lib/python3.11/dist-packages (from mkl->numpy<2,>=1.18->rtdl) (2022.1.0)\r\n",
      "Requirement already satisfied: tcmlib==1.* in /usr/local/lib/python3.11/dist-packages (from tbb==2022.*->mkl->numpy<2,>=1.18->rtdl) (1.3.0)\r\n",
      "Requirement already satisfied: intel-cmplr-lib-rt in /usr/local/lib/python3.11/dist-packages (from mkl_umath->numpy<2,>=1.18->rtdl) (2024.2.0)\r\n",
      "Requirement already satisfied: intel-cmplr-lib-ur==2024.2.0 in /usr/local/lib/python3.11/dist-packages (from intel-openmp<2026,>=2024->mkl->numpy<2,>=1.18->rtdl) (2024.2.0)\r\n",
      "Downloading rtdl-0.0.13-py3-none-any.whl (23 kB)\r\n",
      "Downloading torch-1.13.1-cp311-cp311-manylinux1_x86_64.whl (887.4 MB)\r\n",
      "\u001b[2K   \u001b[90m━━━━━━━━━━━━━━━━━━━━━━━━━━━━━━━━━━━━━━━━\u001b[0m \u001b[32m887.4/887.4 MB\u001b[0m \u001b[31m1.9 MB/s\u001b[0m eta \u001b[36m0:00:00\u001b[0m\r\n",
      "\u001b[?25hDownloading nvidia_cublas_cu11-11.10.3.66-py3-none-manylinux1_x86_64.whl (317.1 MB)\r\n",
      "\u001b[2K   \u001b[90m━━━━━━━━━━━━━━━━━━━━━━━━━━━━━━━━━━━━━━━━\u001b[0m \u001b[32m317.1/317.1 MB\u001b[0m \u001b[31m5.3 MB/s\u001b[0m eta \u001b[36m0:00:00\u001b[0m\r\n",
      "\u001b[?25hDownloading nvidia_cuda_nvrtc_cu11-11.7.99-2-py3-none-manylinux1_x86_64.whl (21.0 MB)\r\n",
      "\u001b[2K   \u001b[90m━━━━━━━━━━━━━━━━━━━━━━━━━━━━━━━━━━━━━━━━\u001b[0m \u001b[32m21.0/21.0 MB\u001b[0m \u001b[31m86.7 MB/s\u001b[0m eta \u001b[36m0:00:00\u001b[0m\r\n",
      "\u001b[?25hDownloading nvidia_cuda_runtime_cu11-11.7.99-py3-none-manylinux1_x86_64.whl (849 kB)\r\n",
      "\u001b[2K   \u001b[90m━━━━━━━━━━━━━━━━━━━━━━━━━━━━━━━━━━━━━━━━\u001b[0m \u001b[32m849.3/849.3 kB\u001b[0m \u001b[31m31.0 MB/s\u001b[0m eta \u001b[36m0:00:00\u001b[0m\r\n",
      "\u001b[?25hDownloading nvidia_cudnn_cu11-8.5.0.96-2-py3-none-manylinux1_x86_64.whl (557.1 MB)\r\n",
      "\u001b[2K   \u001b[90m━━━━━━━━━━━━━━━━━━━━━━━━━━━━━━━━━━━━━━━━\u001b[0m \u001b[32m557.1/557.1 MB\u001b[0m \u001b[31m2.4 MB/s\u001b[0m eta \u001b[36m0:00:00\u001b[0m\r\n",
      "\u001b[?25hInstalling collected packages: nvidia-cuda-runtime-cu11, nvidia-cuda-nvrtc-cu11, nvidia-cublas-cu11, nvidia-cudnn-cu11, torch, rtdl\r\n",
      "  Attempting uninstall: torch\r\n",
      "    Found existing installation: torch 2.6.0+cu124\r\n",
      "    Uninstalling torch-2.6.0+cu124:\r\n",
      "      Successfully uninstalled torch-2.6.0+cu124\r\n",
      "\u001b[31mERROR: pip's dependency resolver does not currently take into account all the packages that are installed. This behaviour is the source of the following dependency conflicts.\r\n",
      "torchdata 0.11.0 requires torch>=2, but you have torch 1.13.1 which is incompatible.\r\n",
      "torchmetrics 1.7.1 requires torch>=2.0.0, but you have torch 1.13.1 which is incompatible.\r\n",
      "pytorch-lightning 2.5.1.post0 requires torch>=2.1.0, but you have torch 1.13.1 which is incompatible.\r\n",
      "torchaudio 2.6.0+cu124 requires torch==2.6.0, but you have torch 1.13.1 which is incompatible.\r\n",
      "torchvision 0.21.0+cu124 requires torch==2.6.0, but you have torch 1.13.1 which is incompatible.\r\n",
      "accelerate 1.5.2 requires torch>=2.0.0, but you have torch 1.13.1 which is incompatible.\u001b[0m\u001b[31m\r\n",
      "\u001b[0mSuccessfully installed nvidia-cublas-cu11-11.10.3.66 nvidia-cuda-nvrtc-cu11-11.7.99 nvidia-cuda-runtime-cu11-11.7.99 nvidia-cudnn-cu11-8.5.0.96 rtdl-0.0.13 torch-1.13.1\r\n",
      "Collecting libzero==0.0.4\r\n",
      "  Downloading libzero-0.0.4-py3-none-any.whl.metadata (834 bytes)\r\n",
      "Requirement already satisfied: numpy<2,>=1.17 in /usr/local/lib/python3.11/dist-packages (from libzero==0.0.4) (1.26.4)\r\n",
      "Collecting pynvml<9,>=8.0 (from libzero==0.0.4)\r\n",
      "  Downloading pynvml-8.0.4-py3-none-any.whl.metadata (8.6 kB)\r\n",
      "Requirement already satisfied: torch<2,>=1.6 in /usr/local/lib/python3.11/dist-packages (from libzero==0.0.4) (1.13.1)\r\n",
      "Requirement already satisfied: tqdm<5,>=4.0 in /usr/local/lib/python3.11/dist-packages (from libzero==0.0.4) (4.67.1)\r\n",
      "Requirement already satisfied: mkl_fft in /usr/local/lib/python3.11/dist-packages (from numpy<2,>=1.17->libzero==0.0.4) (1.3.8)\r\n",
      "Requirement already satisfied: mkl_random in /usr/local/lib/python3.11/dist-packages (from numpy<2,>=1.17->libzero==0.0.4) (1.2.4)\r\n",
      "Requirement already satisfied: mkl_umath in /usr/local/lib/python3.11/dist-packages (from numpy<2,>=1.17->libzero==0.0.4) (0.1.1)\r\n",
      "Requirement already satisfied: mkl in /usr/local/lib/python3.11/dist-packages (from numpy<2,>=1.17->libzero==0.0.4) (2025.1.0)\r\n",
      "Requirement already satisfied: tbb4py in /usr/local/lib/python3.11/dist-packages (from numpy<2,>=1.17->libzero==0.0.4) (2022.1.0)\r\n",
      "Requirement already satisfied: mkl-service in /usr/local/lib/python3.11/dist-packages (from numpy<2,>=1.17->libzero==0.0.4) (2.4.1)\r\n",
      "Requirement already satisfied: typing-extensions in /usr/local/lib/python3.11/dist-packages (from torch<2,>=1.6->libzero==0.0.4) (4.13.2)\r\n",
      "Requirement already satisfied: nvidia-cuda-runtime-cu11==11.7.99 in /usr/local/lib/python3.11/dist-packages (from torch<2,>=1.6->libzero==0.0.4) (11.7.99)\r\n",
      "Requirement already satisfied: nvidia-cudnn-cu11==8.5.0.96 in /usr/local/lib/python3.11/dist-packages (from torch<2,>=1.6->libzero==0.0.4) (8.5.0.96)\r\n",
      "Requirement already satisfied: nvidia-cublas-cu11==11.10.3.66 in /usr/local/lib/python3.11/dist-packages (from torch<2,>=1.6->libzero==0.0.4) (11.10.3.66)\r\n",
      "Requirement already satisfied: nvidia-cuda-nvrtc-cu11==11.7.99 in /usr/local/lib/python3.11/dist-packages (from torch<2,>=1.6->libzero==0.0.4) (11.7.99)\r\n",
      "Requirement already satisfied: setuptools in /usr/local/lib/python3.11/dist-packages (from nvidia-cublas-cu11==11.10.3.66->torch<2,>=1.6->libzero==0.0.4) (75.2.0)\r\n",
      "Requirement already satisfied: wheel in /usr/local/lib/python3.11/dist-packages (from nvidia-cublas-cu11==11.10.3.66->torch<2,>=1.6->libzero==0.0.4) (0.45.1)\r\n",
      "Requirement already satisfied: intel-openmp<2026,>=2024 in /usr/local/lib/python3.11/dist-packages (from mkl->numpy<2,>=1.17->libzero==0.0.4) (2024.2.0)\r\n",
      "Requirement already satisfied: tbb==2022.* in /usr/local/lib/python3.11/dist-packages (from mkl->numpy<2,>=1.17->libzero==0.0.4) (2022.1.0)\r\n",
      "Requirement already satisfied: tcmlib==1.* in /usr/local/lib/python3.11/dist-packages (from tbb==2022.*->mkl->numpy<2,>=1.17->libzero==0.0.4) (1.3.0)\r\n",
      "Requirement already satisfied: intel-cmplr-lib-rt in /usr/local/lib/python3.11/dist-packages (from mkl_umath->numpy<2,>=1.17->libzero==0.0.4) (2024.2.0)\r\n",
      "Requirement already satisfied: intel-cmplr-lib-ur==2024.2.0 in /usr/local/lib/python3.11/dist-packages (from intel-openmp<2026,>=2024->mkl->numpy<2,>=1.17->libzero==0.0.4) (2024.2.0)\r\n",
      "Downloading libzero-0.0.4-py3-none-any.whl (26 kB)\r\n",
      "Downloading pynvml-8.0.4-py3-none-any.whl (36 kB)\r\n",
      "Installing collected packages: pynvml, libzero\r\n",
      "  Attempting uninstall: pynvml\r\n",
      "    Found existing installation: pynvml 12.0.0\r\n",
      "    Uninstalling pynvml-12.0.0:\r\n",
      "      Successfully uninstalled pynvml-12.0.0\r\n",
      "\u001b[31mERROR: pip's dependency resolver does not currently take into account all the packages that are installed. This behaviour is the source of the following dependency conflicts.\r\n",
      "ucx-py-cu12 0.42.0 requires pynvml<13.0.0a0,>=12.0.0, but you have pynvml 8.0.4 which is incompatible.\r\n",
      "dask-cudf-cu12 25.2.2 requires pynvml<13.0.0a0,>=12.0.0, but you have pynvml 8.0.4 which is incompatible.\r\n",
      "dask-cuda 25.2.0 requires pynvml<13.0.0a0,>=12.0.0, but you have pynvml 8.0.4 which is incompatible.\r\n",
      "ucxx-cu12 0.42.0 requires pynvml<13.0.0a0,>=12.0.0, but you have pynvml 8.0.4 which is incompatible.\u001b[0m\u001b[31m\r\n",
      "\u001b[0mSuccessfully installed libzero-0.0.4 pynvml-8.0.4\r\n",
      "Requirement already satisfied: optuna in /usr/local/lib/python3.11/dist-packages (4.3.0)\r\n",
      "Requirement already satisfied: alembic>=1.5.0 in /usr/local/lib/python3.11/dist-packages (from optuna) (1.15.2)\r\n",
      "Requirement already satisfied: colorlog in /usr/local/lib/python3.11/dist-packages (from optuna) (6.9.0)\r\n",
      "Requirement already satisfied: numpy in /usr/local/lib/python3.11/dist-packages (from optuna) (1.26.4)\r\n",
      "Requirement already satisfied: packaging>=20.0 in /usr/local/lib/python3.11/dist-packages (from optuna) (25.0)\r\n",
      "Requirement already satisfied: sqlalchemy>=1.4.2 in /usr/local/lib/python3.11/dist-packages (from optuna) (2.0.40)\r\n",
      "Requirement already satisfied: tqdm in /usr/local/lib/python3.11/dist-packages (from optuna) (4.67.1)\r\n",
      "Requirement already satisfied: PyYAML in /usr/local/lib/python3.11/dist-packages (from optuna) (6.0.2)\r\n",
      "Requirement already satisfied: Mako in /usr/local/lib/python3.11/dist-packages (from alembic>=1.5.0->optuna) (1.3.10)\r\n",
      "Requirement already satisfied: typing-extensions>=4.12 in /usr/local/lib/python3.11/dist-packages (from alembic>=1.5.0->optuna) (4.13.2)\r\n",
      "Requirement already satisfied: greenlet>=1 in /usr/local/lib/python3.11/dist-packages (from sqlalchemy>=1.4.2->optuna) (3.1.1)\r\n",
      "Requirement already satisfied: mkl_fft in /usr/local/lib/python3.11/dist-packages (from numpy->optuna) (1.3.8)\r\n",
      "Requirement already satisfied: mkl_random in /usr/local/lib/python3.11/dist-packages (from numpy->optuna) (1.2.4)\r\n",
      "Requirement already satisfied: mkl_umath in /usr/local/lib/python3.11/dist-packages (from numpy->optuna) (0.1.1)\r\n",
      "Requirement already satisfied: mkl in /usr/local/lib/python3.11/dist-packages (from numpy->optuna) (2025.1.0)\r\n",
      "Requirement already satisfied: tbb4py in /usr/local/lib/python3.11/dist-packages (from numpy->optuna) (2022.1.0)\r\n",
      "Requirement already satisfied: mkl-service in /usr/local/lib/python3.11/dist-packages (from numpy->optuna) (2.4.1)\r\n",
      "Requirement already satisfied: MarkupSafe>=0.9.2 in /usr/local/lib/python3.11/dist-packages (from Mako->alembic>=1.5.0->optuna) (3.0.2)\r\n",
      "Requirement already satisfied: intel-openmp<2026,>=2024 in /usr/local/lib/python3.11/dist-packages (from mkl->numpy->optuna) (2024.2.0)\r\n",
      "Requirement already satisfied: tbb==2022.* in /usr/local/lib/python3.11/dist-packages (from mkl->numpy->optuna) (2022.1.0)\r\n",
      "Requirement already satisfied: tcmlib==1.* in /usr/local/lib/python3.11/dist-packages (from tbb==2022.*->mkl->numpy->optuna) (1.3.0)\r\n",
      "Requirement already satisfied: intel-cmplr-lib-rt in /usr/local/lib/python3.11/dist-packages (from mkl_umath->numpy->optuna) (2024.2.0)\r\n",
      "Requirement already satisfied: intel-cmplr-lib-ur==2024.2.0 in /usr/local/lib/python3.11/dist-packages (from intel-openmp<2026,>=2024->mkl->numpy->optuna) (2024.2.0)\r\n"
     ]
    }
   ],
   "source": [
    "!pip install rtdl\n",
    "!pip install libzero==0.0.4\n",
    "!pip install optuna"
   ]
  },
  {
   "cell_type": "code",
   "execution_count": 5,
   "id": "614660ea",
   "metadata": {
    "execution": {
     "iopub.execute_input": "2025-06-29T03:22:18.065348Z",
     "iopub.status.busy": "2025-06-29T03:22:18.065063Z",
     "iopub.status.idle": "2025-06-29T03:22:24.690259Z",
     "shell.execute_reply": "2025-06-29T03:22:24.689251Z"
    },
    "papermill": {
     "duration": 6.646545,
     "end_time": "2025-06-29T03:22:24.691750",
     "exception": false,
     "start_time": "2025-06-29T03:22:18.045205",
     "status": "completed"
    },
    "tags": []
   },
   "outputs": [
    {
     "name": "stdout",
     "output_type": "stream",
     "text": [
      "Utilisation du device: cuda\r\n",
      "Seed: 0\r\n",
      "Données originales: 7043 lignes\r\n",
      "Après nettoyage: 7032 lignes (11 supprimées)\r\n",
      "\r\n",
      "Informations sur les features:\r\n",
      "Features numériques (3): ['tenure', 'MonthlyCharges', 'TotalCharges']\r\n",
      "Variables catégorielles (16): ['gender', 'SeniorCitizen', 'Partner', 'Dependents', 'PhoneService', 'MultipleLines', 'InternetService', 'OnlineSecurity', 'OnlineBackup', 'DeviceProtection', 'TechSupport', 'StreamingTV', 'StreamingMovies', 'Contract', 'PaperlessBilling', 'PaymentMethod']\r\n",
      "Cardinalités des variables catégorielles: [2, 2, 2, 2, 2, 3, 3, 3, 3, 3, 3, 3, 3, 3, 2, 4]\r\n",
      "Distribution des classes: [5163 1869]\r\n",
      "Tailles des ensembles:\r\n",
      "Train: 4781 | Val: 844 | Test: 1407\r\n",
      "Traceback (most recent call last):\r\n",
      "  File \"/kaggle/working/customer-churn-ft_transformer/train/Telecom/train_ftt/train.py\", line 47, in <module>\r\n",
      "    num_embedding = get_num_embedding(\r\n",
      "                    ^^^^^^^^^^^^^^^^^^\r\n",
      "  File \"/kaggle/working/customer-churn-ft_transformer/num_embedding_factory.py\", line 177, in get_num_embedding\r\n",
      "    raise ValueError(f\"Type d'embedding inconnu : {embedding_type}\")\r\n",
      "ValueError: Type d'embedding inconnu : P-LRR\r\n"
     ]
    }
   ],
   "source": [
    "import os\n",
    "\n",
    "# Changer vers le répertoire racine\n",
    "os.chdir('/kaggle/working/customer-churn-ft_transformer')\n",
    "\n",
    "# Utiliser PYTHONPATH pour que train.py trouve les modules\n",
    "!PYTHONPATH=/kaggle/working/customer-churn-ft_transformer python train/Telecom/train_ftt/train.py"
   ]
  },
  {
   "cell_type": "code",
   "execution_count": null,
   "id": "359ee838",
   "metadata": {
    "papermill": {
     "duration": 0.01855,
     "end_time": "2025-06-29T03:22:24.730072",
     "exception": false,
     "start_time": "2025-06-29T03:22:24.711522",
     "status": "completed"
    },
    "tags": []
   },
   "outputs": [],
   "source": []
  },
  {
   "cell_type": "code",
   "execution_count": 6,
   "id": "7982d13a",
   "metadata": {
    "execution": {
     "iopub.execute_input": "2025-06-29T03:22:24.769610Z",
     "iopub.status.busy": "2025-06-29T03:22:24.769332Z",
     "iopub.status.idle": "2025-06-29T03:22:28.775046Z",
     "shell.execute_reply": "2025-06-29T03:22:28.774052Z"
    },
    "papermill": {
     "duration": 4.027143,
     "end_time": "2025-06-29T03:22:28.776462",
     "exception": false,
     "start_time": "2025-06-29T03:22:24.749319",
     "status": "completed"
    },
    "tags": []
   },
   "outputs": [
    {
     "name": "stdout",
     "output_type": "stream",
     "text": [
      "Utilisation du device: cuda\r\n",
      "Seed: 0\r\n",
      "Données originales: 7043 lignes\r\n",
      "Après nettoyage: 7032 lignes (11 supprimées)\r\n",
      "\r\n",
      "Informations sur les features:\r\n",
      "Features numériques (3): ['tenure', 'MonthlyCharges', 'TotalCharges']\r\n",
      "Variables catégorielles (16): ['gender', 'SeniorCitizen', 'Partner', 'Dependents', 'PhoneService', 'MultipleLines', 'InternetService', 'OnlineSecurity', 'OnlineBackup', 'DeviceProtection', 'TechSupport', 'StreamingTV', 'StreamingMovies', 'Contract', 'PaperlessBilling', 'PaymentMethod']\r\n",
      "Cardinalités des variables catégorielles: [2, 2, 2, 2, 2, 3, 3, 3, 3, 3, 3, 3, 3, 3, 2, 4]\r\n",
      "Distribution des classes: [5163 1869]\r\n",
      "Tailles des ensembles:\r\n",
      "Train: 4781 | Val: 844 | Test: 1407\r\n",
      "Traceback (most recent call last):\r\n",
      "  File \"/kaggle/working/customer-churn-ft_transformer/train/Telecom/train_ftt/train.py\", line 47, in <module>\r\n",
      "    num_embedding = get_num_embedding(\r\n",
      "                    ^^^^^^^^^^^^^^^^^^\r\n",
      "  File \"/kaggle/working/customer-churn-ft_transformer/num_embedding_factory.py\", line 177, in get_num_embedding\r\n",
      "    raise ValueError(f\"Type d'embedding inconnu : {embedding_type}\")\r\n",
      "ValueError: Type d'embedding inconnu : P-LRR\r\n"
     ]
    }
   ],
   "source": [
    "import os\n",
    "\n",
    "# Changer vers le répertoire racine\n",
    "os.chdir('/kaggle/working/customer-churn-ft_transformer')\n",
    "\n",
    "# Utiliser PYTHONPATH pour que train.py trouve les modules\n",
    "!PYTHONPATH=/kaggle/working/customer-churn-ft_transformer python train/Telecom/train_ftt/train.py"
   ]
  },
  {
   "cell_type": "code",
   "execution_count": 7,
   "id": "cd10e001",
   "metadata": {
    "execution": {
     "iopub.execute_input": "2025-06-29T03:22:28.818426Z",
     "iopub.status.busy": "2025-06-29T03:22:28.817839Z",
     "iopub.status.idle": "2025-06-29T03:22:32.797617Z",
     "shell.execute_reply": "2025-06-29T03:22:32.796688Z"
    },
    "papermill": {
     "duration": 4.002456,
     "end_time": "2025-06-29T03:22:32.799185",
     "exception": false,
     "start_time": "2025-06-29T03:22:28.796729",
     "status": "completed"
    },
    "tags": []
   },
   "outputs": [
    {
     "name": "stdout",
     "output_type": "stream",
     "text": [
      "Utilisation du device: cuda\r\n",
      "Seed: 0\r\n",
      "Données originales: 7043 lignes\r\n",
      "Après nettoyage: 7032 lignes (11 supprimées)\r\n",
      "\r\n",
      "Informations sur les features:\r\n",
      "Features numériques (3): ['tenure', 'MonthlyCharges', 'TotalCharges']\r\n",
      "Variables catégorielles (16): ['gender', 'SeniorCitizen', 'Partner', 'Dependents', 'PhoneService', 'MultipleLines', 'InternetService', 'OnlineSecurity', 'OnlineBackup', 'DeviceProtection', 'TechSupport', 'StreamingTV', 'StreamingMovies', 'Contract', 'PaperlessBilling', 'PaymentMethod']\r\n",
      "Cardinalités des variables catégorielles: [2, 2, 2, 2, 2, 3, 3, 3, 3, 3, 3, 3, 3, 3, 2, 4]\r\n",
      "Distribution des classes: [5163 1869]\r\n",
      "Tailles des ensembles:\r\n",
      "Train: 4781 | Val: 844 | Test: 1407\r\n",
      "Traceback (most recent call last):\r\n",
      "  File \"/kaggle/working/customer-churn-ft_transformer/train/Telecom/train_ftt/train.py\", line 47, in <module>\r\n",
      "    num_embedding = get_num_embedding(\r\n",
      "                    ^^^^^^^^^^^^^^^^^^\r\n",
      "  File \"/kaggle/working/customer-churn-ft_transformer/num_embedding_factory.py\", line 177, in get_num_embedding\r\n",
      "    raise ValueError(f\"Type d'embedding inconnu : {embedding_type}\")\r\n",
      "ValueError: Type d'embedding inconnu : P-LRR\r\n"
     ]
    }
   ],
   "source": [
    "import os\n",
    "\n",
    "# Changer vers le répertoire racine\n",
    "os.chdir('/kaggle/working/customer-churn-ft_transformer')\n",
    "\n",
    "# Utiliser PYTHONPATH pour que train.py trouve les modules\n",
    "!PYTHONPATH=/kaggle/working/customer-churn-ft_transformer python train/Telecom/train_ftt/train.py"
   ]
  },
  {
   "cell_type": "code",
   "execution_count": 8,
   "id": "14fa8845",
   "metadata": {
    "execution": {
     "iopub.execute_input": "2025-06-29T03:22:32.840205Z",
     "iopub.status.busy": "2025-06-29T03:22:32.839556Z",
     "iopub.status.idle": "2025-06-29T03:22:36.822557Z",
     "shell.execute_reply": "2025-06-29T03:22:36.821847Z"
    },
    "papermill": {
     "duration": 4.004804,
     "end_time": "2025-06-29T03:22:36.824130",
     "exception": false,
     "start_time": "2025-06-29T03:22:32.819326",
     "status": "completed"
    },
    "tags": []
   },
   "outputs": [
    {
     "name": "stdout",
     "output_type": "stream",
     "text": [
      "Utilisation du device: cuda\r\n",
      "Seed: 0\r\n",
      "Données originales: 7043 lignes\r\n",
      "Après nettoyage: 7032 lignes (11 supprimées)\r\n",
      "\r\n",
      "Informations sur les features:\r\n",
      "Features numériques (3): ['tenure', 'MonthlyCharges', 'TotalCharges']\r\n",
      "Variables catégorielles (16): ['gender', 'SeniorCitizen', 'Partner', 'Dependents', 'PhoneService', 'MultipleLines', 'InternetService', 'OnlineSecurity', 'OnlineBackup', 'DeviceProtection', 'TechSupport', 'StreamingTV', 'StreamingMovies', 'Contract', 'PaperlessBilling', 'PaymentMethod']\r\n",
      "Cardinalités des variables catégorielles: [2, 2, 2, 2, 2, 3, 3, 3, 3, 3, 3, 3, 3, 3, 2, 4]\r\n",
      "Distribution des classes: [5163 1869]\r\n",
      "Tailles des ensembles:\r\n",
      "Train: 4781 | Val: 844 | Test: 1407\r\n",
      "Traceback (most recent call last):\r\n",
      "  File \"/kaggle/working/customer-churn-ft_transformer/train/Telecom/train_ftt/train.py\", line 47, in <module>\r\n",
      "    num_embedding = get_num_embedding(\r\n",
      "                    ^^^^^^^^^^^^^^^^^^\r\n",
      "  File \"/kaggle/working/customer-churn-ft_transformer/num_embedding_factory.py\", line 177, in get_num_embedding\r\n",
      "    raise ValueError(f\"Type d'embedding inconnu : {embedding_type}\")\r\n",
      "ValueError: Type d'embedding inconnu : P-LRR\r\n"
     ]
    }
   ],
   "source": [
    "import os\n",
    "\n",
    "# Changer vers le répertoire racine\n",
    "os.chdir('/kaggle/working/customer-churn-ft_transformer')\n",
    "\n",
    "# Utiliser PYTHONPATH pour que train.py trouve les modules\n",
    "!PYTHONPATH=/kaggle/working/customer-churn-ft_transformer python train/Telecom/train_ftt/train.py"
   ]
  },
  {
   "cell_type": "code",
   "execution_count": null,
   "id": "983594b3",
   "metadata": {
    "papermill": {
     "duration": 0.019271,
     "end_time": "2025-06-29T03:22:36.863792",
     "exception": false,
     "start_time": "2025-06-29T03:22:36.844521",
     "status": "completed"
    },
    "tags": []
   },
   "outputs": [],
   "source": []
  }
 ],
 "metadata": {
  "kaggle": {
   "accelerator": "gpu",
   "dataSources": [],
   "dockerImageVersionId": 31041,
   "isGpuEnabled": true,
   "isInternetEnabled": true,
   "language": "python",
   "sourceType": "notebook"
  },
  "kernelspec": {
   "display_name": "Python 3",
   "language": "python",
   "name": "python3"
  },
  "language_info": {
   "codemirror_mode": {
    "name": "ipython",
    "version": 3
   },
   "file_extension": ".py",
   "mimetype": "text/x-python",
   "name": "python",
   "nbconvert_exporter": "python",
   "pygments_lexer": "ipython3",
   "version": "3.11.11"
  },
  "papermill": {
   "default_parameters": {},
   "duration": 116.912453,
   "end_time": "2025-06-29T03:22:37.199960",
   "environment_variables": {},
   "exception": null,
   "input_path": "__notebook__.ipynb",
   "output_path": "__notebook__.ipynb",
   "parameters": {},
   "start_time": "2025-06-29T03:20:40.287507",
   "version": "2.6.0"
  }
 },
 "nbformat": 4,
 "nbformat_minor": 5
}
