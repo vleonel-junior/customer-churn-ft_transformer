{
 "cells": [
  {
   "cell_type": "code",
   "execution_count": 1,
   "id": "7ba1d3a3",
   "metadata": {
    "_cell_guid": "b1076dfc-b9ad-4769-8c92-a6c4dae69d19",
    "_uuid": "8f2839f25d086af736a60e9eeb907d3b93b6e0e5",
    "execution": {
     "iopub.execute_input": "2025-06-30T22:30:57.319698Z",
     "iopub.status.busy": "2025-06-30T22:30:57.319353Z",
     "iopub.status.idle": "2025-06-30T22:30:58.609376Z",
     "shell.execute_reply": "2025-06-30T22:30:58.608195Z"
    },
    "papermill": {
     "duration": 1.297426,
     "end_time": "2025-06-30T22:30:58.611229",
     "exception": false,
     "start_time": "2025-06-30T22:30:57.313803",
     "status": "completed"
    },
    "tags": []
   },
   "outputs": [
    {
     "name": "stdout",
     "output_type": "stream",
     "text": [
      "Cloning into 'customer-churn-ft_transformer'...\r\n",
      "remote: Enumerating objects: 376, done.\u001b[K\r\n",
      "remote: Counting objects: 100% (68/68), done.\u001b[K\r\n",
      "remote: Compressing objects: 100% (34/34), done.\u001b[K\r\n",
      "remote: Total 376 (delta 29), reused 55 (delta 20), pack-reused 308 (from 1)\u001b[K\r\n",
      "Receiving objects: 100% (376/376), 609.67 KiB | 15.24 MiB/s, done.\r\n",
      "Resolving deltas: 100% (173/173), done.\r\n"
     ]
    }
   ],
   "source": [
    "!git clone https://github.com/vleonel-junior/customer-churn-ft_transformer.git"
   ]
  },
  {
   "cell_type": "code",
   "execution_count": 2,
   "id": "39e41db8",
   "metadata": {
    "execution": {
     "iopub.execute_input": "2025-06-30T22:30:58.621827Z",
     "iopub.status.busy": "2025-06-30T22:30:58.621409Z",
     "iopub.status.idle": "2025-06-30T22:30:58.626474Z",
     "shell.execute_reply": "2025-06-30T22:30:58.625481Z"
    },
    "papermill": {
     "duration": 0.011978,
     "end_time": "2025-06-30T22:30:58.628025",
     "exception": false,
     "start_time": "2025-06-30T22:30:58.616047",
     "status": "completed"
    },
    "tags": []
   },
   "outputs": [],
   "source": [
    "import sys\n",
    "sys.path.append('/kaggle/working/customer-churn-ft_transformer')"
   ]
  },
  {
   "cell_type": "code",
   "execution_count": 3,
   "id": "2f949f4c",
   "metadata": {
    "execution": {
     "iopub.execute_input": "2025-06-30T22:30:58.637836Z",
     "iopub.status.busy": "2025-06-30T22:30:58.637134Z",
     "iopub.status.idle": "2025-06-30T22:30:58.988238Z",
     "shell.execute_reply": "2025-06-30T22:30:58.986871Z"
    },
    "papermill": {
     "duration": 0.357883,
     "end_time": "2025-06-30T22:30:58.990127",
     "exception": false,
     "start_time": "2025-06-30T22:30:58.632244",
     "status": "completed"
    },
    "tags": []
   },
   "outputs": [
    {
     "name": "stdout",
     "output_type": "stream",
     "text": [
      "/kaggle/working/customer-churn-ft_transformer\r\n",
      "total 124\r\n",
      "drwxr-xr-x 8 root root  4096 Jun 30 22:30 .\r\n",
      "drwxr-xr-x 3 root root  4096 Jun 30 22:30 ..\r\n",
      "drwxr-xr-x 3 root root  4096 Jun 30 22:30 data\r\n",
      "-rw-r--r-- 1 root root 72435 Jun 30 22:30 Experiments.ipynb\r\n",
      "drwxr-xr-x 2 root root  4096 Jun 30 22:30 ftt_plus\r\n",
      "drwxr-xr-x 8 root root  4096 Jun 30 22:30 .git\r\n",
      "-rw-r--r-- 1 root root     0 Jun 30 22:30 model.py\r\n",
      "-rw-r--r-- 1 root root  7403 Jun 30 22:30 num_embedding_factory.py\r\n",
      "drwxr-xr-x 2 root root  4096 Jun 30 22:30 __pycache__\r\n",
      "-rw-r--r-- 1 root root    32 Jun 30 22:30 README.md\r\n",
      "drwxr-xr-x 5 root root  4096 Jun 30 22:30 rtdl_lib\r\n",
      "-rw-r--r-- 1 root root   788 Jun 30 22:30 test.ipynb\r\n",
      "drwxr-xr-x 3 root root  4096 Jun 30 22:30 train\r\n",
      "-rw-r--r-- 1 root root  2213 Jun 30 22:30 utils.py\r\n",
      "total 968\r\n",
      "drwxr-xr-x 3 root root   4096 Jun 30 22:30 .\r\n",
      "drwxr-xr-x 8 root root   4096 Jun 30 22:30 ..\r\n",
      "-rw-r--r-- 1 root root   4224 Jun 30 22:30 process_telecom_data.py\r\n",
      "drwxr-xr-x 2 root root   4096 Jun 30 22:30 __pycache__\r\n",
      "-rw-r--r-- 1 root root 970457 Jun 30 22:30 Telco_Customer_Churn.csv\r\n",
      "-rw-r--r-- 1 root root      0 Jun 30 22:30 utils.py\r\n"
     ]
    }
   ],
   "source": [
    "# Le bon chemin est directement :\n",
    "import os\n",
    "os.chdir('/kaggle/working/customer-churn-ft_transformer')\n",
    "\n",
    "# Vérifier que vous êtes au bon endroit\n",
    "!pwd\n",
    "!ls -la\n",
    "\n",
    "# Vérifier que les datasets sont là\n",
    "!ls -la data/"
   ]
  },
  {
   "cell_type": "code",
   "execution_count": 4,
   "id": "2bfb7569",
   "metadata": {
    "execution": {
     "iopub.execute_input": "2025-06-30T22:30:59.000921Z",
     "iopub.status.busy": "2025-06-30T22:30:59.000579Z",
     "iopub.status.idle": "2025-06-30T22:32:41.249659Z",
     "shell.execute_reply": "2025-06-30T22:32:41.248660Z"
    },
    "papermill": {
     "duration": 102.25693,
     "end_time": "2025-06-30T22:32:41.251478",
     "exception": false,
     "start_time": "2025-06-30T22:30:58.994548",
     "status": "completed"
    },
    "tags": []
   },
   "outputs": [
    {
     "name": "stdout",
     "output_type": "stream",
     "text": [
      "Installation de libzero réussie\r\n",
      "Installation de optuna réussie\r\n"
     ]
    }
   ],
   "source": [
    "!pip install libzero==0.0.4 -qqq > /dev/null 2>&1 && echo 'Installation de libzero réussie'\n",
    "!pip install optuna -qqq > /dev/null 2>&1 && echo 'Installation de optuna réussie'"
   ]
  },
  {
   "cell_type": "code",
   "execution_count": null,
   "id": "148e8d8d",
   "metadata": {
    "papermill": {
     "duration": 0.004064,
     "end_time": "2025-06-30T22:32:41.260417",
     "exception": false,
     "start_time": "2025-06-30T22:32:41.256353",
     "status": "completed"
    },
    "tags": []
   },
   "outputs": [],
   "source": []
  },
  {
   "cell_type": "markdown",
   "id": "1eff53be",
   "metadata": {
    "papermill": {
     "duration": 0.003777,
     "end_time": "2025-06-30T22:32:41.268401",
     "exception": false,
     "start_time": "2025-06-30T22:32:41.264624",
     "status": "completed"
    },
    "tags": []
   },
   "source": [
    "# Modèle FT-T"
   ]
  },
  {
   "cell_type": "code",
   "execution_count": 5,
   "id": "0e184817",
   "metadata": {
    "execution": {
     "iopub.execute_input": "2025-06-30T22:32:41.278251Z",
     "iopub.status.busy": "2025-06-30T22:32:41.277907Z",
     "iopub.status.idle": "2025-06-30T22:32:48.285325Z",
     "shell.execute_reply": "2025-06-30T22:32:48.284293Z"
    },
    "papermill": {
     "duration": 7.014623,
     "end_time": "2025-06-30T22:32:48.287086",
     "exception": false,
     "start_time": "2025-06-30T22:32:41.272463",
     "status": "completed"
    },
    "tags": []
   },
   "outputs": [
    {
     "name": "stdout",
     "output_type": "stream",
     "text": [
      "Utilisation du device: cpu\r\n",
      "Seed: 0\r\n",
      "Données originales: 7043 lignes\r\n",
      "Après nettoyage: 7032 lignes (11 supprimées)\r\n",
      "\r\n",
      "Informations sur les features:\r\n",
      "Features numériques (3): ['tenure', 'MonthlyCharges', 'TotalCharges']\r\n",
      "Variables catégorielles (16): ['gender', 'SeniorCitizen', 'Partner', 'Dependents', 'PhoneService', 'MultipleLines', 'InternetService', 'OnlineSecurity', 'OnlineBackup', 'DeviceProtection', 'TechSupport', 'StreamingTV', 'StreamingMovies', 'Contract', 'PaperlessBilling', 'PaymentMethod']\r\n",
      "Cardinalités des variables catégorielles: [2, 2, 2, 2, 2, 3, 3, 3, 3, 3, 3, 3, 3, 3, 2, 4]\r\n",
      "Distribution des classes: [5163 1869]\r\n",
      "Tailles des ensembles:\r\n",
      "Train: 4781 | Val: 844 | Test: 1407\r\n",
      "Type d'embedding numérique: T-LR\r\n",
      "Nombre de paramètres: 906,625\r\n",
      "\r\n",
      "=== Début de l'entraînement ===\r\n",
      "/kaggle/working/customer-churn-ft_transformer/rtdl_lib/data.py:308: UserWarning: torch.searchsorted(): input value tensor is non-contiguous, this will lower the performance due to extra data copy when converting non-contiguous tensor to contiguous, please use contiguous input value tensor if possible. This message will only appear once per program. (Triggered internally at ../aten/src/ATen/native/BucketizationUtils.h:33.)\r\n",
      "  torch.bucketize(\r\n",
      "Traceback (most recent call last):\r\n",
      "  File \"/kaggle/working/customer-churn-ft_transformer/train/Telecom/train_ftt/train.py\", line 89, in <module>\r\n",
      "    train_loss = train(epoch, model, optimizer, X, y, train_loader, loss_fn)\r\n",
      "                 ^^^^^^^^^^^^^^^^^^^^^^^^^^^^^^^^^^^^^^^^^^^^^^^^^^^^^^^^^^^\r\n",
      "  File \"/kaggle/working/customer-churn-ft_transformer/train/Telecom/train_ftt/train_funct.py\", line 56, in train\r\n",
      "    output = apply_model(model, x_num_batch, x_cat_batch).squeeze(1)\r\n",
      "             ^^^^^^^^^^^^^^^^^^^^^^^^^^^^^^^^^^^^^^^^^^^^\r\n",
      "  File \"/kaggle/working/customer-churn-ft_transformer/train/Telecom/train_ftt/train_funct.py\", line 8, in apply_model\r\n",
      "    return model(x_num, x_cat)\r\n",
      "           ^^^^^^^^^^^^^^^^^^^\r\n",
      "  File \"/usr/local/lib/python3.11/dist-packages/torch/nn/modules/module.py\", line 1194, in _call_impl\r\n",
      "    return forward_call(*input, **kwargs)\r\n",
      "           ^^^^^^^^^^^^^^^^^^^^^^^^^^^^^^\r\n",
      "  File \"/kaggle/working/customer-churn-ft_transformer/rtdl_lib/modules.py\", line 1485, in forward\r\n",
      "    x = self.feature_tokenizer(x_num, x_cat)\r\n",
      "        ^^^^^^^^^^^^^^^^^^^^^^^^^^^^^^^^^^^^\r\n",
      "  File \"/usr/local/lib/python3.11/dist-packages/torch/nn/modules/module.py\", line 1194, in _call_impl\r\n",
      "    return forward_call(*input, **kwargs)\r\n",
      "           ^^^^^^^^^^^^^^^^^^^^^^^^^^^^^^\r\n",
      "  File \"/kaggle/working/customer-churn-ft_transformer/rtdl_lib/modules.py\", line 362, in forward\r\n",
      "    x.append(self.num_tokenizer(x_num))\r\n",
      "             ^^^^^^^^^^^^^^^^^^^^^^^^^\r\n",
      "  File \"/usr/local/lib/python3.11/dist-packages/torch/nn/modules/module.py\", line 1194, in _call_impl\r\n",
      "    return forward_call(*input, **kwargs)\r\n",
      "           ^^^^^^^^^^^^^^^^^^^^^^^^^^^^^^\r\n",
      "  File \"/usr/local/lib/python3.11/dist-packages/torch/nn/modules/container.py\", line 204, in forward\r\n",
      "    input = module(input)\r\n",
      "            ^^^^^^^^^^^^^\r\n",
      "  File \"/usr/local/lib/python3.11/dist-packages/torch/nn/modules/module.py\", line 1194, in _call_impl\r\n",
      "    return forward_call(*input, **kwargs)\r\n",
      "           ^^^^^^^^^^^^^^^^^^^^^^^^^^^^^^\r\n",
      "  File \"/kaggle/working/customer-churn-ft_transformer/rtdl_lib/nn/_embeddings.py\", line 364, in forward\r\n",
      "    return compute_piecewise_linear_encoding(x, bin_edges, stack=self.stack)\r\n",
      "           ^^^^^^^^^^^^^^^^^^^^^^^^^^^^^^^^^^^^^^^^^^^^^^^^^^^^^^^^^^^^^^^^^\r\n",
      "  File \"/kaggle/working/customer-churn-ft_transformer/rtdl_lib/data.py\", line 681, in compute_piecewise_linear_encoding\r\n",
      "    return piecewise_linear_encoding(\r\n",
      "           ^^^^^^^^^^^^^^^^^^^^^^^^^^\r\n",
      "  File \"/kaggle/working/customer-churn-ft_transformer/rtdl_lib/data.py\", line 618, in piecewise_linear_encoding\r\n",
      "    is_last_bin = bin_indices + 1 == as_tensor(list(map(len, bin_edges)))\r\n",
      "                  ^^^^^^^^^^^^^^^^^^^^^^^^^^^^^^^^^^^^^^^^^^^^^^^^^^^^^^^\r\n",
      "RuntimeError: The size of tensor a (3) must match the size of tensor b (64) at non-singleton dimension 1\r\n"
     ]
    }
   ],
   "source": [
    "import os\n",
    "\n",
    "# Changer vers le répertoire racine\n",
    "os.chdir('/kaggle/working/customer-churn-ft_transformer')\n",
    "\n",
    "# Utiliser PYTHONPATH pour que train.py trouve les modules\n",
    "!PYTHONPATH=/kaggle/working/customer-churn-ft_transformer python train/Telecom/train_ftt/train.py"
   ]
  },
  {
   "cell_type": "code",
   "execution_count": null,
   "id": "38aa4562",
   "metadata": {
    "papermill": {
     "duration": 0.004277,
     "end_time": "2025-06-30T22:32:48.296235",
     "exception": false,
     "start_time": "2025-06-30T22:32:48.291958",
     "status": "completed"
    },
    "tags": []
   },
   "outputs": [],
   "source": []
  },
  {
   "cell_type": "code",
   "execution_count": null,
   "id": "ed65a091",
   "metadata": {
    "papermill": {
     "duration": 0.00412,
     "end_time": "2025-06-30T22:32:48.304894",
     "exception": false,
     "start_time": "2025-06-30T22:32:48.300774",
     "status": "completed"
    },
    "tags": []
   },
   "outputs": [],
   "source": []
  },
  {
   "cell_type": "code",
   "execution_count": null,
   "id": "0729e85f",
   "metadata": {
    "papermill": {
     "duration": 0.004211,
     "end_time": "2025-06-30T22:32:48.313463",
     "exception": false,
     "start_time": "2025-06-30T22:32:48.309252",
     "status": "completed"
    },
    "tags": []
   },
   "outputs": [],
   "source": []
  },
  {
   "cell_type": "markdown",
   "id": "c2a8c5a6",
   "metadata": {
    "papermill": {
     "duration": 0.00424,
     "end_time": "2025-06-30T22:32:48.322034",
     "exception": false,
     "start_time": "2025-06-30T22:32:48.317794",
     "status": "completed"
    },
    "tags": []
   },
   "source": [
    "# Modèle FT-T Plus *Interprétable*"
   ]
  },
  {
   "cell_type": "code",
   "execution_count": 6,
   "id": "b37ab29b",
   "metadata": {
    "execution": {
     "iopub.execute_input": "2025-06-30T22:32:48.333279Z",
     "iopub.status.busy": "2025-06-30T22:32:48.332980Z",
     "iopub.status.idle": "2025-06-30T22:32:53.141096Z",
     "shell.execute_reply": "2025-06-30T22:32:53.139933Z"
    },
    "papermill": {
     "duration": 4.816158,
     "end_time": "2025-06-30T22:32:53.143233",
     "exception": false,
     "start_time": "2025-06-30T22:32:48.327075",
     "status": "completed"
    },
    "tags": []
   },
   "outputs": [
    {
     "name": "stdout",
     "output_type": "stream",
     "text": [
      "Traceback (most recent call last):\r\n",
      "  File \"/kaggle/working/customer-churn-ft_transformer/train/Telecom/train_ftt_plus/train.py\", line 8, in <module>\r\n",
      "    from ftt_plus.model import InterpretableFTTPlus\r\n",
      "  File \"/kaggle/working/customer-churn-ft_transformer/ftt_plus/model.py\", line 14, in <module>\r\n",
      "    from rtdl_lib.nn._backbones import FeedForward\r\n",
      "ImportError: cannot import name 'FeedForward' from 'rtdl_lib.nn._backbones' (/kaggle/working/customer-churn-ft_transformer/rtdl_lib/nn/_backbones.py)\r\n"
     ]
    }
   ],
   "source": [
    "import os\n",
    "\n",
    "# Changer vers le répertoire racine\n",
    "os.chdir('/kaggle/working/customer-churn-ft_transformer')\n",
    "\n",
    "# Utiliser PYTHONPATH pour que train.py trouve les modules\n",
    "!PYTHONPATH=/kaggle/working/customer-churn-ft_transformer python train/Telecom/train_ftt_plus/train.py"
   ]
  },
  {
   "cell_type": "code",
   "execution_count": null,
   "id": "b29404fa",
   "metadata": {
    "papermill": {
     "duration": 0.004443,
     "end_time": "2025-06-30T22:32:53.152407",
     "exception": false,
     "start_time": "2025-06-30T22:32:53.147964",
     "status": "completed"
    },
    "tags": []
   },
   "outputs": [],
   "source": []
  },
  {
   "cell_type": "code",
   "execution_count": null,
   "id": "3873fc95",
   "metadata": {
    "papermill": {
     "duration": 0.00428,
     "end_time": "2025-06-30T22:32:53.161316",
     "exception": false,
     "start_time": "2025-06-30T22:32:53.157036",
     "status": "completed"
    },
    "tags": []
   },
   "outputs": [],
   "source": []
  },
  {
   "cell_type": "code",
   "execution_count": null,
   "id": "c30a0baf",
   "metadata": {
    "papermill": {
     "duration": 0.004285,
     "end_time": "2025-06-30T22:32:53.170088",
     "exception": false,
     "start_time": "2025-06-30T22:32:53.165803",
     "status": "completed"
    },
    "tags": []
   },
   "outputs": [],
   "source": []
  },
  {
   "cell_type": "markdown",
   "id": "dfd0abc9",
   "metadata": {
    "papermill": {
     "duration": 0.004398,
     "end_time": "2025-06-30T22:32:53.178943",
     "exception": false,
     "start_time": "2025-06-30T22:32:53.174545",
     "status": "completed"
    },
    "tags": []
   },
   "source": [
    "# Modèle FT-T Random *Interprétable*"
   ]
  },
  {
   "cell_type": "code",
   "execution_count": 7,
   "id": "a62416ee",
   "metadata": {
    "execution": {
     "iopub.execute_input": "2025-06-30T22:32:53.189436Z",
     "iopub.status.busy": "2025-06-30T22:32:53.189090Z",
     "iopub.status.idle": "2025-06-30T22:32:53.432191Z",
     "shell.execute_reply": "2025-06-30T22:32:53.431075Z"
    },
    "papermill": {
     "duration": 0.250637,
     "end_time": "2025-06-30T22:32:53.434050",
     "exception": false,
     "start_time": "2025-06-30T22:32:53.183413",
     "status": "completed"
    },
    "tags": []
   },
   "outputs": [
    {
     "name": "stdout",
     "output_type": "stream",
     "text": [
      "python3: can't open file '/kaggle/working/customer-churn-ft_transformer/train/Telecom/train_ftt_random/train.py': [Errno 2] No such file or directory\r\n"
     ]
    }
   ],
   "source": [
    "import os\n",
    "\n",
    "# Changer vers le répertoire racine\n",
    "os.chdir('/kaggle/working/customer-churn-ft_transformer')\n",
    "\n",
    "# Utiliser PYTHONPATH pour que train.py trouve les modules\n",
    "!PYTHONPATH=/kaggle/working/customer-churn-ft_transformer python train/Telecom/train_ftt_random/train.py"
   ]
  },
  {
   "cell_type": "code",
   "execution_count": null,
   "id": "02c4461c",
   "metadata": {
    "papermill": {
     "duration": 0.004428,
     "end_time": "2025-06-30T22:32:53.443495",
     "exception": false,
     "start_time": "2025-06-30T22:32:53.439067",
     "status": "completed"
    },
    "tags": []
   },
   "outputs": [],
   "source": []
  },
  {
   "cell_type": "code",
   "execution_count": null,
   "id": "cc63bdad",
   "metadata": {
    "papermill": {
     "duration": 0.0044,
     "end_time": "2025-06-30T22:32:53.452672",
     "exception": false,
     "start_time": "2025-06-30T22:32:53.448272",
     "status": "completed"
    },
    "tags": []
   },
   "outputs": [],
   "source": []
  },
  {
   "cell_type": "code",
   "execution_count": null,
   "id": "1622b660",
   "metadata": {
    "papermill": {
     "duration": 0.004369,
     "end_time": "2025-06-30T22:32:53.461714",
     "exception": false,
     "start_time": "2025-06-30T22:32:53.457345",
     "status": "completed"
    },
    "tags": []
   },
   "outputs": [],
   "source": []
  },
  {
   "cell_type": "markdown",
   "id": "4fdd52e1",
   "metadata": {
    "papermill": {
     "duration": 0.004424,
     "end_time": "2025-06-30T22:32:53.470700",
     "exception": false,
     "start_time": "2025-06-30T22:32:53.466276",
     "status": "completed"
    },
    "tags": []
   },
   "source": [
    "# Modèle FT-T Plus Plus *Interprétable*"
   ]
  },
  {
   "cell_type": "code",
   "execution_count": 8,
   "id": "b9c92bcd",
   "metadata": {
    "execution": {
     "iopub.execute_input": "2025-06-30T22:32:53.481394Z",
     "iopub.status.busy": "2025-06-30T22:32:53.481042Z",
     "iopub.status.idle": "2025-06-30T22:32:53.723524Z",
     "shell.execute_reply": "2025-06-30T22:32:53.722389Z"
    },
    "papermill": {
     "duration": 0.250163,
     "end_time": "2025-06-30T22:32:53.725350",
     "exception": false,
     "start_time": "2025-06-30T22:32:53.475187",
     "status": "completed"
    },
    "tags": []
   },
   "outputs": [
    {
     "name": "stdout",
     "output_type": "stream",
     "text": [
      "python3: can't open file '/kaggle/working/customer-churn-ft_transformer/train/Telecom/train_ftt_plus_plus/train.py': [Errno 2] No such file or directory\r\n"
     ]
    }
   ],
   "source": [
    "import os\n",
    "\n",
    "# Changer vers le répertoire racine\n",
    "os.chdir('/kaggle/working/customer-churn-ft_transformer')\n",
    "\n",
    "# Utiliser PYTHONPATH pour que train.py trouve les modules\n",
    "!PYTHONPATH=/kaggle/working/customer-churn-ft_transformer python train/Telecom/train_ftt_plus_plus/train.py"
   ]
  },
  {
   "cell_type": "code",
   "execution_count": null,
   "id": "2b1229f8",
   "metadata": {
    "papermill": {
     "duration": 0.004515,
     "end_time": "2025-06-30T22:32:53.734822",
     "exception": false,
     "start_time": "2025-06-30T22:32:53.730307",
     "status": "completed"
    },
    "tags": []
   },
   "outputs": [],
   "source": []
  },
  {
   "cell_type": "code",
   "execution_count": null,
   "id": "81b6b417",
   "metadata": {
    "papermill": {
     "duration": 0.004417,
     "end_time": "2025-06-30T22:32:53.744054",
     "exception": false,
     "start_time": "2025-06-30T22:32:53.739637",
     "status": "completed"
    },
    "tags": []
   },
   "outputs": [],
   "source": []
  },
  {
   "cell_type": "code",
   "execution_count": null,
   "id": "a8bfb8ec",
   "metadata": {
    "papermill": {
     "duration": 0.004459,
     "end_time": "2025-06-30T22:32:53.753162",
     "exception": false,
     "start_time": "2025-06-30T22:32:53.748703",
     "status": "completed"
    },
    "tags": []
   },
   "outputs": [],
   "source": []
  }
 ],
 "metadata": {
  "kaggle": {
   "accelerator": "none",
   "dataSources": [],
   "dockerImageVersionId": 31040,
   "isGpuEnabled": false,
   "isInternetEnabled": true,
   "language": "python",
   "sourceType": "notebook"
  },
  "kernelspec": {
   "display_name": "Python 3",
   "language": "python",
   "name": "python3"
  },
  "language_info": {
   "codemirror_mode": {
    "name": "ipython",
    "version": 3
   },
   "file_extension": ".py",
   "mimetype": "text/x-python",
   "name": "python",
   "nbconvert_exporter": "python",
   "pygments_lexer": "ipython3",
   "version": "3.11.11"
  },
  "papermill": {
   "default_parameters": {},
   "duration": 121.495663,
   "end_time": "2025-06-30T22:32:54.176861",
   "environment_variables": {},
   "exception": null,
   "input_path": "__notebook__.ipynb",
   "output_path": "__notebook__.ipynb",
   "parameters": {},
   "start_time": "2025-06-30T22:30:52.681198",
   "version": "2.6.0"
  }
 },
 "nbformat": 4,
 "nbformat_minor": 5
}
