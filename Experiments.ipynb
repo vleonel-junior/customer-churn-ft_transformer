{
 "cells": [
  {
   "cell_type": "code",
   "execution_count": 1,
   "id": "ff7e4acb",
   "metadata": {
    "_cell_guid": "b1076dfc-b9ad-4769-8c92-a6c4dae69d19",
    "_uuid": "8f2839f25d086af736a60e9eeb907d3b93b6e0e5",
    "execution": {
     "iopub.execute_input": "2025-07-24T01:10:29.833748Z",
     "iopub.status.busy": "2025-07-24T01:10:29.833443Z",
     "iopub.status.idle": "2025-07-24T01:10:31.047250Z",
     "shell.execute_reply": "2025-07-24T01:10:31.045761Z"
    },
    "papermill": {
     "duration": 1.225372,
     "end_time": "2025-07-24T01:10:31.049788",
     "exception": false,
     "start_time": "2025-07-24T01:10:29.824416",
     "status": "completed"
    },
    "tags": []
   },
   "outputs": [
    {
     "name": "stdout",
     "output_type": "stream",
     "text": [
      "Cloning into 'customer-churn-ft_transformer'...\r\n",
      "remote: Enumerating objects: 1004, done.\u001b[K\r\n",
      "remote: Counting objects: 100% (48/48), done.\u001b[K\r\n",
      "remote: Compressing objects: 100% (39/39), done.\u001b[K\r\n",
      "remote: Total 1004 (delta 17), reused 33 (delta 7), pack-reused 956 (from 1)\u001b[K\r\n",
      "Receiving objects: 100% (1004/1004), 3.91 MiB | 18.91 MiB/s, done.\r\n",
      "Resolving deltas: 100% (498/498), done.\r\n"
     ]
    }
   ],
   "source": [
    "!git clone https://github.com/vleonel-junior/customer-churn-ft_transformer.git"
   ]
  },
  {
   "cell_type": "code",
   "execution_count": 2,
   "id": "6502c4b0",
   "metadata": {
    "execution": {
     "iopub.execute_input": "2025-07-24T01:10:31.064541Z",
     "iopub.status.busy": "2025-07-24T01:10:31.064202Z",
     "iopub.status.idle": "2025-07-24T01:10:31.069342Z",
     "shell.execute_reply": "2025-07-24T01:10:31.068406Z"
    },
    "papermill": {
     "duration": 0.014599,
     "end_time": "2025-07-24T01:10:31.071101",
     "exception": false,
     "start_time": "2025-07-24T01:10:31.056502",
     "status": "completed"
    },
    "tags": []
   },
   "outputs": [],
   "source": [
    "import sys\n",
    "sys.path.append('/kaggle/working/customer-churn-ft_transformer')"
   ]
  },
  {
   "cell_type": "code",
   "execution_count": 3,
   "id": "ece8efae",
   "metadata": {
    "execution": {
     "iopub.execute_input": "2025-07-24T01:10:31.082840Z",
     "iopub.status.busy": "2025-07-24T01:10:31.082548Z",
     "iopub.status.idle": "2025-07-24T01:10:31.439709Z",
     "shell.execute_reply": "2025-07-24T01:10:31.438351Z"
    },
    "papermill": {
     "duration": 0.364292,
     "end_time": "2025-07-24T01:10:31.441507",
     "exception": false,
     "start_time": "2025-07-24T01:10:31.077215",
     "status": "completed"
    },
    "tags": []
   },
   "outputs": [
    {
     "name": "stdout",
     "output_type": "stream",
     "text": [
      "/kaggle/working/customer-churn-ft_transformer\r\n",
      "total 108\r\n",
      "drwxr-xr-x 9 root root  4096 Jul 24 01:10 .\r\n",
      "drwxr-xr-x 3 root root  4096 Jul 24 01:10 ..\r\n",
      "drwxr-xr-x 3 root root  4096 Jul 24 01:10 data\r\n",
      "-rw-r--r-- 1 root root 24652 Jul 24 01:10 Experiments.ipynb\r\n",
      "drwxr-xr-x 2 root root  4096 Jul 24 01:10 ftt_plus\r\n",
      "drwxr-xr-x 8 root root  4096 Jul 24 01:10 .git\r\n",
      "drwxr-xr-x 2 root root  4096 Jul 24 01:10 images\r\n",
      "-rw-r--r-- 1 root root  8324 Jul 24 01:10 interpretability_analyzer.py\r\n",
      "-rw-r--r-- 1 root root 10266 Jul 24 01:10 num_embedding_factory.py\r\n",
      "drwxr-xr-x 2 root root  4096 Jul 24 01:10 __pycache__\r\n",
      "-rw-r--r-- 1 root root  5034 Jul 24 01:10 README.md\r\n",
      "drwxr-xr-x 5 root root  4096 Jul 24 01:10 rtdl_lib\r\n",
      "-rw-r--r-- 1 root root  6821 Jul 24 01:10 test_embeddings.py\r\n",
      "drwxr-xr-x 4 root root  4096 Jul 24 01:10 train\r\n",
      "-rw-r--r-- 1 root root  2333 Jul 24 01:10 utils.py\r\n",
      "total 1632\r\n",
      "drwxr-xr-x 3 root root   4096 Jul 24 01:10 .\r\n",
      "drwxr-xr-x 9 root root   4096 Jul 24 01:10 ..\r\n",
      "-rw-r--r-- 1 root root 674857 Jul 24 01:10 Churn_Modelling.xls\r\n",
      "-rw-r--r-- 1 root root   3724 Jul 24 01:10 process_bank_data.py\r\n",
      "-rw-r--r-- 1 root root   4224 Jul 24 01:10 process_telecom_data.py\r\n",
      "drwxr-xr-x 2 root root   4096 Jul 24 01:10 __pycache__\r\n",
      "-rw-r--r-- 1 root root 970457 Jul 24 01:10 Telco_Customer_Churn.csv\r\n",
      "-rw-r--r-- 1 root root      0 Jul 24 01:10 utils.py\r\n"
     ]
    }
   ],
   "source": [
    "# Le bon chemin est directement :\n",
    "import os\n",
    "os.chdir('/kaggle/working/customer-churn-ft_transformer')\n",
    "\n",
    "# Vérifier que vous êtes au bon endroit\n",
    "!pwd\n",
    "!ls -la\n",
    "\n",
    "# Vérifier que les datasets sont là\n",
    "!ls -la data/"
   ]
  },
  {
   "cell_type": "code",
   "execution_count": 4,
   "id": "5934b067",
   "metadata": {
    "execution": {
     "iopub.execute_input": "2025-07-24T01:10:31.452425Z",
     "iopub.status.busy": "2025-07-24T01:10:31.452063Z",
     "iopub.status.idle": "2025-07-24T01:12:00.348278Z",
     "shell.execute_reply": "2025-07-24T01:12:00.347046Z"
    },
    "papermill": {
     "duration": 88.904219,
     "end_time": "2025-07-24T01:12:00.350466",
     "exception": false,
     "start_time": "2025-07-24T01:10:31.446247",
     "status": "completed"
    },
    "tags": []
   },
   "outputs": [
    {
     "name": "stdout",
     "output_type": "stream",
     "text": [
      "Installation de rtdl_num_embeddings réussie\r\n",
      "Installation de scikit-learn réussie\r\n"
     ]
    }
   ],
   "source": [
    "# Installation silencieuse des packages pour rtdl_num_embeddings\n",
    "!pip install rtdl_num_embeddings -qqq > /dev/null 2>&1 && echo 'Installation de rtdl_num_embeddings réussie'\n",
    "!pip install \"scikit-learn>=1.0,<2\" -qqq > /dev/null 2>&1 && echo 'Installation de scikit-learn réussie'"
   ]
  },
  {
   "cell_type": "code",
   "execution_count": 5,
   "id": "063c2346",
   "metadata": {
    "execution": {
     "iopub.execute_input": "2025-07-24T01:12:00.361686Z",
     "iopub.status.busy": "2025-07-24T01:12:00.361382Z",
     "iopub.status.idle": "2025-07-24T01:13:53.923456Z",
     "shell.execute_reply": "2025-07-24T01:13:53.922015Z"
    },
    "papermill": {
     "duration": 113.570128,
     "end_time": "2025-07-24T01:13:53.925448",
     "exception": false,
     "start_time": "2025-07-24T01:12:00.355320",
     "status": "completed"
    },
    "tags": []
   },
   "outputs": [
    {
     "name": "stdout",
     "output_type": "stream",
     "text": [
      "Installation de libzero réussie\r\n",
      "Installation de optuna réussie\r\n"
     ]
    }
   ],
   "source": [
    "!pip install libzero==0.0.4 -qqq > /dev/null 2>&1 && echo 'Installation de libzero réussie'\n",
    "!pip install optuna -qqq > /dev/null 2>&1 && echo 'Installation de optuna réussie'"
   ]
  },
  {
   "cell_type": "code",
   "execution_count": null,
   "id": "083c0301",
   "metadata": {
    "papermill": {
     "duration": 0.004418,
     "end_time": "2025-07-24T01:13:53.934723",
     "exception": false,
     "start_time": "2025-07-24T01:13:53.930305",
     "status": "completed"
    },
    "tags": []
   },
   "outputs": [],
   "source": []
  },
  {
   "cell_type": "markdown",
   "id": "8a3a110a",
   "metadata": {
    "papermill": {
     "duration": 0.004377,
     "end_time": "2025-07-24T01:13:53.943636",
     "exception": false,
     "start_time": "2025-07-24T01:13:53.939259",
     "status": "completed"
    },
    "tags": []
   },
   "source": [
    "# FT-T training"
   ]
  },
  {
   "cell_type": "code",
   "execution_count": 6,
   "id": "ba2cac36",
   "metadata": {
    "execution": {
     "iopub.execute_input": "2025-07-24T01:13:53.954088Z",
     "iopub.status.busy": "2025-07-24T01:13:53.953793Z",
     "iopub.status.idle": "2025-07-24T01:14:00.596128Z",
     "shell.execute_reply": "2025-07-24T01:14:00.595242Z"
    },
    "papermill": {
     "duration": 6.650145,
     "end_time": "2025-07-24T01:14:00.598310",
     "exception": false,
     "start_time": "2025-07-24T01:13:53.948165",
     "status": "completed"
    },
    "tags": []
   },
   "outputs": [
    {
     "name": "stdout",
     "output_type": "stream",
     "text": [
      "Utilisation du device: cpu\r\n",
      "Seed: 0\r\n",
      "Traceback (most recent call last):\r\n",
      "  File \"/kaggle/working/customer-churn-ft_transformer/train/Bank/train_ftt/train.py\", line 31, in <module>\r\n",
      "    X, y, cat_cardinalities = get_data(seed)\r\n",
      "                              ^^^^^^^^^^^^^^\r\n",
      "  File \"/kaggle/working/customer-churn-ft_transformer/data/process_bank_data.py\", line 57, in get_data\r\n",
      "    X_num, X_cat, y_all, cat_cardinalities = read_data(CHURN_XLS_PATH)\r\n",
      "                                             ^^^^^^^^^^^^^^^^^^^^^^^^^\r\n",
      "  File \"/kaggle/working/customer-churn-ft_transformer/data/process_bank_data.py\", line 16, in read_data\r\n",
      "    df = pd.read_excel(path)\r\n",
      "         ^^^^^^^^^^^^^^^^^^^\r\n",
      "  File \"/usr/local/lib/python3.11/dist-packages/pandas/io/excel/_base.py\", line 495, in read_excel\r\n",
      "    io = ExcelFile(\r\n",
      "         ^^^^^^^^^^\r\n",
      "  File \"/usr/local/lib/python3.11/dist-packages/pandas/io/excel/_base.py\", line 1550, in __init__\r\n",
      "    ext = inspect_excel_format(\r\n",
      "          ^^^^^^^^^^^^^^^^^^^^^\r\n",
      "  File \"/usr/local/lib/python3.11/dist-packages/pandas/io/excel/_base.py\", line 1402, in inspect_excel_format\r\n",
      "    with get_handle(\r\n",
      "         ^^^^^^^^^^^\r\n",
      "  File \"/usr/local/lib/python3.11/dist-packages/pandas/io/common.py\", line 882, in get_handle\r\n",
      "    handle = open(handle, ioargs.mode)\r\n",
      "             ^^^^^^^^^^^^^^^^^^^^^^^^^\r\n",
      "FileNotFoundError: [Errno 2] No such file or directory: 'data/Bank/Churn_Modelling.xls'\r\n"
     ]
    }
   ],
   "source": [
    "import os\n",
    "\n",
    "# Changer vers le répertoire racine\n",
    "os.chdir('/kaggle/working/customer-churn-ft_transformer')\n",
    "\n",
    "# Utiliser PYTHONPATH pour que train.py trouve les modules\n",
    "!PYTHONPATH=/kaggle/working/customer-churn-ft_transformer python train/Bank/train_ftt/train.py"
   ]
  },
  {
   "cell_type": "code",
   "execution_count": null,
   "id": "1a083a8f",
   "metadata": {
    "papermill": {
     "duration": 0.005331,
     "end_time": "2025-07-24T01:14:00.608794",
     "exception": false,
     "start_time": "2025-07-24T01:14:00.603463",
     "status": "completed"
    },
    "tags": []
   },
   "outputs": [],
   "source": []
  },
  {
   "cell_type": "markdown",
   "id": "331839d9",
   "metadata": {
    "papermill": {
     "duration": 0.004532,
     "end_time": "2025-07-24T01:14:00.618004",
     "exception": false,
     "start_time": "2025-07-24T01:14:00.613472",
     "status": "completed"
    },
    "tags": []
   },
   "source": [
    "# Interpretable FT-T+ Training"
   ]
  },
  {
   "cell_type": "code",
   "execution_count": 7,
   "id": "a20cdf36",
   "metadata": {
    "execution": {
     "iopub.execute_input": "2025-07-24T01:14:00.628862Z",
     "iopub.status.busy": "2025-07-24T01:14:00.628554Z",
     "iopub.status.idle": "2025-07-24T01:14:03.992377Z",
     "shell.execute_reply": "2025-07-24T01:14:03.991376Z"
    },
    "papermill": {
     "duration": 3.37183,
     "end_time": "2025-07-24T01:14:03.994615",
     "exception": false,
     "start_time": "2025-07-24T01:14:00.622785",
     "status": "completed"
    },
    "tags": []
   },
   "outputs": [
    {
     "name": "stdout",
     "output_type": "stream",
     "text": [
      "Utilisation du device: cpu\r\n",
      "Seed: 0\r\n",
      "Traceback (most recent call last):\r\n",
      "  File \"/kaggle/working/customer-churn-ft_transformer/train/Bank/train_ftt_plus/train.py\", line 32, in <module>\r\n",
      "    X, y, cat_cardinalities = get_data(seed)\r\n",
      "                              ^^^^^^^^^^^^^^\r\n",
      "  File \"/kaggle/working/customer-churn-ft_transformer/data/process_bank_data.py\", line 57, in get_data\r\n",
      "    X_num, X_cat, y_all, cat_cardinalities = read_data(CHURN_XLS_PATH)\r\n",
      "                                             ^^^^^^^^^^^^^^^^^^^^^^^^^\r\n",
      "  File \"/kaggle/working/customer-churn-ft_transformer/data/process_bank_data.py\", line 16, in read_data\r\n",
      "    df = pd.read_excel(path)\r\n",
      "         ^^^^^^^^^^^^^^^^^^^\r\n",
      "  File \"/usr/local/lib/python3.11/dist-packages/pandas/io/excel/_base.py\", line 495, in read_excel\r\n",
      "    io = ExcelFile(\r\n",
      "         ^^^^^^^^^^\r\n",
      "  File \"/usr/local/lib/python3.11/dist-packages/pandas/io/excel/_base.py\", line 1550, in __init__\r\n",
      "    ext = inspect_excel_format(\r\n",
      "          ^^^^^^^^^^^^^^^^^^^^^\r\n",
      "  File \"/usr/local/lib/python3.11/dist-packages/pandas/io/excel/_base.py\", line 1402, in inspect_excel_format\r\n",
      "    with get_handle(\r\n",
      "         ^^^^^^^^^^^\r\n",
      "  File \"/usr/local/lib/python3.11/dist-packages/pandas/io/common.py\", line 882, in get_handle\r\n",
      "    handle = open(handle, ioargs.mode)\r\n",
      "             ^^^^^^^^^^^^^^^^^^^^^^^^^\r\n",
      "FileNotFoundError: [Errno 2] No such file or directory: 'data/Bank/Churn_Modelling.xls'\r\n"
     ]
    }
   ],
   "source": [
    "import os\n",
    "\n",
    "# Changer vers le répertoire racine\n",
    "os.chdir('/kaggle/working/customer-churn-ft_transformer')\n",
    "\n",
    "# Utiliser PYTHONPATH pour que train.py trouve les modules\n",
    "!PYTHONPATH=/kaggle/working/customer-churn-ft_transformer python train/Bank/train_ftt_plus/train.py"
   ]
  },
  {
   "cell_type": "code",
   "execution_count": null,
   "id": "f52905e8",
   "metadata": {
    "papermill": {
     "duration": 0.004567,
     "end_time": "2025-07-24T01:14:04.004097",
     "exception": false,
     "start_time": "2025-07-24T01:14:03.999530",
     "status": "completed"
    },
    "tags": []
   },
   "outputs": [],
   "source": []
  },
  {
   "cell_type": "code",
   "execution_count": null,
   "id": "4c14191d",
   "metadata": {
    "papermill": {
     "duration": 0.004491,
     "end_time": "2025-07-24T01:14:04.013561",
     "exception": false,
     "start_time": "2025-07-24T01:14:04.009070",
     "status": "completed"
    },
    "tags": []
   },
   "outputs": [],
   "source": []
  },
  {
   "cell_type": "code",
   "execution_count": null,
   "id": "60dcc1a6",
   "metadata": {
    "papermill": {
     "duration": 0.004544,
     "end_time": "2025-07-24T01:14:04.022917",
     "exception": false,
     "start_time": "2025-07-24T01:14:04.018373",
     "status": "completed"
    },
    "tags": []
   },
   "outputs": [],
   "source": []
  },
  {
   "cell_type": "markdown",
   "id": "72db7f86",
   "metadata": {
    "papermill": {
     "duration": 0.004522,
     "end_time": "2025-07-24T01:14:04.032302",
     "exception": false,
     "start_time": "2025-07-24T01:14:04.027780",
     "status": "completed"
    },
    "tags": []
   },
   "source": [
    "# FT-T Model Optimized with Optuna"
   ]
  },
  {
   "cell_type": "code",
   "execution_count": 8,
   "id": "7c21d491",
   "metadata": {
    "execution": {
     "iopub.execute_input": "2025-07-24T01:14:04.043313Z",
     "iopub.status.busy": "2025-07-24T01:14:04.042868Z",
     "iopub.status.idle": "2025-07-24T01:14:04.050721Z",
     "shell.execute_reply": "2025-07-24T01:14:04.049905Z"
    },
    "papermill": {
     "duration": 0.014926,
     "end_time": "2025-07-24T01:14:04.051945",
     "exception": false,
     "start_time": "2025-07-24T01:14:04.037019",
     "status": "completed"
    },
    "tags": []
   },
   "outputs": [
    {
     "data": {
      "text/plain": [
       "\"\\nimport os\\n\\n# Changer vers le répertoire racine\\nos.chdir('/kaggle/working/customer-churn-ft_transformer')\\n\\n# Utiliser PYTHONPATH pour que train.py trouve les modules\\n!PYTHONPATH=/kaggle/working/customer-churn-ft_transformer python train/Telecom/train_ftt/experiment_with_optuna.py\\n\\n\""
      ]
     },
     "execution_count": 8,
     "metadata": {},
     "output_type": "execute_result"
    }
   ],
   "source": [
    "\"\"\"\n",
    "import os\n",
    "\n",
    "# Changer vers le répertoire racine\n",
    "os.chdir('/kaggle/working/customer-churn-ft_transformer')\n",
    "\n",
    "# Utiliser PYTHONPATH pour que train.py trouve les modules\n",
    "!PYTHONPATH=/kaggle/working/customer-churn-ft_transformer python train/Telecom/train_ftt/experiment_with_optuna.py\n",
    "\n",
    "\"\"\""
   ]
  },
  {
   "cell_type": "code",
   "execution_count": null,
   "id": "e3e053e5",
   "metadata": {
    "papermill": {
     "duration": 0.004871,
     "end_time": "2025-07-24T01:14:04.062208",
     "exception": false,
     "start_time": "2025-07-24T01:14:04.057337",
     "status": "completed"
    },
    "tags": []
   },
   "outputs": [],
   "source": []
  },
  {
   "cell_type": "markdown",
   "id": "cb635e91",
   "metadata": {
    "papermill": {
     "duration": 0.004826,
     "end_time": "2025-07-24T01:14:04.072065",
     "exception": false,
     "start_time": "2025-07-24T01:14:04.067239",
     "status": "completed"
    },
    "tags": []
   },
   "source": [
    "# FT-T+ Model Optimized with Optuna"
   ]
  },
  {
   "cell_type": "code",
   "execution_count": 9,
   "id": "e6dd7a64",
   "metadata": {
    "execution": {
     "iopub.execute_input": "2025-07-24T01:14:04.083518Z",
     "iopub.status.busy": "2025-07-24T01:14:04.083204Z",
     "iopub.status.idle": "2025-07-24T01:14:04.088545Z",
     "shell.execute_reply": "2025-07-24T01:14:04.087654Z"
    },
    "papermill": {
     "duration": 0.012528,
     "end_time": "2025-07-24T01:14:04.089832",
     "exception": false,
     "start_time": "2025-07-24T01:14:04.077304",
     "status": "completed"
    },
    "tags": []
   },
   "outputs": [
    {
     "data": {
      "text/plain": [
       "\"\\nimport os\\n\\n# Changer vers le répertoire racine\\nos.chdir('/kaggle/working/customer-churn-ft_transformer')\\n\\n# Utiliser PYTHONPATH pour que train.py trouve les modules\\n!PYTHONPATH=/kaggle/working/customer-churn-ft_transformer python train/Telecom/train_ftt_plus/experiment_with_optuna.py\\n\""
      ]
     },
     "execution_count": 9,
     "metadata": {},
     "output_type": "execute_result"
    }
   ],
   "source": [
    "\"\"\"\n",
    "import os\n",
    "\n",
    "# Changer vers le répertoire racine\n",
    "os.chdir('/kaggle/working/customer-churn-ft_transformer')\n",
    "\n",
    "# Utiliser PYTHONPATH pour que train.py trouve les modules\n",
    "!PYTHONPATH=/kaggle/working/customer-churn-ft_transformer python train/Telecom/train_ftt_plus/experiment_with_optuna.py\n",
    "\"\"\""
   ]
  },
  {
   "cell_type": "code",
   "execution_count": null,
   "id": "9c4fcf88",
   "metadata": {
    "papermill": {
     "duration": 0.004911,
     "end_time": "2025-07-24T01:14:04.099957",
     "exception": false,
     "start_time": "2025-07-24T01:14:04.095046",
     "status": "completed"
    },
    "tags": []
   },
   "outputs": [],
   "source": []
  },
  {
   "cell_type": "code",
   "execution_count": null,
   "id": "56a48b3f",
   "metadata": {
    "papermill": {
     "duration": 0.004808,
     "end_time": "2025-07-24T01:14:04.109991",
     "exception": false,
     "start_time": "2025-07-24T01:14:04.105183",
     "status": "completed"
    },
    "tags": []
   },
   "outputs": [],
   "source": []
  },
  {
   "cell_type": "markdown",
   "id": "fd106fdc",
   "metadata": {
    "papermill": {
     "duration": 0.004745,
     "end_time": "2025-07-24T01:14:04.119747",
     "exception": false,
     "start_time": "2025-07-24T01:14:04.115002",
     "status": "completed"
    },
    "tags": []
   },
   "source": [
    "# Downloading the results folder"
   ]
  },
  {
   "cell_type": "code",
   "execution_count": 10,
   "id": "8a145bfb",
   "metadata": {
    "execution": {
     "iopub.execute_input": "2025-07-24T01:14:04.131031Z",
     "iopub.status.busy": "2025-07-24T01:14:04.130705Z",
     "iopub.status.idle": "2025-07-24T01:14:04.364844Z",
     "shell.execute_reply": "2025-07-24T01:14:04.363804Z"
    },
    "papermill": {
     "duration": 0.24184,
     "end_time": "2025-07-24T01:14:04.366589",
     "exception": false,
     "start_time": "2025-07-24T01:14:04.124749",
     "status": "completed"
    },
    "tags": []
   },
   "outputs": [
    {
     "name": "stdout",
     "output_type": "stream",
     "text": [
      "/kaggle/working/customer-churn-ft_transformer\r\n",
      "total 112\r\n",
      "drwxr-xr-x 10 root root  4096 Jul 24 01:13 .\r\n",
      "drwxr-xr-x  3 root root  4096 Jul 24 01:10 ..\r\n",
      "drwxr-xr-x  3 root root  4096 Jul 24 01:10 data\r\n",
      "-rw-r--r--  1 root root 24652 Jul 24 01:10 Experiments.ipynb\r\n",
      "drwxr-xr-x  3 root root  4096 Jul 24 01:14 ftt_plus\r\n",
      "drwxr-xr-x  8 root root  4096 Jul 24 01:10 .git\r\n",
      "drwxr-xr-x  2 root root  4096 Jul 24 01:10 images\r\n",
      "-rw-r--r--  1 root root  8324 Jul 24 01:10 interpretability_analyzer.py\r\n",
      "-rw-r--r--  1 root root 10266 Jul 24 01:10 num_embedding_factory.py\r\n",
      "drwxr-xr-x  2 root root  4096 Jul 24 01:14 __pycache__\r\n",
      "-rw-r--r--  1 root root  5034 Jul 24 01:10 README.md\r\n",
      "drwxr-xr-x  3 root root  4096 Jul 24 01:13 results\r\n",
      "drwxr-xr-x  5 root root  4096 Jul 24 01:10 rtdl_lib\r\n",
      "-rw-r--r--  1 root root  6821 Jul 24 01:10 test_embeddings.py\r\n",
      "drwxr-xr-x  4 root root  4096 Jul 24 01:10 train\r\n",
      "-rw-r--r--  1 root root  2333 Jul 24 01:10 utils.py\r\n"
     ]
    }
   ],
   "source": [
    "!pwd\n",
    "!ls -la"
   ]
  },
  {
   "cell_type": "code",
   "execution_count": 11,
   "id": "bdbda35a",
   "metadata": {
    "execution": {
     "iopub.execute_input": "2025-07-24T01:14:04.378830Z",
     "iopub.status.busy": "2025-07-24T01:14:04.378506Z",
     "iopub.status.idle": "2025-07-24T01:14:04.386684Z",
     "shell.execute_reply": "2025-07-24T01:14:04.385974Z"
    },
    "papermill": {
     "duration": 0.015853,
     "end_time": "2025-07-24T01:14:04.387876",
     "exception": false,
     "start_time": "2025-07-24T01:14:04.372023",
     "status": "completed"
    },
    "tags": []
   },
   "outputs": [
    {
     "data": {
      "text/plain": [
       "'/kaggle/working/results.zip'"
      ]
     },
     "execution_count": 11,
     "metadata": {},
     "output_type": "execute_result"
    }
   ],
   "source": [
    "import shutil\n",
    "\n",
    "# On se place dans le bon dossier racine\n",
    "import os\n",
    "os.chdir('/kaggle/working/customer-churn-ft_transformer')\n",
    "\n",
    "# On crée une archive ZIP du dossier results\n",
    "shutil.make_archive('/kaggle/working/results', 'zip', 'results')\n"
   ]
  },
  {
   "cell_type": "code",
   "execution_count": null,
   "id": "4a95a97f",
   "metadata": {
    "papermill": {
     "duration": 0.005168,
     "end_time": "2025-07-24T01:14:04.398622",
     "exception": false,
     "start_time": "2025-07-24T01:14:04.393454",
     "status": "completed"
    },
    "tags": []
   },
   "outputs": [],
   "source": []
  },
  {
   "cell_type": "code",
   "execution_count": null,
   "id": "c2d01ae0",
   "metadata": {
    "papermill": {
     "duration": 0.005065,
     "end_time": "2025-07-24T01:14:04.409037",
     "exception": false,
     "start_time": "2025-07-24T01:14:04.403972",
     "status": "completed"
    },
    "tags": []
   },
   "outputs": [],
   "source": []
  }
 ],
 "metadata": {
  "kaggle": {
   "accelerator": "none",
   "dataSources": [],
   "dockerImageVersionId": 31041,
   "isGpuEnabled": false,
   "isInternetEnabled": true,
   "language": "python",
   "sourceType": "notebook"
  },
  "kernelspec": {
   "display_name": "Python 3",
   "language": "python",
   "name": "python3"
  },
  "language_info": {
   "codemirror_mode": {
    "name": "ipython",
    "version": 3
   },
   "file_extension": ".py",
   "mimetype": "text/x-python",
   "name": "python",
   "nbconvert_exporter": "python",
   "pygments_lexer": "ipython3",
   "version": "3.11.11"
  },
  "papermill": {
   "default_parameters": {},
   "duration": 220.121823,
   "end_time": "2025-07-24T01:14:04.833322",
   "environment_variables": {},
   "exception": null,
   "input_path": "__notebook__.ipynb",
   "output_path": "__notebook__.ipynb",
   "parameters": {},
   "start_time": "2025-07-24T01:10:24.711499",
   "version": "2.6.0"
  }
 },
 "nbformat": 4,
 "nbformat_minor": 5
}
