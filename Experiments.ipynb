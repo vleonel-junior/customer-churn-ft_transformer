{
 "cells": [
  {
   "cell_type": "code",
   "execution_count": 1,
   "id": "3f8fdcdd",
   "metadata": {
    "_cell_guid": "b1076dfc-b9ad-4769-8c92-a6c4dae69d19",
    "_uuid": "8f2839f25d086af736a60e9eeb907d3b93b6e0e5",
    "execution": {
     "iopub.execute_input": "2025-07-24T01:03:47.421516Z",
     "iopub.status.busy": "2025-07-24T01:03:47.420620Z",
     "iopub.status.idle": "2025-07-24T01:03:48.400657Z",
     "shell.execute_reply": "2025-07-24T01:03:48.399420Z"
    },
    "papermill": {
     "duration": 0.988131,
     "end_time": "2025-07-24T01:03:48.402671",
     "exception": false,
     "start_time": "2025-07-24T01:03:47.414540",
     "status": "completed"
    },
    "tags": []
   },
   "outputs": [
    {
     "name": "stdout",
     "output_type": "stream",
     "text": [
      "Cloning into 'customer-churn-ft_transformer'...\r\n",
      "remote: Enumerating objects: 1001, done.\u001b[K\r\n",
      "remote: Counting objects: 100% (45/45), done.\u001b[K\r\n",
      "remote: Compressing objects: 100% (36/36), done.\u001b[K\r\n",
      "remote: Total 1001 (delta 14), reused 34 (delta 7), pack-reused 956 (from 1)\u001b[K\r\n",
      "Receiving objects: 100% (1001/1001), 3.91 MiB | 19.08 MiB/s, done.\r\n",
      "Resolving deltas: 100% (495/495), done.\r\n"
     ]
    }
   ],
   "source": [
    "!git clone https://github.com/vleonel-junior/customer-churn-ft_transformer.git"
   ]
  },
  {
   "cell_type": "code",
   "execution_count": 2,
   "id": "2a5952e5",
   "metadata": {
    "execution": {
     "iopub.execute_input": "2025-07-24T01:03:48.412958Z",
     "iopub.status.busy": "2025-07-24T01:03:48.412642Z",
     "iopub.status.idle": "2025-07-24T01:03:48.417570Z",
     "shell.execute_reply": "2025-07-24T01:03:48.416685Z"
    },
    "papermill": {
     "duration": 0.011886,
     "end_time": "2025-07-24T01:03:48.419104",
     "exception": false,
     "start_time": "2025-07-24T01:03:48.407218",
     "status": "completed"
    },
    "tags": []
   },
   "outputs": [],
   "source": [
    "import sys\n",
    "sys.path.append('/kaggle/working/customer-churn-ft_transformer')"
   ]
  },
  {
   "cell_type": "code",
   "execution_count": 3,
   "id": "f7d35933",
   "metadata": {
    "execution": {
     "iopub.execute_input": "2025-07-24T01:03:48.428996Z",
     "iopub.status.busy": "2025-07-24T01:03:48.428383Z",
     "iopub.status.idle": "2025-07-24T01:03:48.777883Z",
     "shell.execute_reply": "2025-07-24T01:03:48.776785Z"
    },
    "papermill": {
     "duration": 0.356358,
     "end_time": "2025-07-24T01:03:48.779723",
     "exception": false,
     "start_time": "2025-07-24T01:03:48.423365",
     "status": "completed"
    },
    "tags": []
   },
   "outputs": [
    {
     "name": "stdout",
     "output_type": "stream",
     "text": [
      "/kaggle/working/customer-churn-ft_transformer\r\n",
      "total 188\r\n",
      "drwxr-xr-x 9 root root   4096 Jul 24 01:03 .\r\n",
      "drwxr-xr-x 3 root root   4096 Jul 24 01:03 ..\r\n",
      "drwxr-xr-x 3 root root   4096 Jul 24 01:03 data\r\n",
      "-rw-r--r-- 1 root root 108919 Jul 24 01:03 Experiments.ipynb\r\n",
      "drwxr-xr-x 2 root root   4096 Jul 24 01:03 ftt_plus\r\n",
      "drwxr-xr-x 8 root root   4096 Jul 24 01:03 .git\r\n",
      "drwxr-xr-x 2 root root   4096 Jul 24 01:03 images\r\n",
      "-rw-r--r-- 1 root root   8324 Jul 24 01:03 interpretability_analyzer.py\r\n",
      "-rw-r--r-- 1 root root  10266 Jul 24 01:03 num_embedding_factory.py\r\n",
      "drwxr-xr-x 2 root root   4096 Jul 24 01:03 __pycache__\r\n",
      "-rw-r--r-- 1 root root   5034 Jul 24 01:03 README.md\r\n",
      "drwxr-xr-x 5 root root   4096 Jul 24 01:03 rtdl_lib\r\n",
      "-rw-r--r-- 1 root root   6821 Jul 24 01:03 test_embeddings.py\r\n",
      "drwxr-xr-x 4 root root   4096 Jul 24 01:03 train\r\n",
      "-rw-r--r-- 1 root root   2333 Jul 24 01:03 utils.py\r\n",
      "total 1632\r\n",
      "drwxr-xr-x 3 root root   4096 Jul 24 01:03 .\r\n",
      "drwxr-xr-x 9 root root   4096 Jul 24 01:03 ..\r\n",
      "-rw-r--r-- 1 root root 674857 Jul 24 01:03 Churn_Modelling.xls\r\n",
      "-rw-r--r-- 1 root root   3724 Jul 24 01:03 process_bank_data.py\r\n",
      "-rw-r--r-- 1 root root   4224 Jul 24 01:03 process_telecom_data.py\r\n",
      "drwxr-xr-x 2 root root   4096 Jul 24 01:03 __pycache__\r\n",
      "-rw-r--r-- 1 root root 970457 Jul 24 01:03 Telco_Customer_Churn.csv\r\n",
      "-rw-r--r-- 1 root root      0 Jul 24 01:03 utils.py\r\n"
     ]
    }
   ],
   "source": [
    "# Le bon chemin est directement :\n",
    "import os\n",
    "os.chdir('/kaggle/working/customer-churn-ft_transformer')\n",
    "\n",
    "# Vérifier que vous êtes au bon endroit\n",
    "!pwd\n",
    "!ls -la\n",
    "\n",
    "# Vérifier que les datasets sont là\n",
    "!ls -la data/"
   ]
  },
  {
   "cell_type": "code",
   "execution_count": 4,
   "id": "d343cb2a",
   "metadata": {
    "execution": {
     "iopub.execute_input": "2025-07-24T01:03:48.789890Z",
     "iopub.status.busy": "2025-07-24T01:03:48.789557Z",
     "iopub.status.idle": "2025-07-24T01:05:18.383823Z",
     "shell.execute_reply": "2025-07-24T01:05:18.382766Z"
    },
    "papermill": {
     "duration": 89.601741,
     "end_time": "2025-07-24T01:05:18.385916",
     "exception": false,
     "start_time": "2025-07-24T01:03:48.784175",
     "status": "completed"
    },
    "tags": []
   },
   "outputs": [
    {
     "name": "stdout",
     "output_type": "stream",
     "text": [
      "Installation de rtdl_num_embeddings réussie\r\n",
      "Installation de scikit-learn réussie\r\n"
     ]
    }
   ],
   "source": [
    "# Installation silencieuse des packages pour rtdl_num_embeddings\n",
    "!pip install rtdl_num_embeddings -qqq > /dev/null 2>&1 && echo 'Installation de rtdl_num_embeddings réussie'\n",
    "!pip install \"scikit-learn>=1.0,<2\" -qqq > /dev/null 2>&1 && echo 'Installation de scikit-learn réussie'"
   ]
  },
  {
   "cell_type": "code",
   "execution_count": 5,
   "id": "b2eac886",
   "metadata": {
    "execution": {
     "iopub.execute_input": "2025-07-24T01:05:18.396754Z",
     "iopub.status.busy": "2025-07-24T01:05:18.396430Z",
     "iopub.status.idle": "2025-07-24T01:06:56.009514Z",
     "shell.execute_reply": "2025-07-24T01:06:56.008100Z"
    },
    "papermill": {
     "duration": 97.621203,
     "end_time": "2025-07-24T01:06:56.011690",
     "exception": false,
     "start_time": "2025-07-24T01:05:18.390487",
     "status": "completed"
    },
    "tags": []
   },
   "outputs": [
    {
     "name": "stdout",
     "output_type": "stream",
     "text": [
      "Installation de libzero réussie\r\n",
      "Installation de optuna réussie\r\n"
     ]
    }
   ],
   "source": [
    "!pip install libzero==0.0.4 -qqq > /dev/null 2>&1 && echo 'Installation de libzero réussie'\n",
    "!pip install optuna -qqq > /dev/null 2>&1 && echo 'Installation de optuna réussie'"
   ]
  },
  {
   "cell_type": "code",
   "execution_count": null,
   "id": "26766c16",
   "metadata": {
    "papermill": {
     "duration": 0.004554,
     "end_time": "2025-07-24T01:06:56.021993",
     "exception": false,
     "start_time": "2025-07-24T01:06:56.017439",
     "status": "completed"
    },
    "tags": []
   },
   "outputs": [],
   "source": []
  },
  {
   "cell_type": "markdown",
   "id": "750548ac",
   "metadata": {
    "papermill": {
     "duration": 0.004772,
     "end_time": "2025-07-24T01:06:56.031752",
     "exception": false,
     "start_time": "2025-07-24T01:06:56.026980",
     "status": "completed"
    },
    "tags": []
   },
   "source": [
    "# FT-T training"
   ]
  },
  {
   "cell_type": "code",
   "execution_count": 6,
   "id": "91fd7a85",
   "metadata": {
    "execution": {
     "iopub.execute_input": "2025-07-24T01:06:56.044126Z",
     "iopub.status.busy": "2025-07-24T01:06:56.043230Z",
     "iopub.status.idle": "2025-07-24T01:07:03.907701Z",
     "shell.execute_reply": "2025-07-24T01:07:03.906445Z"
    },
    "papermill": {
     "duration": 7.872824,
     "end_time": "2025-07-24T01:07:03.909600",
     "exception": false,
     "start_time": "2025-07-24T01:06:56.036776",
     "status": "completed"
    },
    "tags": []
   },
   "outputs": [
    {
     "name": "stdout",
     "output_type": "stream",
     "text": [
      "Utilisation du device: cpu\r\n",
      "Seed: 0\r\n",
      "Traceback (most recent call last):\r\n",
      "  File \"/kaggle/working/customer-churn-ft_transformer/train/Bank/train_ftt/train.py\", line 31, in <module>\r\n",
      "    X, y, cat_cardinalities = get_data(seed)\r\n",
      "                              ^^^^^^^^^^^^^^\r\n",
      "  File \"/kaggle/working/customer-churn-ft_transformer/data/process_bank_data.py\", line 57, in get_data\r\n",
      "    X_num, X_cat, y_all, cat_cardinalities = read_data(CHURN_XLS_PATH)\r\n",
      "                                             ^^^^^^^^^^^^^^^^^^^^^^^^^\r\n",
      "  File \"/kaggle/working/customer-churn-ft_transformer/data/process_bank_data.py\", line 16, in read_data\r\n",
      "    df = pd.read_excel(path)\r\n",
      "         ^^^^^^^^^^^^^^^^^^^\r\n",
      "  File \"/usr/local/lib/python3.11/dist-packages/pandas/io/excel/_base.py\", line 495, in read_excel\r\n",
      "    io = ExcelFile(\r\n",
      "         ^^^^^^^^^^\r\n",
      "  File \"/usr/local/lib/python3.11/dist-packages/pandas/io/excel/_base.py\", line 1550, in __init__\r\n",
      "    ext = inspect_excel_format(\r\n",
      "          ^^^^^^^^^^^^^^^^^^^^^\r\n",
      "  File \"/usr/local/lib/python3.11/dist-packages/pandas/io/excel/_base.py\", line 1402, in inspect_excel_format\r\n",
      "    with get_handle(\r\n",
      "         ^^^^^^^^^^^\r\n",
      "  File \"/usr/local/lib/python3.11/dist-packages/pandas/io/common.py\", line 882, in get_handle\r\n",
      "    handle = open(handle, ioargs.mode)\r\n",
      "             ^^^^^^^^^^^^^^^^^^^^^^^^^\r\n",
      "FileNotFoundError: [Errno 2] No such file or directory: 'data/Bank/Churn_Modelling.xls'\r\n"
     ]
    }
   ],
   "source": [
    "import os\n",
    "\n",
    "# Changer vers le répertoire racine\n",
    "os.chdir('/kaggle/working/customer-churn-ft_transformer')\n",
    "\n",
    "# Utiliser PYTHONPATH pour que train.py trouve les modules\n",
    "!PYTHONPATH=/kaggle/working/customer-churn-ft_transformer python train/Bank/train_ftt/train.py"
   ]
  },
  {
   "cell_type": "code",
   "execution_count": null,
   "id": "c6238122",
   "metadata": {
    "papermill": {
     "duration": 0.004402,
     "end_time": "2025-07-24T01:07:03.918819",
     "exception": false,
     "start_time": "2025-07-24T01:07:03.914417",
     "status": "completed"
    },
    "tags": []
   },
   "outputs": [],
   "source": []
  },
  {
   "cell_type": "markdown",
   "id": "2031e77c",
   "metadata": {
    "papermill": {
     "duration": 0.004389,
     "end_time": "2025-07-24T01:07:03.929030",
     "exception": false,
     "start_time": "2025-07-24T01:07:03.924641",
     "status": "completed"
    },
    "tags": []
   },
   "source": [
    "# Interpretable FT-T+ Training"
   ]
  },
  {
   "cell_type": "code",
   "execution_count": 7,
   "id": "69e60d17",
   "metadata": {
    "execution": {
     "iopub.execute_input": "2025-07-24T01:07:03.939801Z",
     "iopub.status.busy": "2025-07-24T01:07:03.939487Z",
     "iopub.status.idle": "2025-07-24T01:07:07.241166Z",
     "shell.execute_reply": "2025-07-24T01:07:07.240022Z"
    },
    "papermill": {
     "duration": 3.309728,
     "end_time": "2025-07-24T01:07:07.243378",
     "exception": false,
     "start_time": "2025-07-24T01:07:03.933650",
     "status": "completed"
    },
    "tags": []
   },
   "outputs": [
    {
     "name": "stdout",
     "output_type": "stream",
     "text": [
      "Utilisation du device: cpu\r\n",
      "Seed: 0\r\n",
      "Traceback (most recent call last):\r\n",
      "  File \"/kaggle/working/customer-churn-ft_transformer/train/Bank/train_ftt_plus/train.py\", line 32, in <module>\r\n",
      "    X, y, cat_cardinalities = get_data(seed)\r\n",
      "                              ^^^^^^^^^^^^^^\r\n",
      "  File \"/kaggle/working/customer-churn-ft_transformer/data/process_bank_data.py\", line 57, in get_data\r\n",
      "    X_num, X_cat, y_all, cat_cardinalities = read_data(CHURN_XLS_PATH)\r\n",
      "                                             ^^^^^^^^^^^^^^^^^^^^^^^^^\r\n",
      "  File \"/kaggle/working/customer-churn-ft_transformer/data/process_bank_data.py\", line 16, in read_data\r\n",
      "    df = pd.read_excel(path)\r\n",
      "         ^^^^^^^^^^^^^^^^^^^\r\n",
      "  File \"/usr/local/lib/python3.11/dist-packages/pandas/io/excel/_base.py\", line 495, in read_excel\r\n",
      "    io = ExcelFile(\r\n",
      "         ^^^^^^^^^^\r\n",
      "  File \"/usr/local/lib/python3.11/dist-packages/pandas/io/excel/_base.py\", line 1550, in __init__\r\n",
      "    ext = inspect_excel_format(\r\n",
      "          ^^^^^^^^^^^^^^^^^^^^^\r\n",
      "  File \"/usr/local/lib/python3.11/dist-packages/pandas/io/excel/_base.py\", line 1402, in inspect_excel_format\r\n",
      "    with get_handle(\r\n",
      "         ^^^^^^^^^^^\r\n",
      "  File \"/usr/local/lib/python3.11/dist-packages/pandas/io/common.py\", line 882, in get_handle\r\n",
      "    handle = open(handle, ioargs.mode)\r\n",
      "             ^^^^^^^^^^^^^^^^^^^^^^^^^\r\n",
      "FileNotFoundError: [Errno 2] No such file or directory: 'data/Bank/Churn_Modelling.xls'\r\n"
     ]
    }
   ],
   "source": [
    "import os\n",
    "\n",
    "# Changer vers le répertoire racine\n",
    "os.chdir('/kaggle/working/customer-churn-ft_transformer')\n",
    "\n",
    "# Utiliser PYTHONPATH pour que train.py trouve les modules\n",
    "!PYTHONPATH=/kaggle/working/customer-churn-ft_transformer python train/Bank/train_ftt_plus/train.py"
   ]
  },
  {
   "cell_type": "code",
   "execution_count": null,
   "id": "668a9bc1",
   "metadata": {
    "papermill": {
     "duration": 0.005184,
     "end_time": "2025-07-24T01:07:07.254090",
     "exception": false,
     "start_time": "2025-07-24T01:07:07.248906",
     "status": "completed"
    },
    "tags": []
   },
   "outputs": [],
   "source": []
  },
  {
   "cell_type": "code",
   "execution_count": null,
   "id": "5dee4c08",
   "metadata": {
    "papermill": {
     "duration": 0.004713,
     "end_time": "2025-07-24T01:07:07.264286",
     "exception": false,
     "start_time": "2025-07-24T01:07:07.259573",
     "status": "completed"
    },
    "tags": []
   },
   "outputs": [],
   "source": []
  },
  {
   "cell_type": "code",
   "execution_count": null,
   "id": "2d15f353",
   "metadata": {
    "papermill": {
     "duration": 0.005423,
     "end_time": "2025-07-24T01:07:07.274519",
     "exception": false,
     "start_time": "2025-07-24T01:07:07.269096",
     "status": "completed"
    },
    "tags": []
   },
   "outputs": [],
   "source": []
  },
  {
   "cell_type": "markdown",
   "id": "296a7f6c",
   "metadata": {
    "papermill": {
     "duration": 0.008784,
     "end_time": "2025-07-24T01:07:07.289809",
     "exception": false,
     "start_time": "2025-07-24T01:07:07.281025",
     "status": "completed"
    },
    "tags": []
   },
   "source": [
    "# FT-T Model Optimized with Optuna"
   ]
  },
  {
   "cell_type": "code",
   "execution_count": 8,
   "id": "9d6b60cb",
   "metadata": {
    "execution": {
     "iopub.execute_input": "2025-07-24T01:07:07.303104Z",
     "iopub.status.busy": "2025-07-24T01:07:07.302653Z",
     "iopub.status.idle": "2025-07-24T01:07:07.315134Z",
     "shell.execute_reply": "2025-07-24T01:07:07.314099Z"
    },
    "papermill": {
     "duration": 0.021817,
     "end_time": "2025-07-24T01:07:07.317193",
     "exception": false,
     "start_time": "2025-07-24T01:07:07.295376",
     "status": "completed"
    },
    "tags": []
   },
   "outputs": [
    {
     "data": {
      "text/plain": [
       "\"\\nimport os\\n\\n# Changer vers le répertoire racine\\nos.chdir('/kaggle/working/customer-churn-ft_transformer')\\n\\n# Utiliser PYTHONPATH pour que train.py trouve les modules\\n!PYTHONPATH=/kaggle/working/customer-churn-ft_transformer python train/Telecom/train_ftt/experiment_with_optuna.py\\n\\n\""
      ]
     },
     "execution_count": 8,
     "metadata": {},
     "output_type": "execute_result"
    }
   ],
   "source": [
    "\"\"\"\n",
    "import os\n",
    "\n",
    "# Changer vers le répertoire racine\n",
    "os.chdir('/kaggle/working/customer-churn-ft_transformer')\n",
    "\n",
    "# Utiliser PYTHONPATH pour que train.py trouve les modules\n",
    "!PYTHONPATH=/kaggle/working/customer-churn-ft_transformer python train/Telecom/train_ftt/experiment_with_optuna.py\n",
    "\n",
    "\"\"\""
   ]
  },
  {
   "cell_type": "code",
   "execution_count": null,
   "id": "374ef3d0",
   "metadata": {
    "papermill": {
     "duration": 0.008512,
     "end_time": "2025-07-24T01:07:07.333675",
     "exception": false,
     "start_time": "2025-07-24T01:07:07.325163",
     "status": "completed"
    },
    "tags": []
   },
   "outputs": [],
   "source": []
  },
  {
   "cell_type": "markdown",
   "id": "fb19577e",
   "metadata": {
    "papermill": {
     "duration": 0.005464,
     "end_time": "2025-07-24T01:07:07.344984",
     "exception": false,
     "start_time": "2025-07-24T01:07:07.339520",
     "status": "completed"
    },
    "tags": []
   },
   "source": [
    "# FT-T+ Model Optimized with Optuna"
   ]
  },
  {
   "cell_type": "code",
   "execution_count": 9,
   "id": "03aefd4b",
   "metadata": {
    "execution": {
     "iopub.execute_input": "2025-07-24T01:07:07.361222Z",
     "iopub.status.busy": "2025-07-24T01:07:07.360784Z",
     "iopub.status.idle": "2025-07-24T01:07:07.367762Z",
     "shell.execute_reply": "2025-07-24T01:07:07.366742Z"
    },
    "papermill": {
     "duration": 0.018665,
     "end_time": "2025-07-24T01:07:07.369514",
     "exception": false,
     "start_time": "2025-07-24T01:07:07.350849",
     "status": "completed"
    },
    "tags": []
   },
   "outputs": [
    {
     "data": {
      "text/plain": [
       "\"\\nimport os\\n\\n# Changer vers le répertoire racine\\nos.chdir('/kaggle/working/customer-churn-ft_transformer')\\n\\n# Utiliser PYTHONPATH pour que train.py trouve les modules\\n!PYTHONPATH=/kaggle/working/customer-churn-ft_transformer python train/Telecom/train_ftt_plus/experiment_with_optuna.py\\n\""
      ]
     },
     "execution_count": 9,
     "metadata": {},
     "output_type": "execute_result"
    }
   ],
   "source": [
    "\"\"\"\n",
    "import os\n",
    "\n",
    "# Changer vers le répertoire racine\n",
    "os.chdir('/kaggle/working/customer-churn-ft_transformer')\n",
    "\n",
    "# Utiliser PYTHONPATH pour que train.py trouve les modules\n",
    "!PYTHONPATH=/kaggle/working/customer-churn-ft_transformer python train/Telecom/train_ftt_plus/experiment_with_optuna.py\n",
    "\"\"\""
   ]
  },
  {
   "cell_type": "code",
   "execution_count": null,
   "id": "b379415c",
   "metadata": {
    "papermill": {
     "duration": 0.005263,
     "end_time": "2025-07-24T01:07:07.379968",
     "exception": false,
     "start_time": "2025-07-24T01:07:07.374705",
     "status": "completed"
    },
    "tags": []
   },
   "outputs": [],
   "source": []
  },
  {
   "cell_type": "code",
   "execution_count": null,
   "id": "98c74202",
   "metadata": {
    "papermill": {
     "duration": 0.005243,
     "end_time": "2025-07-24T01:07:07.390307",
     "exception": false,
     "start_time": "2025-07-24T01:07:07.385064",
     "status": "completed"
    },
    "tags": []
   },
   "outputs": [],
   "source": []
  },
  {
   "cell_type": "markdown",
   "id": "4b689389",
   "metadata": {
    "papermill": {
     "duration": 0.004795,
     "end_time": "2025-07-24T01:07:07.400555",
     "exception": false,
     "start_time": "2025-07-24T01:07:07.395760",
     "status": "completed"
    },
    "tags": []
   },
   "source": [
    "# Downloading the results folder"
   ]
  },
  {
   "cell_type": "code",
   "execution_count": 10,
   "id": "e7f91cdc",
   "metadata": {
    "execution": {
     "iopub.execute_input": "2025-07-24T01:07:07.412862Z",
     "iopub.status.busy": "2025-07-24T01:07:07.412563Z",
     "iopub.status.idle": "2025-07-24T01:07:07.648570Z",
     "shell.execute_reply": "2025-07-24T01:07:07.647428Z"
    },
    "papermill": {
     "duration": 0.244315,
     "end_time": "2025-07-24T01:07:07.650261",
     "exception": false,
     "start_time": "2025-07-24T01:07:07.405946",
     "status": "completed"
    },
    "tags": []
   },
   "outputs": [
    {
     "name": "stdout",
     "output_type": "stream",
     "text": [
      "/kaggle/working/customer-churn-ft_transformer\r\n",
      "total 192\r\n",
      "drwxr-xr-x 10 root root   4096 Jul 24 01:07 .\r\n",
      "drwxr-xr-x  3 root root   4096 Jul 24 01:03 ..\r\n",
      "drwxr-xr-x  3 root root   4096 Jul 24 01:03 data\r\n",
      "-rw-r--r--  1 root root 108919 Jul 24 01:03 Experiments.ipynb\r\n",
      "drwxr-xr-x  3 root root   4096 Jul 24 01:07 ftt_plus\r\n",
      "drwxr-xr-x  8 root root   4096 Jul 24 01:03 .git\r\n",
      "drwxr-xr-x  2 root root   4096 Jul 24 01:03 images\r\n",
      "-rw-r--r--  1 root root   8324 Jul 24 01:03 interpretability_analyzer.py\r\n",
      "-rw-r--r--  1 root root  10266 Jul 24 01:03 num_embedding_factory.py\r\n",
      "drwxr-xr-x  2 root root   4096 Jul 24 01:07 __pycache__\r\n",
      "-rw-r--r--  1 root root   5034 Jul 24 01:03 README.md\r\n",
      "drwxr-xr-x  3 root root   4096 Jul 24 01:07 results\r\n",
      "drwxr-xr-x  5 root root   4096 Jul 24 01:03 rtdl_lib\r\n",
      "-rw-r--r--  1 root root   6821 Jul 24 01:03 test_embeddings.py\r\n",
      "drwxr-xr-x  4 root root   4096 Jul 24 01:03 train\r\n",
      "-rw-r--r--  1 root root   2333 Jul 24 01:03 utils.py\r\n"
     ]
    }
   ],
   "source": [
    "!pwd\n",
    "!ls -la"
   ]
  },
  {
   "cell_type": "code",
   "execution_count": 11,
   "id": "f7e515df",
   "metadata": {
    "execution": {
     "iopub.execute_input": "2025-07-24T01:07:07.662054Z",
     "iopub.status.busy": "2025-07-24T01:07:07.661753Z",
     "iopub.status.idle": "2025-07-24T01:07:07.670393Z",
     "shell.execute_reply": "2025-07-24T01:07:07.669603Z"
    },
    "papermill": {
     "duration": 0.016168,
     "end_time": "2025-07-24T01:07:07.671806",
     "exception": false,
     "start_time": "2025-07-24T01:07:07.655638",
     "status": "completed"
    },
    "tags": []
   },
   "outputs": [
    {
     "data": {
      "text/plain": [
       "'/kaggle/working/results.zip'"
      ]
     },
     "execution_count": 11,
     "metadata": {},
     "output_type": "execute_result"
    }
   ],
   "source": [
    "import shutil\n",
    "\n",
    "# On se place dans le bon dossier racine\n",
    "import os\n",
    "os.chdir('/kaggle/working/customer-churn-ft_transformer')\n",
    "\n",
    "# On crée une archive ZIP du dossier results\n",
    "shutil.make_archive('/kaggle/working/results', 'zip', 'results')\n"
   ]
  },
  {
   "cell_type": "code",
   "execution_count": null,
   "id": "6420d4d4",
   "metadata": {
    "papermill": {
     "duration": 0.00544,
     "end_time": "2025-07-24T01:07:07.682764",
     "exception": false,
     "start_time": "2025-07-24T01:07:07.677324",
     "status": "completed"
    },
    "tags": []
   },
   "outputs": [],
   "source": []
  },
  {
   "cell_type": "code",
   "execution_count": null,
   "id": "5005b94e",
   "metadata": {
    "papermill": {
     "duration": 0.005079,
     "end_time": "2025-07-24T01:07:07.693855",
     "exception": false,
     "start_time": "2025-07-24T01:07:07.688776",
     "status": "completed"
    },
    "tags": []
   },
   "outputs": [],
   "source": []
  }
 ],
 "metadata": {
  "kaggle": {
   "accelerator": "none",
   "dataSources": [],
   "dockerImageVersionId": 31041,
   "isGpuEnabled": false,
   "isInternetEnabled": true,
   "language": "python",
   "sourceType": "notebook"
  },
  "kernelspec": {
   "display_name": "Python 3",
   "language": "python",
   "name": "python3"
  },
  "language_info": {
   "codemirror_mode": {
    "name": "ipython",
    "version": 3
   },
   "file_extension": ".py",
   "mimetype": "text/x-python",
   "name": "python",
   "nbconvert_exporter": "python",
   "pygments_lexer": "ipython3",
   "version": "3.11.11"
  },
  "papermill": {
   "default_parameters": {},
   "duration": 206.061004,
   "end_time": "2025-07-24T01:07:08.118766",
   "environment_variables": {},
   "exception": null,
   "input_path": "__notebook__.ipynb",
   "output_path": "__notebook__.ipynb",
   "parameters": {},
   "start_time": "2025-07-24T01:03:42.057762",
   "version": "2.6.0"
  }
 },
 "nbformat": 4,
 "nbformat_minor": 5
}
