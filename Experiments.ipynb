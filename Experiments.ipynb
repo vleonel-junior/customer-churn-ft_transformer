{
 "cells": [
  {
   "cell_type": "code",
   "execution_count": 1,
   "id": "41fec322",
   "metadata": {
    "_cell_guid": "b1076dfc-b9ad-4769-8c92-a6c4dae69d19",
    "_uuid": "8f2839f25d086af736a60e9eeb907d3b93b6e0e5",
    "execution": {
     "iopub.execute_input": "2025-07-24T01:31:02.967760Z",
     "iopub.status.busy": "2025-07-24T01:31:02.966482Z",
     "iopub.status.idle": "2025-07-24T01:31:03.987330Z",
     "shell.execute_reply": "2025-07-24T01:31:03.986264Z"
    },
    "papermill": {
     "duration": 1.031461,
     "end_time": "2025-07-24T01:31:03.989087",
     "exception": false,
     "start_time": "2025-07-24T01:31:02.957626",
     "status": "completed"
    },
    "tags": []
   },
   "outputs": [
    {
     "name": "stdout",
     "output_type": "stream",
     "text": [
      "Cloning into 'customer-churn-ft_transformer'...\r\n",
      "remote: Enumerating objects: 1022, done.\u001b[K\r\n",
      "remote: Counting objects: 100% (66/66), done.\u001b[K\r\n",
      "remote: Compressing objects: 100% (51/51), done.\u001b[K\r\n",
      "remote: Total 1022 (delta 31), reused 45 (delta 13), pack-reused 956 (from 1)\u001b[K\r\n",
      "Receiving objects: 100% (1022/1022), 3.92 MiB | 17.15 MiB/s, done.\r\n",
      "Resolving deltas: 100% (512/512), done.\r\n"
     ]
    }
   ],
   "source": [
    "!git clone https://github.com/vleonel-junior/customer-churn-ft_transformer.git"
   ]
  },
  {
   "cell_type": "code",
   "execution_count": 2,
   "id": "543c61ae",
   "metadata": {
    "execution": {
     "iopub.execute_input": "2025-07-24T01:31:03.999849Z",
     "iopub.status.busy": "2025-07-24T01:31:03.998983Z",
     "iopub.status.idle": "2025-07-24T01:31:04.004379Z",
     "shell.execute_reply": "2025-07-24T01:31:04.003486Z"
    },
    "papermill": {
     "duration": 0.012131,
     "end_time": "2025-07-24T01:31:04.005729",
     "exception": false,
     "start_time": "2025-07-24T01:31:03.993598",
     "status": "completed"
    },
    "tags": []
   },
   "outputs": [],
   "source": [
    "import sys\n",
    "sys.path.append('/kaggle/working/customer-churn-ft_transformer')"
   ]
  },
  {
   "cell_type": "code",
   "execution_count": 3,
   "id": "55ddb618",
   "metadata": {
    "execution": {
     "iopub.execute_input": "2025-07-24T01:31:04.014803Z",
     "iopub.status.busy": "2025-07-24T01:31:04.014543Z",
     "iopub.status.idle": "2025-07-24T01:31:04.369021Z",
     "shell.execute_reply": "2025-07-24T01:31:04.367930Z"
    },
    "papermill": {
     "duration": 0.360937,
     "end_time": "2025-07-24T01:31:04.370697",
     "exception": false,
     "start_time": "2025-07-24T01:31:04.009760",
     "status": "completed"
    },
    "tags": []
   },
   "outputs": [
    {
     "name": "stdout",
     "output_type": "stream",
     "text": [
      "/kaggle/working/customer-churn-ft_transformer\r\n",
      "total 104\r\n",
      "drwxr-xr-x 9 root root  4096 Jul 24 01:31 .\r\n",
      "drwxr-xr-x 3 root root  4096 Jul 24 01:31 ..\r\n",
      "drwxr-xr-x 3 root root  4096 Jul 24 01:31 data\r\n",
      "-rw-r--r-- 1 root root 23697 Jul 24 01:31 Experiments.ipynb\r\n",
      "drwxr-xr-x 2 root root  4096 Jul 24 01:31 ftt_plus\r\n",
      "drwxr-xr-x 8 root root  4096 Jul 24 01:31 .git\r\n",
      "drwxr-xr-x 2 root root  4096 Jul 24 01:31 images\r\n",
      "-rw-r--r-- 1 root root  8324 Jul 24 01:31 interpretability_analyzer.py\r\n",
      "-rw-r--r-- 1 root root 10266 Jul 24 01:31 num_embedding_factory.py\r\n",
      "drwxr-xr-x 2 root root  4096 Jul 24 01:31 __pycache__\r\n",
      "-rw-r--r-- 1 root root  5034 Jul 24 01:31 README.md\r\n",
      "drwxr-xr-x 5 root root  4096 Jul 24 01:31 rtdl_lib\r\n",
      "-rw-r--r-- 1 root root  6821 Jul 24 01:31 test_embeddings.py\r\n",
      "drwxr-xr-x 4 root root  4096 Jul 24 01:31 train\r\n",
      "-rw-r--r-- 1 root root  2333 Jul 24 01:31 utils.py\r\n",
      "total 1632\r\n",
      "drwxr-xr-x 3 root root   4096 Jul 24 01:31 .\r\n",
      "drwxr-xr-x 9 root root   4096 Jul 24 01:31 ..\r\n",
      "-rw-r--r-- 1 root root 674857 Jul 24 01:31 Churn_Modelling.xls\r\n",
      "-rw-r--r-- 1 root root   3734 Jul 24 01:31 process_bank_data.py\r\n",
      "-rw-r--r-- 1 root root   4224 Jul 24 01:31 process_telecom_data.py\r\n",
      "drwxr-xr-x 2 root root   4096 Jul 24 01:31 __pycache__\r\n",
      "-rw-r--r-- 1 root root 970457 Jul 24 01:31 Telco_Customer_Churn.csv\r\n",
      "-rw-r--r-- 1 root root      0 Jul 24 01:31 utils.py\r\n"
     ]
    }
   ],
   "source": [
    "# Le bon chemin est directement :\n",
    "import os\n",
    "os.chdir('/kaggle/working/customer-churn-ft_transformer')\n",
    "\n",
    "# Vérifier que vous êtes au bon endroit\n",
    "!pwd\n",
    "!ls -la\n",
    "\n",
    "# Vérifier que les datasets sont là\n",
    "!ls -la data/"
   ]
  },
  {
   "cell_type": "code",
   "execution_count": 4,
   "id": "4340b5f5",
   "metadata": {
    "execution": {
     "iopub.execute_input": "2025-07-24T01:31:04.380954Z",
     "iopub.status.busy": "2025-07-24T01:31:04.380658Z",
     "iopub.status.idle": "2025-07-24T01:32:25.758134Z",
     "shell.execute_reply": "2025-07-24T01:32:25.757082Z"
    },
    "papermill": {
     "duration": 81.384689,
     "end_time": "2025-07-24T01:32:25.759881",
     "exception": false,
     "start_time": "2025-07-24T01:31:04.375192",
     "status": "completed"
    },
    "tags": []
   },
   "outputs": [
    {
     "name": "stdout",
     "output_type": "stream",
     "text": [
      "Installation de rtdl_num_embeddings réussie\r\n",
      "Installation de scikit-learn réussie\r\n"
     ]
    }
   ],
   "source": [
    "# Installation silencieuse des packages pour rtdl_num_embeddings\n",
    "!pip install rtdl_num_embeddings -qqq > /dev/null 2>&1 && echo 'Installation de rtdl_num_embeddings réussie'\n",
    "!pip install \"scikit-learn>=1.0,<2\" -qqq > /dev/null 2>&1 && echo 'Installation de scikit-learn réussie'"
   ]
  },
  {
   "cell_type": "code",
   "execution_count": 5,
   "id": "54aed5ea",
   "metadata": {
    "execution": {
     "iopub.execute_input": "2025-07-24T01:32:25.770745Z",
     "iopub.status.busy": "2025-07-24T01:32:25.770026Z",
     "iopub.status.idle": "2025-07-24T01:33:58.157350Z",
     "shell.execute_reply": "2025-07-24T01:33:58.156236Z"
    },
    "papermill": {
     "duration": 92.394584,
     "end_time": "2025-07-24T01:33:58.159086",
     "exception": false,
     "start_time": "2025-07-24T01:32:25.764502",
     "status": "completed"
    },
    "tags": []
   },
   "outputs": [
    {
     "name": "stdout",
     "output_type": "stream",
     "text": [
      "Installation de libzero réussie\r\n",
      "Installation de optuna réussie\r\n"
     ]
    }
   ],
   "source": [
    "!pip install libzero==0.0.4 -qqq > /dev/null 2>&1 && echo 'Installation de libzero réussie'\n",
    "!pip install optuna -qqq > /dev/null 2>&1 && echo 'Installation de optuna réussie'"
   ]
  },
  {
   "cell_type": "code",
   "execution_count": null,
   "id": "19713b44",
   "metadata": {
    "papermill": {
     "duration": 0.004257,
     "end_time": "2025-07-24T01:33:58.167987",
     "exception": false,
     "start_time": "2025-07-24T01:33:58.163730",
     "status": "completed"
    },
    "tags": []
   },
   "outputs": [],
   "source": []
  },
  {
   "cell_type": "markdown",
   "id": "9267b073",
   "metadata": {
    "papermill": {
     "duration": 0.004082,
     "end_time": "2025-07-24T01:33:58.176453",
     "exception": false,
     "start_time": "2025-07-24T01:33:58.172371",
     "status": "completed"
    },
    "tags": []
   },
   "source": [
    "# FT-T training"
   ]
  },
  {
   "cell_type": "code",
   "execution_count": 6,
   "id": "e462c75a",
   "metadata": {
    "execution": {
     "iopub.execute_input": "2025-07-24T01:33:58.186420Z",
     "iopub.status.busy": "2025-07-24T01:33:58.186107Z",
     "iopub.status.idle": "2025-07-24T01:34:04.518607Z",
     "shell.execute_reply": "2025-07-24T01:34:04.517731Z"
    },
    "papermill": {
     "duration": 6.33965,
     "end_time": "2025-07-24T01:34:04.520327",
     "exception": false,
     "start_time": "2025-07-24T01:33:58.180677",
     "status": "completed"
    },
    "tags": []
   },
   "outputs": [
    {
     "name": "stdout",
     "output_type": "stream",
     "text": [
      "Utilisation du device: cuda\r\n",
      "Seed: 0\r\n",
      "Traceback (most recent call last):\r\n",
      "  File \"/kaggle/working/customer-churn-ft_transformer/train/Bank/train_ftt/train.py\", line 31, in <module>\r\n",
      "    X, y, cat_cardinalities = get_data(seed)\r\n",
      "                              ^^^^^^^^^^^^^^\r\n",
      "  File \"/kaggle/working/customer-churn-ft_transformer/data/process_bank_data.py\", line 57, in get_data\r\n",
      "    X_num, X_cat, y_all, cat_cardinalities = read_data(CHURN_XLS_PATH)\r\n",
      "                                             ^^^^^^^^^^^^^^^^^^^^^^^^^\r\n",
      "  File \"/kaggle/working/customer-churn-ft_transformer/data/process_bank_data.py\", line 16, in read_data\r\n",
      "    df = pd.read_excel(path, engine=\"xlrd\")\r\n",
      "         ^^^^^^^^^^^^^^^^^^^^^^^^^^^^^^^^^^\r\n",
      "  File \"/usr/local/lib/python3.11/dist-packages/pandas/io/excel/_base.py\", line 495, in read_excel\r\n",
      "    io = ExcelFile(\r\n",
      "         ^^^^^^^^^^\r\n",
      "  File \"/usr/local/lib/python3.11/dist-packages/pandas/io/excel/_base.py\", line 1567, in __init__\r\n",
      "    self._reader = self._engines[engine](\r\n",
      "                   ^^^^^^^^^^^^^^^^^^^^^^\r\n",
      "  File \"/usr/local/lib/python3.11/dist-packages/pandas/io/excel/_xlrd.py\", line 46, in __init__\r\n",
      "    super().__init__(\r\n",
      "  File \"/usr/local/lib/python3.11/dist-packages/pandas/io/excel/_base.py\", line 573, in __init__\r\n",
      "    self.book = self.load_workbook(self.handles.handle, engine_kwargs)\r\n",
      "                ^^^^^^^^^^^^^^^^^^^^^^^^^^^^^^^^^^^^^^^^^^^^^^^^^^^^^^\r\n",
      "  File \"/usr/local/lib/python3.11/dist-packages/pandas/io/excel/_xlrd.py\", line 63, in load_workbook\r\n",
      "    return open_workbook(file_contents=data, **engine_kwargs)\r\n",
      "           ^^^^^^^^^^^^^^^^^^^^^^^^^^^^^^^^^^^^^^^^^^^^^^^^^^\r\n",
      "  File \"/usr/local/lib/python3.11/dist-packages/xlrd/__init__.py\", line 172, in open_workbook\r\n",
      "    bk = open_workbook_xls(\r\n",
      "         ^^^^^^^^^^^^^^^^^^\r\n",
      "  File \"/usr/local/lib/python3.11/dist-packages/xlrd/book.py\", line 79, in open_workbook_xls\r\n",
      "    biff_version = bk.getbof(XL_WORKBOOK_GLOBALS)\r\n",
      "                   ^^^^^^^^^^^^^^^^^^^^^^^^^^^^^^\r\n",
      "  File \"/usr/local/lib/python3.11/dist-packages/xlrd/book.py\", line 1284, in getbof\r\n",
      "    bof_error('Expected BOF record; found %r' % self.mem[savpos:savpos+8])\r\n",
      "  File \"/usr/local/lib/python3.11/dist-packages/xlrd/book.py\", line 1278, in bof_error\r\n",
      "    raise XLRDError('Unsupported format, or corrupt file: ' + msg)\r\n",
      "xlrd.biffh.XLRDError: Unsupported format, or corrupt file: Expected BOF record; found b'RowNumbe'\r\n"
     ]
    }
   ],
   "source": [
    "import os\n",
    "\n",
    "# Changer vers le répertoire racine\n",
    "os.chdir('/kaggle/working/customer-churn-ft_transformer')\n",
    "\n",
    "# Utiliser PYTHONPATH pour que train.py trouve les modules\n",
    "!PYTHONPATH=/kaggle/working/customer-churn-ft_transformer python train/Bank/train_ftt/train.py"
   ]
  },
  {
   "cell_type": "code",
   "execution_count": null,
   "id": "40c59cd9",
   "metadata": {
    "papermill": {
     "duration": 0.00499,
     "end_time": "2025-07-24T01:34:04.533666",
     "exception": false,
     "start_time": "2025-07-24T01:34:04.528676",
     "status": "completed"
    },
    "tags": []
   },
   "outputs": [],
   "source": []
  },
  {
   "cell_type": "markdown",
   "id": "7d4a7e7f",
   "metadata": {
    "papermill": {
     "duration": 0.004238,
     "end_time": "2025-07-24T01:34:04.543660",
     "exception": false,
     "start_time": "2025-07-24T01:34:04.539422",
     "status": "completed"
    },
    "tags": []
   },
   "source": [
    "# Interpretable FT-T+ Training"
   ]
  },
  {
   "cell_type": "code",
   "execution_count": 7,
   "id": "a057173e",
   "metadata": {
    "execution": {
     "iopub.execute_input": "2025-07-24T01:34:04.553660Z",
     "iopub.status.busy": "2025-07-24T01:34:04.553350Z",
     "iopub.status.idle": "2025-07-24T01:34:07.799428Z",
     "shell.execute_reply": "2025-07-24T01:34:07.798549Z"
    },
    "papermill": {
     "duration": 3.253095,
     "end_time": "2025-07-24T01:34:07.800961",
     "exception": false,
     "start_time": "2025-07-24T01:34:04.547866",
     "status": "completed"
    },
    "tags": []
   },
   "outputs": [
    {
     "name": "stdout",
     "output_type": "stream",
     "text": [
      "Utilisation du device: cuda\r\n",
      "Seed: 0\r\n",
      "Traceback (most recent call last):\r\n",
      "  File \"/kaggle/working/customer-churn-ft_transformer/train/Bank/train_ftt_plus/train.py\", line 32, in <module>\r\n",
      "    X, y, cat_cardinalities = get_data(seed)\r\n",
      "                              ^^^^^^^^^^^^^^\r\n",
      "  File \"/kaggle/working/customer-churn-ft_transformer/data/process_bank_data.py\", line 57, in get_data\r\n",
      "    X_num, X_cat, y_all, cat_cardinalities = read_data(CHURN_XLS_PATH)\r\n",
      "                                             ^^^^^^^^^^^^^^^^^^^^^^^^^\r\n",
      "  File \"/kaggle/working/customer-churn-ft_transformer/data/process_bank_data.py\", line 16, in read_data\r\n",
      "    df = pd.read_excel(path, engine=\"xlrd\")\r\n",
      "         ^^^^^^^^^^^^^^^^^^^^^^^^^^^^^^^^^^\r\n",
      "  File \"/usr/local/lib/python3.11/dist-packages/pandas/io/excel/_base.py\", line 495, in read_excel\r\n",
      "    io = ExcelFile(\r\n",
      "         ^^^^^^^^^^\r\n",
      "  File \"/usr/local/lib/python3.11/dist-packages/pandas/io/excel/_base.py\", line 1567, in __init__\r\n",
      "    self._reader = self._engines[engine](\r\n",
      "                   ^^^^^^^^^^^^^^^^^^^^^^\r\n",
      "  File \"/usr/local/lib/python3.11/dist-packages/pandas/io/excel/_xlrd.py\", line 46, in __init__\r\n",
      "    super().__init__(\r\n",
      "  File \"/usr/local/lib/python3.11/dist-packages/pandas/io/excel/_base.py\", line 573, in __init__\r\n",
      "    self.book = self.load_workbook(self.handles.handle, engine_kwargs)\r\n",
      "                ^^^^^^^^^^^^^^^^^^^^^^^^^^^^^^^^^^^^^^^^^^^^^^^^^^^^^^\r\n",
      "  File \"/usr/local/lib/python3.11/dist-packages/pandas/io/excel/_xlrd.py\", line 63, in load_workbook\r\n",
      "    return open_workbook(file_contents=data, **engine_kwargs)\r\n",
      "           ^^^^^^^^^^^^^^^^^^^^^^^^^^^^^^^^^^^^^^^^^^^^^^^^^^\r\n",
      "  File \"/usr/local/lib/python3.11/dist-packages/xlrd/__init__.py\", line 172, in open_workbook\r\n",
      "    bk = open_workbook_xls(\r\n",
      "         ^^^^^^^^^^^^^^^^^^\r\n",
      "  File \"/usr/local/lib/python3.11/dist-packages/xlrd/book.py\", line 79, in open_workbook_xls\r\n",
      "    biff_version = bk.getbof(XL_WORKBOOK_GLOBALS)\r\n",
      "                   ^^^^^^^^^^^^^^^^^^^^^^^^^^^^^^\r\n",
      "  File \"/usr/local/lib/python3.11/dist-packages/xlrd/book.py\", line 1284, in getbof\r\n",
      "    bof_error('Expected BOF record; found %r' % self.mem[savpos:savpos+8])\r\n",
      "  File \"/usr/local/lib/python3.11/dist-packages/xlrd/book.py\", line 1278, in bof_error\r\n",
      "    raise XLRDError('Unsupported format, or corrupt file: ' + msg)\r\n",
      "xlrd.biffh.XLRDError: Unsupported format, or corrupt file: Expected BOF record; found b'RowNumbe'\r\n"
     ]
    }
   ],
   "source": [
    "import os\n",
    "\n",
    "# Changer vers le répertoire racine\n",
    "os.chdir('/kaggle/working/customer-churn-ft_transformer')\n",
    "\n",
    "# Utiliser PYTHONPATH pour que train.py trouve les modules\n",
    "!PYTHONPATH=/kaggle/working/customer-churn-ft_transformer python train/Bank/train_ftt_plus/train.py"
   ]
  },
  {
   "cell_type": "code",
   "execution_count": null,
   "id": "7de9f7ca",
   "metadata": {
    "papermill": {
     "duration": 0.004492,
     "end_time": "2025-07-24T01:34:07.810290",
     "exception": false,
     "start_time": "2025-07-24T01:34:07.805798",
     "status": "completed"
    },
    "tags": []
   },
   "outputs": [],
   "source": []
  },
  {
   "cell_type": "code",
   "execution_count": null,
   "id": "3bd60cbd",
   "metadata": {
    "papermill": {
     "duration": 0.004373,
     "end_time": "2025-07-24T01:34:07.819188",
     "exception": false,
     "start_time": "2025-07-24T01:34:07.814815",
     "status": "completed"
    },
    "tags": []
   },
   "outputs": [],
   "source": []
  },
  {
   "cell_type": "code",
   "execution_count": null,
   "id": "c649b69d",
   "metadata": {
    "papermill": {
     "duration": 0.004367,
     "end_time": "2025-07-24T01:34:07.827927",
     "exception": false,
     "start_time": "2025-07-24T01:34:07.823560",
     "status": "completed"
    },
    "tags": []
   },
   "outputs": [],
   "source": []
  },
  {
   "cell_type": "markdown",
   "id": "af7d3f0b",
   "metadata": {
    "papermill": {
     "duration": 0.004328,
     "end_time": "2025-07-24T01:34:07.836761",
     "exception": false,
     "start_time": "2025-07-24T01:34:07.832433",
     "status": "completed"
    },
    "tags": []
   },
   "source": [
    "# FT-T Model Optimized with Optuna"
   ]
  },
  {
   "cell_type": "code",
   "execution_count": 8,
   "id": "07063018",
   "metadata": {
    "execution": {
     "iopub.execute_input": "2025-07-24T01:34:07.847980Z",
     "iopub.status.busy": "2025-07-24T01:34:07.846920Z",
     "iopub.status.idle": "2025-07-24T01:34:07.855022Z",
     "shell.execute_reply": "2025-07-24T01:34:07.854107Z"
    },
    "papermill": {
     "duration": 0.015215,
     "end_time": "2025-07-24T01:34:07.856517",
     "exception": false,
     "start_time": "2025-07-24T01:34:07.841302",
     "status": "completed"
    },
    "tags": []
   },
   "outputs": [
    {
     "data": {
      "text/plain": [
       "\"\\nimport os\\n\\n# Changer vers le répertoire racine\\nos.chdir('/kaggle/working/customer-churn-ft_transformer')\\n\\n# Utiliser PYTHONPATH pour que train.py trouve les modules\\n!PYTHONPATH=/kaggle/working/customer-churn-ft_transformer python train/Telecom/train_ftt/experiment_with_optuna.py\\n\\n\""
      ]
     },
     "execution_count": 8,
     "metadata": {},
     "output_type": "execute_result"
    }
   ],
   "source": [
    "\"\"\"\n",
    "import os\n",
    "\n",
    "# Changer vers le répertoire racine\n",
    "os.chdir('/kaggle/working/customer-churn-ft_transformer')\n",
    "\n",
    "# Utiliser PYTHONPATH pour que train.py trouve les modules\n",
    "!PYTHONPATH=/kaggle/working/customer-churn-ft_transformer python train/Telecom/train_ftt/experiment_with_optuna.py\n",
    "\n",
    "\"\"\""
   ]
  },
  {
   "cell_type": "code",
   "execution_count": null,
   "id": "2fa2049e",
   "metadata": {
    "papermill": {
     "duration": 0.004837,
     "end_time": "2025-07-24T01:34:07.866339",
     "exception": false,
     "start_time": "2025-07-24T01:34:07.861502",
     "status": "completed"
    },
    "tags": []
   },
   "outputs": [],
   "source": []
  },
  {
   "cell_type": "markdown",
   "id": "922602f2",
   "metadata": {
    "papermill": {
     "duration": 0.004546,
     "end_time": "2025-07-24T01:34:07.875479",
     "exception": false,
     "start_time": "2025-07-24T01:34:07.870933",
     "status": "completed"
    },
    "tags": []
   },
   "source": [
    "# FT-T+ Model Optimized with Optuna"
   ]
  },
  {
   "cell_type": "code",
   "execution_count": 9,
   "id": "a21118c7",
   "metadata": {
    "execution": {
     "iopub.execute_input": "2025-07-24T01:34:07.886735Z",
     "iopub.status.busy": "2025-07-24T01:34:07.885831Z",
     "iopub.status.idle": "2025-07-24T01:34:07.891525Z",
     "shell.execute_reply": "2025-07-24T01:34:07.890788Z"
    },
    "papermill": {
     "duration": 0.012627,
     "end_time": "2025-07-24T01:34:07.892800",
     "exception": false,
     "start_time": "2025-07-24T01:34:07.880173",
     "status": "completed"
    },
    "tags": []
   },
   "outputs": [
    {
     "data": {
      "text/plain": [
       "\"\\nimport os\\n\\n# Changer vers le répertoire racine\\nos.chdir('/kaggle/working/customer-churn-ft_transformer')\\n\\n# Utiliser PYTHONPATH pour que train.py trouve les modules\\n!PYTHONPATH=/kaggle/working/customer-churn-ft_transformer python train/Telecom/train_ftt_plus/experiment_with_optuna.py\\n\""
      ]
     },
     "execution_count": 9,
     "metadata": {},
     "output_type": "execute_result"
    }
   ],
   "source": [
    "\"\"\"\n",
    "import os\n",
    "\n",
    "# Changer vers le répertoire racine\n",
    "os.chdir('/kaggle/working/customer-churn-ft_transformer')\n",
    "\n",
    "# Utiliser PYTHONPATH pour que train.py trouve les modules\n",
    "!PYTHONPATH=/kaggle/working/customer-churn-ft_transformer python train/Telecom/train_ftt_plus/experiment_with_optuna.py\n",
    "\"\"\""
   ]
  },
  {
   "cell_type": "code",
   "execution_count": null,
   "id": "5c3cb812",
   "metadata": {
    "papermill": {
     "duration": 0.004483,
     "end_time": "2025-07-24T01:34:07.902329",
     "exception": false,
     "start_time": "2025-07-24T01:34:07.897846",
     "status": "completed"
    },
    "tags": []
   },
   "outputs": [],
   "source": []
  },
  {
   "cell_type": "code",
   "execution_count": null,
   "id": "32671dc2",
   "metadata": {
    "papermill": {
     "duration": 0.004487,
     "end_time": "2025-07-24T01:34:07.911570",
     "exception": false,
     "start_time": "2025-07-24T01:34:07.907083",
     "status": "completed"
    },
    "tags": []
   },
   "outputs": [],
   "source": []
  },
  {
   "cell_type": "markdown",
   "id": "7443f9c3",
   "metadata": {
    "papermill": {
     "duration": 0.004696,
     "end_time": "2025-07-24T01:34:07.920914",
     "exception": false,
     "start_time": "2025-07-24T01:34:07.916218",
     "status": "completed"
    },
    "tags": []
   },
   "source": [
    "# Downloading the results folder"
   ]
  },
  {
   "cell_type": "code",
   "execution_count": 10,
   "id": "e1b6e3ea",
   "metadata": {
    "execution": {
     "iopub.execute_input": "2025-07-24T01:34:07.931961Z",
     "iopub.status.busy": "2025-07-24T01:34:07.931219Z",
     "iopub.status.idle": "2025-07-24T01:34:08.167173Z",
     "shell.execute_reply": "2025-07-24T01:34:08.166243Z"
    },
    "papermill": {
     "duration": 0.243315,
     "end_time": "2025-07-24T01:34:08.168882",
     "exception": false,
     "start_time": "2025-07-24T01:34:07.925567",
     "status": "completed"
    },
    "tags": []
   },
   "outputs": [
    {
     "name": "stdout",
     "output_type": "stream",
     "text": [
      "/kaggle/working/customer-churn-ft_transformer\r\n",
      "total 108\r\n",
      "drwxr-xr-x 10 root root  4096 Jul 24 01:34 .\r\n",
      "drwxr-xr-x  3 root root  4096 Jul 24 01:31 ..\r\n",
      "drwxr-xr-x  3 root root  4096 Jul 24 01:31 data\r\n",
      "-rw-r--r--  1 root root 23697 Jul 24 01:31 Experiments.ipynb\r\n",
      "drwxr-xr-x  3 root root  4096 Jul 24 01:34 ftt_plus\r\n",
      "drwxr-xr-x  8 root root  4096 Jul 24 01:31 .git\r\n",
      "drwxr-xr-x  2 root root  4096 Jul 24 01:31 images\r\n",
      "-rw-r--r--  1 root root  8324 Jul 24 01:31 interpretability_analyzer.py\r\n",
      "-rw-r--r--  1 root root 10266 Jul 24 01:31 num_embedding_factory.py\r\n",
      "drwxr-xr-x  2 root root  4096 Jul 24 01:34 __pycache__\r\n",
      "-rw-r--r--  1 root root  5034 Jul 24 01:31 README.md\r\n",
      "drwxr-xr-x  3 root root  4096 Jul 24 01:34 results\r\n",
      "drwxr-xr-x  5 root root  4096 Jul 24 01:31 rtdl_lib\r\n",
      "-rw-r--r--  1 root root  6821 Jul 24 01:31 test_embeddings.py\r\n",
      "drwxr-xr-x  4 root root  4096 Jul 24 01:31 train\r\n",
      "-rw-r--r--  1 root root  2333 Jul 24 01:31 utils.py\r\n"
     ]
    }
   ],
   "source": [
    "!pwd\n",
    "!ls -la"
   ]
  },
  {
   "cell_type": "code",
   "execution_count": 11,
   "id": "4ae31199",
   "metadata": {
    "execution": {
     "iopub.execute_input": "2025-07-24T01:34:08.180576Z",
     "iopub.status.busy": "2025-07-24T01:34:08.180310Z",
     "iopub.status.idle": "2025-07-24T01:34:08.188196Z",
     "shell.execute_reply": "2025-07-24T01:34:08.187481Z"
    },
    "papermill": {
     "duration": 0.015056,
     "end_time": "2025-07-24T01:34:08.189429",
     "exception": false,
     "start_time": "2025-07-24T01:34:08.174373",
     "status": "completed"
    },
    "tags": []
   },
   "outputs": [
    {
     "data": {
      "text/plain": [
       "'/kaggle/working/results.zip'"
      ]
     },
     "execution_count": 11,
     "metadata": {},
     "output_type": "execute_result"
    }
   ],
   "source": [
    "import shutil\n",
    "\n",
    "# On se place dans le bon dossier racine\n",
    "import os\n",
    "os.chdir('/kaggle/working/customer-churn-ft_transformer')\n",
    "\n",
    "# On crée une archive ZIP du dossier results\n",
    "shutil.make_archive('/kaggle/working/results', 'zip', 'results')\n"
   ]
  },
  {
   "cell_type": "code",
   "execution_count": null,
   "id": "cb78bbcf",
   "metadata": {
    "papermill": {
     "duration": 0.005027,
     "end_time": "2025-07-24T01:34:08.199601",
     "exception": false,
     "start_time": "2025-07-24T01:34:08.194574",
     "status": "completed"
    },
    "tags": []
   },
   "outputs": [],
   "source": []
  },
  {
   "cell_type": "code",
   "execution_count": null,
   "id": "5f73e366",
   "metadata": {
    "papermill": {
     "duration": 0.004818,
     "end_time": "2025-07-24T01:34:08.209253",
     "exception": false,
     "start_time": "2025-07-24T01:34:08.204435",
     "status": "completed"
    },
    "tags": []
   },
   "outputs": [],
   "source": []
  }
 ],
 "metadata": {
  "kaggle": {
   "accelerator": "gpu",
   "dataSources": [],
   "dockerImageVersionId": 31041,
   "isGpuEnabled": true,
   "isInternetEnabled": true,
   "language": "python",
   "sourceType": "notebook"
  },
  "kernelspec": {
   "display_name": "Python 3",
   "language": "python",
   "name": "python3"
  },
  "language_info": {
   "codemirror_mode": {
    "name": "ipython",
    "version": 3
   },
   "file_extension": ".py",
   "mimetype": "text/x-python",
   "name": "python",
   "nbconvert_exporter": "python",
   "pygments_lexer": "ipython3",
   "version": "3.11.11"
  },
  "papermill": {
   "default_parameters": {},
   "duration": 190.510865,
   "end_time": "2025-07-24T01:34:08.532412",
   "environment_variables": {},
   "exception": null,
   "input_path": "__notebook__.ipynb",
   "output_path": "__notebook__.ipynb",
   "parameters": {},
   "start_time": "2025-07-24T01:30:58.021547",
   "version": "2.6.0"
  }
 },
 "nbformat": 4,
 "nbformat_minor": 5
}
