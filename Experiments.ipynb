{
 "cells": [
  {
   "cell_type": "code",
   "execution_count": 1,
   "id": "00345b0d",
   "metadata": {
    "_cell_guid": "b1076dfc-b9ad-4769-8c92-a6c4dae69d19",
    "_uuid": "8f2839f25d086af736a60e9eeb907d3b93b6e0e5",
    "execution": {
     "iopub.execute_input": "2025-07-24T01:37:20.186028Z",
     "iopub.status.busy": "2025-07-24T01:37:20.185353Z",
     "iopub.status.idle": "2025-07-24T01:37:21.368449Z",
     "shell.execute_reply": "2025-07-24T01:37:21.367686Z"
    },
    "papermill": {
     "duration": 1.189529,
     "end_time": "2025-07-24T01:37:21.370055",
     "exception": false,
     "start_time": "2025-07-24T01:37:20.180526",
     "status": "completed"
    },
    "tags": []
   },
   "outputs": [
    {
     "name": "stdout",
     "output_type": "stream",
     "text": [
      "Cloning into 'customer-churn-ft_transformer'...\r\n",
      "remote: Enumerating objects: 1031, done.\u001b[K\r\n",
      "remote: Counting objects: 100% (75/75), done.\u001b[K\r\n",
      "remote: Compressing objects: 100% (58/58), done.\u001b[K\r\n",
      "remote: Total 1031 (delta 38), reused 49 (delta 15), pack-reused 956 (from 1)\u001b[K\r\n",
      "Receiving objects: 100% (1031/1031), 3.92 MiB | 12.71 MiB/s, done.\r\n",
      "Resolving deltas: 100% (519/519), done.\r\n"
     ]
    }
   ],
   "source": [
    "!git clone https://github.com/vleonel-junior/customer-churn-ft_transformer.git"
   ]
  },
  {
   "cell_type": "code",
   "execution_count": 2,
   "id": "472d3a92",
   "metadata": {
    "execution": {
     "iopub.execute_input": "2025-07-24T01:37:21.378899Z",
     "iopub.status.busy": "2025-07-24T01:37:21.378653Z",
     "iopub.status.idle": "2025-07-24T01:37:21.382341Z",
     "shell.execute_reply": "2025-07-24T01:37:21.381801Z"
    },
    "papermill": {
     "duration": 0.009269,
     "end_time": "2025-07-24T01:37:21.383406",
     "exception": false,
     "start_time": "2025-07-24T01:37:21.374137",
     "status": "completed"
    },
    "tags": []
   },
   "outputs": [],
   "source": [
    "import sys\n",
    "sys.path.append('/kaggle/working/customer-churn-ft_transformer')"
   ]
  },
  {
   "cell_type": "code",
   "execution_count": 3,
   "id": "771f1f9a",
   "metadata": {
    "execution": {
     "iopub.execute_input": "2025-07-24T01:37:21.391331Z",
     "iopub.status.busy": "2025-07-24T01:37:21.391125Z",
     "iopub.status.idle": "2025-07-24T01:37:21.736146Z",
     "shell.execute_reply": "2025-07-24T01:37:21.735123Z"
    },
    "papermill": {
     "duration": 0.350447,
     "end_time": "2025-07-24T01:37:21.737716",
     "exception": false,
     "start_time": "2025-07-24T01:37:21.387269",
     "status": "completed"
    },
    "tags": []
   },
   "outputs": [
    {
     "name": "stdout",
     "output_type": "stream",
     "text": [
      "/kaggle/working/customer-churn-ft_transformer\r\n",
      "total 108\r\n",
      "drwxr-xr-x 9 root root  4096 Jul 24 01:37 .\r\n",
      "drwxr-xr-x 3 root root  4096 Jul 24 01:37 ..\r\n",
      "drwxr-xr-x 3 root root  4096 Jul 24 01:37 data\r\n",
      "-rw-r--r-- 1 root root 26905 Jul 24 01:37 Experiments.ipynb\r\n",
      "drwxr-xr-x 2 root root  4096 Jul 24 01:37 ftt_plus\r\n",
      "drwxr-xr-x 8 root root  4096 Jul 24 01:37 .git\r\n",
      "drwxr-xr-x 2 root root  4096 Jul 24 01:37 images\r\n",
      "-rw-r--r-- 1 root root  8324 Jul 24 01:37 interpretability_analyzer.py\r\n",
      "-rw-r--r-- 1 root root 10266 Jul 24 01:37 num_embedding_factory.py\r\n",
      "drwxr-xr-x 2 root root  4096 Jul 24 01:37 __pycache__\r\n",
      "-rw-r--r-- 1 root root  5034 Jul 24 01:37 README.md\r\n",
      "drwxr-xr-x 5 root root  4096 Jul 24 01:37 rtdl_lib\r\n",
      "-rw-r--r-- 1 root root  6821 Jul 24 01:37 test_embeddings.py\r\n",
      "drwxr-xr-x 4 root root  4096 Jul 24 01:37 train\r\n",
      "-rw-r--r-- 1 root root  2333 Jul 24 01:37 utils.py\r\n",
      "total 1632\r\n",
      "drwxr-xr-x 3 root root   4096 Jul 24 01:37 .\r\n",
      "drwxr-xr-x 9 root root   4096 Jul 24 01:37 ..\r\n",
      "-rw-r--r-- 1 root root 674857 Jul 24 01:37 Churn_Modelling.csv\r\n",
      "-rw-r--r-- 1 root root   3727 Jul 24 01:37 process_bank_data.py\r\n",
      "-rw-r--r-- 1 root root   4224 Jul 24 01:37 process_telecom_data.py\r\n",
      "drwxr-xr-x 2 root root   4096 Jul 24 01:37 __pycache__\r\n",
      "-rw-r--r-- 1 root root 970457 Jul 24 01:37 Telco_Customer_Churn.csv\r\n",
      "-rw-r--r-- 1 root root      0 Jul 24 01:37 utils.py\r\n"
     ]
    }
   ],
   "source": [
    "# Le bon chemin est directement :\n",
    "import os\n",
    "os.chdir('/kaggle/working/customer-churn-ft_transformer')\n",
    "\n",
    "# Vérifier que vous êtes au bon endroit\n",
    "!pwd\n",
    "!ls -la\n",
    "\n",
    "# Vérifier que les datasets sont là\n",
    "!ls -la data/"
   ]
  },
  {
   "cell_type": "code",
   "execution_count": 4,
   "id": "fe21951d",
   "metadata": {
    "execution": {
     "iopub.execute_input": "2025-07-24T01:37:21.746579Z",
     "iopub.status.busy": "2025-07-24T01:37:21.746125Z",
     "iopub.status.idle": "2025-07-24T01:38:39.018426Z",
     "shell.execute_reply": "2025-07-24T01:38:39.017406Z"
    },
    "papermill": {
     "duration": 77.278178,
     "end_time": "2025-07-24T01:38:39.019881",
     "exception": false,
     "start_time": "2025-07-24T01:37:21.741703",
     "status": "completed"
    },
    "tags": []
   },
   "outputs": [
    {
     "name": "stdout",
     "output_type": "stream",
     "text": [
      "Installation de rtdl_num_embeddings réussie\r\n",
      "Installation de scikit-learn réussie\r\n"
     ]
    }
   ],
   "source": [
    "# Installation silencieuse des packages pour rtdl_num_embeddings\n",
    "!pip install rtdl_num_embeddings -qqq > /dev/null 2>&1 && echo 'Installation de rtdl_num_embeddings réussie'\n",
    "!pip install \"scikit-learn>=1.0,<2\" -qqq > /dev/null 2>&1 && echo 'Installation de scikit-learn réussie'"
   ]
  },
  {
   "cell_type": "code",
   "execution_count": 5,
   "id": "cefacd91",
   "metadata": {
    "execution": {
     "iopub.execute_input": "2025-07-24T01:38:39.028590Z",
     "iopub.status.busy": "2025-07-24T01:38:39.028349Z",
     "iopub.status.idle": "2025-07-24T01:40:10.022910Z",
     "shell.execute_reply": "2025-07-24T01:40:10.021912Z"
    },
    "papermill": {
     "duration": 91.000532,
     "end_time": "2025-07-24T01:40:10.024363",
     "exception": false,
     "start_time": "2025-07-24T01:38:39.023831",
     "status": "completed"
    },
    "tags": []
   },
   "outputs": [
    {
     "name": "stdout",
     "output_type": "stream",
     "text": [
      "Installation de libzero réussie\r\n",
      "Installation de optuna réussie\r\n"
     ]
    }
   ],
   "source": [
    "!pip install libzero==0.0.4 -qqq > /dev/null 2>&1 && echo 'Installation de libzero réussie'\n",
    "!pip install optuna -qqq > /dev/null 2>&1 && echo 'Installation de optuna réussie'"
   ]
  },
  {
   "cell_type": "code",
   "execution_count": null,
   "id": "942807ce",
   "metadata": {
    "papermill": {
     "duration": 0.00379,
     "end_time": "2025-07-24T01:40:10.032140",
     "exception": false,
     "start_time": "2025-07-24T01:40:10.028350",
     "status": "completed"
    },
    "tags": []
   },
   "outputs": [],
   "source": []
  },
  {
   "cell_type": "markdown",
   "id": "efefc07e",
   "metadata": {
    "papermill": {
     "duration": 0.003494,
     "end_time": "2025-07-24T01:40:10.039373",
     "exception": false,
     "start_time": "2025-07-24T01:40:10.035879",
     "status": "completed"
    },
    "tags": []
   },
   "source": [
    "# FT-T training"
   ]
  },
  {
   "cell_type": "code",
   "execution_count": 6,
   "id": "4defeace",
   "metadata": {
    "execution": {
     "iopub.execute_input": "2025-07-24T01:40:10.048149Z",
     "iopub.status.busy": "2025-07-24T01:40:10.047559Z",
     "iopub.status.idle": "2025-07-24T01:40:15.260130Z",
     "shell.execute_reply": "2025-07-24T01:40:15.259383Z"
    },
    "papermill": {
     "duration": 5.218458,
     "end_time": "2025-07-24T01:40:15.261449",
     "exception": false,
     "start_time": "2025-07-24T01:40:10.042991",
     "status": "completed"
    },
    "tags": []
   },
   "outputs": [
    {
     "name": "stdout",
     "output_type": "stream",
     "text": [
      "Utilisation du device: cuda\r\n",
      "Seed: 0\r\n",
      "Traceback (most recent call last):\r\n",
      "  File \"/kaggle/working/customer-churn-ft_transformer/train/Bank/train_ftt/train.py\", line 31, in <module>\r\n",
      "    X, y, cat_cardinalities = get_data(seed)\r\n",
      "                              ^^^^^^^^^^^^^^\r\n",
      "  File \"/kaggle/working/customer-churn-ft_transformer/data/process_bank_data.py\", line 57, in get_data\r\n",
      "    X_num, X_cat, y_all, cat_cardinalities = read_data(CHURN_XLS_PATH)\r\n",
      "                                                       ^^^^^^^^^^^^^^\r\n",
      "NameError: name 'CHURN_XLS_PATH' is not defined. Did you mean: 'CHURN_CSV_PATH'?\r\n"
     ]
    }
   ],
   "source": [
    "import os\n",
    "\n",
    "# Changer vers le répertoire racine\n",
    "os.chdir('/kaggle/working/customer-churn-ft_transformer')\n",
    "\n",
    "# Utiliser PYTHONPATH pour que train.py trouve les modules\n",
    "!PYTHONPATH=/kaggle/working/customer-churn-ft_transformer python train/Bank/train_ftt/train.py"
   ]
  },
  {
   "cell_type": "code",
   "execution_count": null,
   "id": "37f204df",
   "metadata": {
    "papermill": {
     "duration": 0.003598,
     "end_time": "2025-07-24T01:40:15.269305",
     "exception": false,
     "start_time": "2025-07-24T01:40:15.265707",
     "status": "completed"
    },
    "tags": []
   },
   "outputs": [],
   "source": []
  },
  {
   "cell_type": "markdown",
   "id": "2f2ae5d1",
   "metadata": {
    "papermill": {
     "duration": 0.003601,
     "end_time": "2025-07-24T01:40:15.277325",
     "exception": false,
     "start_time": "2025-07-24T01:40:15.273724",
     "status": "completed"
    },
    "tags": []
   },
   "source": [
    "# Interpretable FT-T+ Training"
   ]
  },
  {
   "cell_type": "code",
   "execution_count": 7,
   "id": "6a6dc6c6",
   "metadata": {
    "execution": {
     "iopub.execute_input": "2025-07-24T01:40:15.287348Z",
     "iopub.status.busy": "2025-07-24T01:40:15.286678Z",
     "iopub.status.idle": "2025-07-24T01:40:17.992443Z",
     "shell.execute_reply": "2025-07-24T01:40:17.991696Z"
    },
    "papermill": {
     "duration": 2.712114,
     "end_time": "2025-07-24T01:40:17.993884",
     "exception": false,
     "start_time": "2025-07-24T01:40:15.281770",
     "status": "completed"
    },
    "tags": []
   },
   "outputs": [
    {
     "name": "stdout",
     "output_type": "stream",
     "text": [
      "Utilisation du device: cuda\r\n",
      "Seed: 0\r\n",
      "Traceback (most recent call last):\r\n",
      "  File \"/kaggle/working/customer-churn-ft_transformer/train/Bank/train_ftt_plus/train.py\", line 32, in <module>\r\n",
      "    X, y, cat_cardinalities = get_data(seed)\r\n",
      "                              ^^^^^^^^^^^^^^\r\n",
      "  File \"/kaggle/working/customer-churn-ft_transformer/data/process_bank_data.py\", line 57, in get_data\r\n",
      "    X_num, X_cat, y_all, cat_cardinalities = read_data(CHURN_XLS_PATH)\r\n",
      "                                                       ^^^^^^^^^^^^^^\r\n",
      "NameError: name 'CHURN_XLS_PATH' is not defined. Did you mean: 'CHURN_CSV_PATH'?\r\n"
     ]
    }
   ],
   "source": [
    "import os\n",
    "\n",
    "# Changer vers le répertoire racine\n",
    "os.chdir('/kaggle/working/customer-churn-ft_transformer')\n",
    "\n",
    "# Utiliser PYTHONPATH pour que train.py trouve les modules\n",
    "!PYTHONPATH=/kaggle/working/customer-churn-ft_transformer python train/Bank/train_ftt_plus/train.py"
   ]
  },
  {
   "cell_type": "code",
   "execution_count": null,
   "id": "6dabd1ea",
   "metadata": {
    "papermill": {
     "duration": 0.003655,
     "end_time": "2025-07-24T01:40:18.001798",
     "exception": false,
     "start_time": "2025-07-24T01:40:17.998143",
     "status": "completed"
    },
    "tags": []
   },
   "outputs": [],
   "source": []
  },
  {
   "cell_type": "code",
   "execution_count": null,
   "id": "0142f4ca",
   "metadata": {
    "papermill": {
     "duration": 0.003659,
     "end_time": "2025-07-24T01:40:18.009161",
     "exception": false,
     "start_time": "2025-07-24T01:40:18.005502",
     "status": "completed"
    },
    "tags": []
   },
   "outputs": [],
   "source": []
  },
  {
   "cell_type": "code",
   "execution_count": null,
   "id": "b695304f",
   "metadata": {
    "papermill": {
     "duration": 0.003532,
     "end_time": "2025-07-24T01:40:18.016451",
     "exception": false,
     "start_time": "2025-07-24T01:40:18.012919",
     "status": "completed"
    },
    "tags": []
   },
   "outputs": [],
   "source": []
  },
  {
   "cell_type": "markdown",
   "id": "0115f98f",
   "metadata": {
    "papermill": {
     "duration": 0.003633,
     "end_time": "2025-07-24T01:40:18.023784",
     "exception": false,
     "start_time": "2025-07-24T01:40:18.020151",
     "status": "completed"
    },
    "tags": []
   },
   "source": [
    "# FT-T Model Optimized with Optuna"
   ]
  },
  {
   "cell_type": "code",
   "execution_count": 8,
   "id": "28e3696a",
   "metadata": {
    "execution": {
     "iopub.execute_input": "2025-07-24T01:40:18.032712Z",
     "iopub.status.busy": "2025-07-24T01:40:18.032438Z",
     "iopub.status.idle": "2025-07-24T01:40:18.038819Z",
     "shell.execute_reply": "2025-07-24T01:40:18.038109Z"
    },
    "papermill": {
     "duration": 0.012328,
     "end_time": "2025-07-24T01:40:18.039940",
     "exception": false,
     "start_time": "2025-07-24T01:40:18.027612",
     "status": "completed"
    },
    "tags": []
   },
   "outputs": [
    {
     "data": {
      "text/plain": [
       "\"\\nimport os\\n\\n# Changer vers le répertoire racine\\nos.chdir('/kaggle/working/customer-churn-ft_transformer')\\n\\n# Utiliser PYTHONPATH pour que train.py trouve les modules\\n!PYTHONPATH=/kaggle/working/customer-churn-ft_transformer python train/Telecom/train_ftt/experiment_with_optuna.py\\n\\n\""
      ]
     },
     "execution_count": 8,
     "metadata": {},
     "output_type": "execute_result"
    }
   ],
   "source": [
    "\"\"\"\n",
    "import os\n",
    "\n",
    "# Changer vers le répertoire racine\n",
    "os.chdir('/kaggle/working/customer-churn-ft_transformer')\n",
    "\n",
    "# Utiliser PYTHONPATH pour que train.py trouve les modules\n",
    "!PYTHONPATH=/kaggle/working/customer-churn-ft_transformer python train/Telecom/train_ftt/experiment_with_optuna.py\n",
    "\n",
    "\"\"\""
   ]
  },
  {
   "cell_type": "code",
   "execution_count": null,
   "id": "a7bd739e",
   "metadata": {
    "papermill": {
     "duration": 0.003812,
     "end_time": "2025-07-24T01:40:18.047654",
     "exception": false,
     "start_time": "2025-07-24T01:40:18.043842",
     "status": "completed"
    },
    "tags": []
   },
   "outputs": [],
   "source": []
  },
  {
   "cell_type": "markdown",
   "id": "01079d16",
   "metadata": {
    "papermill": {
     "duration": 0.003703,
     "end_time": "2025-07-24T01:40:18.055217",
     "exception": false,
     "start_time": "2025-07-24T01:40:18.051514",
     "status": "completed"
    },
    "tags": []
   },
   "source": [
    "# FT-T+ Model Optimized with Optuna"
   ]
  },
  {
   "cell_type": "code",
   "execution_count": 9,
   "id": "04f6af46",
   "metadata": {
    "execution": {
     "iopub.execute_input": "2025-07-24T01:40:18.064215Z",
     "iopub.status.busy": "2025-07-24T01:40:18.063809Z",
     "iopub.status.idle": "2025-07-24T01:40:18.068223Z",
     "shell.execute_reply": "2025-07-24T01:40:18.067522Z"
    },
    "papermill": {
     "duration": 0.010267,
     "end_time": "2025-07-24T01:40:18.069336",
     "exception": false,
     "start_time": "2025-07-24T01:40:18.059069",
     "status": "completed"
    },
    "tags": []
   },
   "outputs": [
    {
     "data": {
      "text/plain": [
       "\"\\nimport os\\n\\n# Changer vers le répertoire racine\\nos.chdir('/kaggle/working/customer-churn-ft_transformer')\\n\\n# Utiliser PYTHONPATH pour que train.py trouve les modules\\n!PYTHONPATH=/kaggle/working/customer-churn-ft_transformer python train/Telecom/train_ftt_plus/experiment_with_optuna.py\\n\""
      ]
     },
     "execution_count": 9,
     "metadata": {},
     "output_type": "execute_result"
    }
   ],
   "source": [
    "\"\"\"\n",
    "import os\n",
    "\n",
    "# Changer vers le répertoire racine\n",
    "os.chdir('/kaggle/working/customer-churn-ft_transformer')\n",
    "\n",
    "# Utiliser PYTHONPATH pour que train.py trouve les modules\n",
    "!PYTHONPATH=/kaggle/working/customer-churn-ft_transformer python train/Telecom/train_ftt_plus/experiment_with_optuna.py\n",
    "\"\"\""
   ]
  },
  {
   "cell_type": "code",
   "execution_count": null,
   "id": "2c4e7685",
   "metadata": {
    "papermill": {
     "duration": 0.003903,
     "end_time": "2025-07-24T01:40:18.077346",
     "exception": false,
     "start_time": "2025-07-24T01:40:18.073443",
     "status": "completed"
    },
    "tags": []
   },
   "outputs": [],
   "source": []
  },
  {
   "cell_type": "code",
   "execution_count": null,
   "id": "b71a690d",
   "metadata": {
    "papermill": {
     "duration": 0.003873,
     "end_time": "2025-07-24T01:40:18.085201",
     "exception": false,
     "start_time": "2025-07-24T01:40:18.081328",
     "status": "completed"
    },
    "tags": []
   },
   "outputs": [],
   "source": []
  },
  {
   "cell_type": "markdown",
   "id": "f6f0db28",
   "metadata": {
    "papermill": {
     "duration": 0.003867,
     "end_time": "2025-07-24T01:40:18.093026",
     "exception": false,
     "start_time": "2025-07-24T01:40:18.089159",
     "status": "completed"
    },
    "tags": []
   },
   "source": [
    "# Downloading the results folder"
   ]
  },
  {
   "cell_type": "code",
   "execution_count": 10,
   "id": "80d514eb",
   "metadata": {
    "execution": {
     "iopub.execute_input": "2025-07-24T01:40:18.101894Z",
     "iopub.status.busy": "2025-07-24T01:40:18.101686Z",
     "iopub.status.idle": "2025-07-24T01:40:18.332920Z",
     "shell.execute_reply": "2025-07-24T01:40:18.331936Z"
    },
    "papermill": {
     "duration": 0.237484,
     "end_time": "2025-07-24T01:40:18.334438",
     "exception": false,
     "start_time": "2025-07-24T01:40:18.096954",
     "status": "completed"
    },
    "tags": []
   },
   "outputs": [
    {
     "name": "stdout",
     "output_type": "stream",
     "text": [
      "/kaggle/working/customer-churn-ft_transformer\r\n",
      "total 112\r\n",
      "drwxr-xr-x 10 root root  4096 Jul 24 01:40 .\r\n",
      "drwxr-xr-x  3 root root  4096 Jul 24 01:37 ..\r\n",
      "drwxr-xr-x  3 root root  4096 Jul 24 01:37 data\r\n",
      "-rw-r--r--  1 root root 26905 Jul 24 01:37 Experiments.ipynb\r\n",
      "drwxr-xr-x  3 root root  4096 Jul 24 01:40 ftt_plus\r\n",
      "drwxr-xr-x  8 root root  4096 Jul 24 01:37 .git\r\n",
      "drwxr-xr-x  2 root root  4096 Jul 24 01:37 images\r\n",
      "-rw-r--r--  1 root root  8324 Jul 24 01:37 interpretability_analyzer.py\r\n",
      "-rw-r--r--  1 root root 10266 Jul 24 01:37 num_embedding_factory.py\r\n",
      "drwxr-xr-x  2 root root  4096 Jul 24 01:40 __pycache__\r\n",
      "-rw-r--r--  1 root root  5034 Jul 24 01:37 README.md\r\n",
      "drwxr-xr-x  3 root root  4096 Jul 24 01:40 results\r\n",
      "drwxr-xr-x  5 root root  4096 Jul 24 01:37 rtdl_lib\r\n",
      "-rw-r--r--  1 root root  6821 Jul 24 01:37 test_embeddings.py\r\n",
      "drwxr-xr-x  4 root root  4096 Jul 24 01:37 train\r\n",
      "-rw-r--r--  1 root root  2333 Jul 24 01:37 utils.py\r\n"
     ]
    }
   ],
   "source": [
    "!pwd\n",
    "!ls -la"
   ]
  },
  {
   "cell_type": "code",
   "execution_count": 11,
   "id": "80f9ff9c",
   "metadata": {
    "execution": {
     "iopub.execute_input": "2025-07-24T01:40:18.344929Z",
     "iopub.status.busy": "2025-07-24T01:40:18.344696Z",
     "iopub.status.idle": "2025-07-24T01:40:18.351778Z",
     "shell.execute_reply": "2025-07-24T01:40:18.351235Z"
    },
    "papermill": {
     "duration": 0.01361,
     "end_time": "2025-07-24T01:40:18.352977",
     "exception": false,
     "start_time": "2025-07-24T01:40:18.339367",
     "status": "completed"
    },
    "tags": []
   },
   "outputs": [
    {
     "data": {
      "text/plain": [
       "'/kaggle/working/results.zip'"
      ]
     },
     "execution_count": 11,
     "metadata": {},
     "output_type": "execute_result"
    }
   ],
   "source": [
    "import shutil\n",
    "\n",
    "# On se place dans le bon dossier racine\n",
    "import os\n",
    "os.chdir('/kaggle/working/customer-churn-ft_transformer')\n",
    "\n",
    "# On crée une archive ZIP du dossier results\n",
    "shutil.make_archive('/kaggle/working/results', 'zip', 'results')\n"
   ]
  },
  {
   "cell_type": "code",
   "execution_count": null,
   "id": "3702d97f",
   "metadata": {
    "papermill": {
     "duration": 0.004184,
     "end_time": "2025-07-24T01:40:18.361449",
     "exception": false,
     "start_time": "2025-07-24T01:40:18.357265",
     "status": "completed"
    },
    "tags": []
   },
   "outputs": [],
   "source": []
  },
  {
   "cell_type": "code",
   "execution_count": null,
   "id": "e9fd6a30",
   "metadata": {
    "papermill": {
     "duration": 0.004263,
     "end_time": "2025-07-24T01:40:18.369926",
     "exception": false,
     "start_time": "2025-07-24T01:40:18.365663",
     "status": "completed"
    },
    "tags": []
   },
   "outputs": [],
   "source": []
  }
 ],
 "metadata": {
  "kaggle": {
   "accelerator": "gpu",
   "dataSources": [],
   "dockerImageVersionId": 31041,
   "isGpuEnabled": true,
   "isInternetEnabled": true,
   "language": "python",
   "sourceType": "notebook"
  },
  "kernelspec": {
   "display_name": "Python 3",
   "language": "python",
   "name": "python3"
  },
  "language_info": {
   "codemirror_mode": {
    "name": "ipython",
    "version": 3
   },
   "file_extension": ".py",
   "mimetype": "text/x-python",
   "name": "python",
   "nbconvert_exporter": "python",
   "pygments_lexer": "ipython3",
   "version": "3.11.11"
  },
  "papermill": {
   "default_parameters": {},
   "duration": 182.523969,
   "end_time": "2025-07-24T01:40:18.690482",
   "environment_variables": {},
   "exception": null,
   "input_path": "__notebook__.ipynb",
   "output_path": "__notebook__.ipynb",
   "parameters": {},
   "start_time": "2025-07-24T01:37:16.166513",
   "version": "2.6.0"
  }
 },
 "nbformat": 4,
 "nbformat_minor": 5
}
