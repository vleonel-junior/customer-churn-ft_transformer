{
 "cells": [
  {
   "cell_type": "code",
   "execution_count": 1,
   "id": "3c72958f",
   "metadata": {
    "_cell_guid": "b1076dfc-b9ad-4769-8c92-a6c4dae69d19",
    "_uuid": "8f2839f25d086af736a60e9eeb907d3b93b6e0e5",
    "execution": {
     "iopub.execute_input": "2025-07-24T01:19:05.744381Z",
     "iopub.status.busy": "2025-07-24T01:19:05.743804Z",
     "iopub.status.idle": "2025-07-24T01:19:06.740350Z",
     "shell.execute_reply": "2025-07-24T01:19:06.739368Z"
    },
    "papermill": {
     "duration": 1.004531,
     "end_time": "2025-07-24T01:19:06.742320",
     "exception": false,
     "start_time": "2025-07-24T01:19:05.737789",
     "status": "completed"
    },
    "tags": []
   },
   "outputs": [
    {
     "name": "stdout",
     "output_type": "stream",
     "text": [
      "Cloning into 'customer-churn-ft_transformer'...\r\n",
      "remote: Enumerating objects: 1013, done.\u001b[K\r\n",
      "remote: Counting objects: 100% (57/57), done.\u001b[K\r\n",
      "remote: Compressing objects: 100% (44/44), done.\u001b[K\r\n",
      "remote: Total 1013 (delta 24), reused 41 (delta 11), pack-reused 956 (from 1)\u001b[K\r\n",
      "Receiving objects: 100% (1013/1013), 3.92 MiB | 17.75 MiB/s, done.\r\n",
      "Resolving deltas: 100% (505/505), done.\r\n"
     ]
    }
   ],
   "source": [
    "!git clone https://github.com/vleonel-junior/customer-churn-ft_transformer.git"
   ]
  },
  {
   "cell_type": "code",
   "execution_count": 2,
   "id": "af18f0d9",
   "metadata": {
    "execution": {
     "iopub.execute_input": "2025-07-24T01:19:06.752711Z",
     "iopub.status.busy": "2025-07-24T01:19:06.752410Z",
     "iopub.status.idle": "2025-07-24T01:19:06.757063Z",
     "shell.execute_reply": "2025-07-24T01:19:06.756293Z"
    },
    "papermill": {
     "duration": 0.011523,
     "end_time": "2025-07-24T01:19:06.758457",
     "exception": false,
     "start_time": "2025-07-24T01:19:06.746934",
     "status": "completed"
    },
    "tags": []
   },
   "outputs": [],
   "source": [
    "import sys\n",
    "sys.path.append('/kaggle/working/customer-churn-ft_transformer')"
   ]
  },
  {
   "cell_type": "code",
   "execution_count": 3,
   "id": "50be85fb",
   "metadata": {
    "execution": {
     "iopub.execute_input": "2025-07-24T01:19:06.768177Z",
     "iopub.status.busy": "2025-07-24T01:19:06.767847Z",
     "iopub.status.idle": "2025-07-24T01:19:07.118960Z",
     "shell.execute_reply": "2025-07-24T01:19:07.117347Z"
    },
    "papermill": {
     "duration": 0.358045,
     "end_time": "2025-07-24T01:19:07.120851",
     "exception": false,
     "start_time": "2025-07-24T01:19:06.762806",
     "status": "completed"
    },
    "tags": []
   },
   "outputs": [
    {
     "name": "stdout",
     "output_type": "stream",
     "text": [
      "/kaggle/working/customer-churn-ft_transformer\r\n",
      "total 108\r\n",
      "drwxr-xr-x 9 root root  4096 Jul 24 01:19 .\r\n",
      "drwxr-xr-x 3 root root  4096 Jul 24 01:19 ..\r\n",
      "drwxr-xr-x 3 root root  4096 Jul 24 01:19 data\r\n",
      "-rw-r--r-- 1 root root 24621 Jul 24 01:19 Experiments.ipynb\r\n",
      "drwxr-xr-x 2 root root  4096 Jul 24 01:19 ftt_plus\r\n",
      "drwxr-xr-x 8 root root  4096 Jul 24 01:19 .git\r\n",
      "drwxr-xr-x 2 root root  4096 Jul 24 01:19 images\r\n",
      "-rw-r--r-- 1 root root  8324 Jul 24 01:19 interpretability_analyzer.py\r\n",
      "-rw-r--r-- 1 root root 10266 Jul 24 01:19 num_embedding_factory.py\r\n",
      "drwxr-xr-x 2 root root  4096 Jul 24 01:19 __pycache__\r\n",
      "-rw-r--r-- 1 root root  5034 Jul 24 01:19 README.md\r\n",
      "drwxr-xr-x 5 root root  4096 Jul 24 01:19 rtdl_lib\r\n",
      "-rw-r--r-- 1 root root  6821 Jul 24 01:19 test_embeddings.py\r\n",
      "drwxr-xr-x 4 root root  4096 Jul 24 01:19 train\r\n",
      "-rw-r--r-- 1 root root  2333 Jul 24 01:19 utils.py\r\n",
      "total 1632\r\n",
      "drwxr-xr-x 3 root root   4096 Jul 24 01:19 .\r\n",
      "drwxr-xr-x 9 root root   4096 Jul 24 01:19 ..\r\n",
      "-rw-r--r-- 1 root root 674857 Jul 24 01:19 Churn_Modelling.xls\r\n",
      "-rw-r--r-- 1 root root   3719 Jul 24 01:19 process_bank_data.py\r\n",
      "-rw-r--r-- 1 root root   4224 Jul 24 01:19 process_telecom_data.py\r\n",
      "drwxr-xr-x 2 root root   4096 Jul 24 01:19 __pycache__\r\n",
      "-rw-r--r-- 1 root root 970457 Jul 24 01:19 Telco_Customer_Churn.csv\r\n",
      "-rw-r--r-- 1 root root      0 Jul 24 01:19 utils.py\r\n"
     ]
    }
   ],
   "source": [
    "# Le bon chemin est directement :\n",
    "import os\n",
    "os.chdir('/kaggle/working/customer-churn-ft_transformer')\n",
    "\n",
    "# Vérifier que vous êtes au bon endroit\n",
    "!pwd\n",
    "!ls -la\n",
    "\n",
    "# Vérifier que les datasets sont là\n",
    "!ls -la data/"
   ]
  },
  {
   "cell_type": "code",
   "execution_count": 4,
   "id": "fc5ffbe3",
   "metadata": {
    "execution": {
     "iopub.execute_input": "2025-07-24T01:19:07.131348Z",
     "iopub.status.busy": "2025-07-24T01:19:07.131013Z",
     "iopub.status.idle": "2025-07-24T01:20:35.823861Z",
     "shell.execute_reply": "2025-07-24T01:20:35.822635Z"
    },
    "papermill": {
     "duration": 88.700568,
     "end_time": "2025-07-24T01:20:35.826087",
     "exception": false,
     "start_time": "2025-07-24T01:19:07.125519",
     "status": "completed"
    },
    "tags": []
   },
   "outputs": [
    {
     "name": "stdout",
     "output_type": "stream",
     "text": [
      "Installation de rtdl_num_embeddings réussie\r\n",
      "Installation de scikit-learn réussie\r\n"
     ]
    }
   ],
   "source": [
    "# Installation silencieuse des packages pour rtdl_num_embeddings\n",
    "!pip install rtdl_num_embeddings -qqq > /dev/null 2>&1 && echo 'Installation de rtdl_num_embeddings réussie'\n",
    "!pip install \"scikit-learn>=1.0,<2\" -qqq > /dev/null 2>&1 && echo 'Installation de scikit-learn réussie'"
   ]
  },
  {
   "cell_type": "code",
   "execution_count": 5,
   "id": "6e242aa7",
   "metadata": {
    "execution": {
     "iopub.execute_input": "2025-07-24T01:20:35.844196Z",
     "iopub.status.busy": "2025-07-24T01:20:35.843760Z",
     "iopub.status.idle": "2025-07-24T01:22:31.057262Z",
     "shell.execute_reply": "2025-07-24T01:22:31.055587Z"
    },
    "papermill": {
     "duration": 115.225197,
     "end_time": "2025-07-24T01:22:31.059721",
     "exception": false,
     "start_time": "2025-07-24T01:20:35.834524",
     "status": "completed"
    },
    "tags": []
   },
   "outputs": [
    {
     "name": "stdout",
     "output_type": "stream",
     "text": [
      "Installation de libzero réussie\r\n",
      "Installation de optuna réussie\r\n"
     ]
    }
   ],
   "source": [
    "!pip install libzero==0.0.4 -qqq > /dev/null 2>&1 && echo 'Installation de libzero réussie'\n",
    "!pip install optuna -qqq > /dev/null 2>&1 && echo 'Installation de optuna réussie'"
   ]
  },
  {
   "cell_type": "code",
   "execution_count": null,
   "id": "8b91eae3",
   "metadata": {
    "papermill": {
     "duration": 0.004817,
     "end_time": "2025-07-24T01:22:31.069838",
     "exception": false,
     "start_time": "2025-07-24T01:22:31.065021",
     "status": "completed"
    },
    "tags": []
   },
   "outputs": [],
   "source": []
  },
  {
   "cell_type": "markdown",
   "id": "c562b54d",
   "metadata": {
    "papermill": {
     "duration": 0.0045,
     "end_time": "2025-07-24T01:22:31.079203",
     "exception": false,
     "start_time": "2025-07-24T01:22:31.074703",
     "status": "completed"
    },
    "tags": []
   },
   "source": [
    "# FT-T training"
   ]
  },
  {
   "cell_type": "code",
   "execution_count": 6,
   "id": "27ac4450",
   "metadata": {
    "execution": {
     "iopub.execute_input": "2025-07-24T01:22:31.091427Z",
     "iopub.status.busy": "2025-07-24T01:22:31.090962Z",
     "iopub.status.idle": "2025-07-24T01:22:38.201745Z",
     "shell.execute_reply": "2025-07-24T01:22:38.200617Z"
    },
    "papermill": {
     "duration": 7.119747,
     "end_time": "2025-07-24T01:22:38.203616",
     "exception": false,
     "start_time": "2025-07-24T01:22:31.083869",
     "status": "completed"
    },
    "tags": []
   },
   "outputs": [
    {
     "name": "stdout",
     "output_type": "stream",
     "text": [
      "Utilisation du device: cpu\r\n",
      "Seed: 0\r\n",
      "Traceback (most recent call last):\r\n",
      "  File \"/kaggle/working/customer-churn-ft_transformer/train/Bank/train_ftt/train.py\", line 31, in <module>\r\n",
      "    X, y, cat_cardinalities = get_data(seed)\r\n",
      "                              ^^^^^^^^^^^^^^\r\n",
      "  File \"/kaggle/working/customer-churn-ft_transformer/data/process_bank_data.py\", line 57, in get_data\r\n",
      "    X_num, X_cat, y_all, cat_cardinalities = read_data(CHURN_XLS_PATH)\r\n",
      "                                             ^^^^^^^^^^^^^^^^^^^^^^^^^\r\n",
      "  File \"/kaggle/working/customer-churn-ft_transformer/data/process_bank_data.py\", line 16, in read_data\r\n",
      "    df = pd.read_excel(path)\r\n",
      "         ^^^^^^^^^^^^^^^^^^^\r\n",
      "  File \"/usr/local/lib/python3.11/dist-packages/pandas/io/excel/_base.py\", line 495, in read_excel\r\n",
      "    io = ExcelFile(\r\n",
      "         ^^^^^^^^^^\r\n",
      "  File \"/usr/local/lib/python3.11/dist-packages/pandas/io/excel/_base.py\", line 1554, in __init__\r\n",
      "    raise ValueError(\r\n",
      "ValueError: Excel file format cannot be determined, you must specify an engine manually.\r\n"
     ]
    }
   ],
   "source": [
    "import os\n",
    "\n",
    "# Changer vers le répertoire racine\n",
    "os.chdir('/kaggle/working/customer-churn-ft_transformer')\n",
    "\n",
    "# Utiliser PYTHONPATH pour que train.py trouve les modules\n",
    "!PYTHONPATH=/kaggle/working/customer-churn-ft_transformer python train/Bank/train_ftt/train.py"
   ]
  },
  {
   "cell_type": "code",
   "execution_count": null,
   "id": "dd3f9b15",
   "metadata": {
    "papermill": {
     "duration": 0.006504,
     "end_time": "2025-07-24T01:22:38.215170",
     "exception": false,
     "start_time": "2025-07-24T01:22:38.208666",
     "status": "completed"
    },
    "tags": []
   },
   "outputs": [],
   "source": []
  },
  {
   "cell_type": "markdown",
   "id": "8f5506a0",
   "metadata": {
    "papermill": {
     "duration": 0.004422,
     "end_time": "2025-07-24T01:22:38.224285",
     "exception": false,
     "start_time": "2025-07-24T01:22:38.219863",
     "status": "completed"
    },
    "tags": []
   },
   "source": [
    "# Interpretable FT-T+ Training"
   ]
  },
  {
   "cell_type": "code",
   "execution_count": 7,
   "id": "689afc27",
   "metadata": {
    "execution": {
     "iopub.execute_input": "2025-07-24T01:22:38.235268Z",
     "iopub.status.busy": "2025-07-24T01:22:38.234934Z",
     "iopub.status.idle": "2025-07-24T01:22:41.642853Z",
     "shell.execute_reply": "2025-07-24T01:22:41.641790Z"
    },
    "papermill": {
     "duration": 3.415656,
     "end_time": "2025-07-24T01:22:41.644618",
     "exception": false,
     "start_time": "2025-07-24T01:22:38.228962",
     "status": "completed"
    },
    "tags": []
   },
   "outputs": [
    {
     "name": "stdout",
     "output_type": "stream",
     "text": [
      "Utilisation du device: cpu\r\n",
      "Seed: 0\r\n",
      "Traceback (most recent call last):\r\n",
      "  File \"/kaggle/working/customer-churn-ft_transformer/train/Bank/train_ftt_plus/train.py\", line 32, in <module>\r\n",
      "    X, y, cat_cardinalities = get_data(seed)\r\n",
      "                              ^^^^^^^^^^^^^^\r\n",
      "  File \"/kaggle/working/customer-churn-ft_transformer/data/process_bank_data.py\", line 57, in get_data\r\n",
      "    X_num, X_cat, y_all, cat_cardinalities = read_data(CHURN_XLS_PATH)\r\n",
      "                                             ^^^^^^^^^^^^^^^^^^^^^^^^^\r\n",
      "  File \"/kaggle/working/customer-churn-ft_transformer/data/process_bank_data.py\", line 16, in read_data\r\n",
      "    df = pd.read_excel(path)\r\n",
      "         ^^^^^^^^^^^^^^^^^^^\r\n",
      "  File \"/usr/local/lib/python3.11/dist-packages/pandas/io/excel/_base.py\", line 495, in read_excel\r\n",
      "    io = ExcelFile(\r\n",
      "         ^^^^^^^^^^\r\n",
      "  File \"/usr/local/lib/python3.11/dist-packages/pandas/io/excel/_base.py\", line 1554, in __init__\r\n",
      "    raise ValueError(\r\n",
      "ValueError: Excel file format cannot be determined, you must specify an engine manually.\r\n"
     ]
    }
   ],
   "source": [
    "import os\n",
    "\n",
    "# Changer vers le répertoire racine\n",
    "os.chdir('/kaggle/working/customer-churn-ft_transformer')\n",
    "\n",
    "# Utiliser PYTHONPATH pour que train.py trouve les modules\n",
    "!PYTHONPATH=/kaggle/working/customer-churn-ft_transformer python train/Bank/train_ftt_plus/train.py"
   ]
  },
  {
   "cell_type": "code",
   "execution_count": null,
   "id": "be88ba46",
   "metadata": {
    "papermill": {
     "duration": 0.004872,
     "end_time": "2025-07-24T01:22:41.654807",
     "exception": false,
     "start_time": "2025-07-24T01:22:41.649935",
     "status": "completed"
    },
    "tags": []
   },
   "outputs": [],
   "source": []
  },
  {
   "cell_type": "code",
   "execution_count": null,
   "id": "7df61dc9",
   "metadata": {
    "papermill": {
     "duration": 0.004742,
     "end_time": "2025-07-24T01:22:41.664718",
     "exception": false,
     "start_time": "2025-07-24T01:22:41.659976",
     "status": "completed"
    },
    "tags": []
   },
   "outputs": [],
   "source": []
  },
  {
   "cell_type": "code",
   "execution_count": null,
   "id": "49645456",
   "metadata": {
    "papermill": {
     "duration": 0.004574,
     "end_time": "2025-07-24T01:22:41.674156",
     "exception": false,
     "start_time": "2025-07-24T01:22:41.669582",
     "status": "completed"
    },
    "tags": []
   },
   "outputs": [],
   "source": []
  },
  {
   "cell_type": "markdown",
   "id": "564a6726",
   "metadata": {
    "papermill": {
     "duration": 0.004547,
     "end_time": "2025-07-24T01:22:41.683640",
     "exception": false,
     "start_time": "2025-07-24T01:22:41.679093",
     "status": "completed"
    },
    "tags": []
   },
   "source": [
    "# FT-T Model Optimized with Optuna"
   ]
  },
  {
   "cell_type": "code",
   "execution_count": 8,
   "id": "1ece4b91",
   "metadata": {
    "execution": {
     "iopub.execute_input": "2025-07-24T01:22:41.694762Z",
     "iopub.status.busy": "2025-07-24T01:22:41.694423Z",
     "iopub.status.idle": "2025-07-24T01:22:41.703851Z",
     "shell.execute_reply": "2025-07-24T01:22:41.702800Z"
    },
    "papermill": {
     "duration": 0.016896,
     "end_time": "2025-07-24T01:22:41.705308",
     "exception": false,
     "start_time": "2025-07-24T01:22:41.688412",
     "status": "completed"
    },
    "tags": []
   },
   "outputs": [
    {
     "data": {
      "text/plain": [
       "\"\\nimport os\\n\\n# Changer vers le répertoire racine\\nos.chdir('/kaggle/working/customer-churn-ft_transformer')\\n\\n# Utiliser PYTHONPATH pour que train.py trouve les modules\\n!PYTHONPATH=/kaggle/working/customer-churn-ft_transformer python train/Telecom/train_ftt/experiment_with_optuna.py\\n\\n\""
      ]
     },
     "execution_count": 8,
     "metadata": {},
     "output_type": "execute_result"
    }
   ],
   "source": [
    "\"\"\"\n",
    "import os\n",
    "\n",
    "# Changer vers le répertoire racine\n",
    "os.chdir('/kaggle/working/customer-churn-ft_transformer')\n",
    "\n",
    "# Utiliser PYTHONPATH pour que train.py trouve les modules\n",
    "!PYTHONPATH=/kaggle/working/customer-churn-ft_transformer python train/Telecom/train_ftt/experiment_with_optuna.py\n",
    "\n",
    "\"\"\""
   ]
  },
  {
   "cell_type": "code",
   "execution_count": null,
   "id": "7f14cb9e",
   "metadata": {
    "papermill": {
     "duration": 0.004923,
     "end_time": "2025-07-24T01:22:41.715634",
     "exception": false,
     "start_time": "2025-07-24T01:22:41.710711",
     "status": "completed"
    },
    "tags": []
   },
   "outputs": [],
   "source": []
  },
  {
   "cell_type": "markdown",
   "id": "0db0b6dd",
   "metadata": {
    "papermill": {
     "duration": 0.004994,
     "end_time": "2025-07-24T01:22:41.726608",
     "exception": false,
     "start_time": "2025-07-24T01:22:41.721614",
     "status": "completed"
    },
    "tags": []
   },
   "source": [
    "# FT-T+ Model Optimized with Optuna"
   ]
  },
  {
   "cell_type": "code",
   "execution_count": 9,
   "id": "031be4df",
   "metadata": {
    "execution": {
     "iopub.execute_input": "2025-07-24T01:22:41.738475Z",
     "iopub.status.busy": "2025-07-24T01:22:41.738118Z",
     "iopub.status.idle": "2025-07-24T01:22:41.744207Z",
     "shell.execute_reply": "2025-07-24T01:22:41.743287Z"
    },
    "papermill": {
     "duration": 0.0139,
     "end_time": "2025-07-24T01:22:41.745812",
     "exception": false,
     "start_time": "2025-07-24T01:22:41.731912",
     "status": "completed"
    },
    "tags": []
   },
   "outputs": [
    {
     "data": {
      "text/plain": [
       "\"\\nimport os\\n\\n# Changer vers le répertoire racine\\nos.chdir('/kaggle/working/customer-churn-ft_transformer')\\n\\n# Utiliser PYTHONPATH pour que train.py trouve les modules\\n!PYTHONPATH=/kaggle/working/customer-churn-ft_transformer python train/Telecom/train_ftt_plus/experiment_with_optuna.py\\n\""
      ]
     },
     "execution_count": 9,
     "metadata": {},
     "output_type": "execute_result"
    }
   ],
   "source": [
    "\"\"\"\n",
    "import os\n",
    "\n",
    "# Changer vers le répertoire racine\n",
    "os.chdir('/kaggle/working/customer-churn-ft_transformer')\n",
    "\n",
    "# Utiliser PYTHONPATH pour que train.py trouve les modules\n",
    "!PYTHONPATH=/kaggle/working/customer-churn-ft_transformer python train/Telecom/train_ftt_plus/experiment_with_optuna.py\n",
    "\"\"\""
   ]
  },
  {
   "cell_type": "code",
   "execution_count": null,
   "id": "832e329c",
   "metadata": {
    "papermill": {
     "duration": 0.004995,
     "end_time": "2025-07-24T01:22:41.756203",
     "exception": false,
     "start_time": "2025-07-24T01:22:41.751208",
     "status": "completed"
    },
    "tags": []
   },
   "outputs": [],
   "source": []
  },
  {
   "cell_type": "code",
   "execution_count": null,
   "id": "73814a69",
   "metadata": {
    "papermill": {
     "duration": 0.005011,
     "end_time": "2025-07-24T01:22:41.766565",
     "exception": false,
     "start_time": "2025-07-24T01:22:41.761554",
     "status": "completed"
    },
    "tags": []
   },
   "outputs": [],
   "source": []
  },
  {
   "cell_type": "markdown",
   "id": "b75ad571",
   "metadata": {
    "papermill": {
     "duration": 0.004904,
     "end_time": "2025-07-24T01:22:41.777737",
     "exception": false,
     "start_time": "2025-07-24T01:22:41.772833",
     "status": "completed"
    },
    "tags": []
   },
   "source": [
    "# Downloading the results folder"
   ]
  },
  {
   "cell_type": "code",
   "execution_count": 10,
   "id": "433b4ca3",
   "metadata": {
    "execution": {
     "iopub.execute_input": "2025-07-24T01:22:41.789485Z",
     "iopub.status.busy": "2025-07-24T01:22:41.789140Z",
     "iopub.status.idle": "2025-07-24T01:22:42.024502Z",
     "shell.execute_reply": "2025-07-24T01:22:42.023405Z"
    },
    "papermill": {
     "duration": 0.243241,
     "end_time": "2025-07-24T01:22:42.026258",
     "exception": false,
     "start_time": "2025-07-24T01:22:41.783017",
     "status": "completed"
    },
    "tags": []
   },
   "outputs": [
    {
     "name": "stdout",
     "output_type": "stream",
     "text": [
      "/kaggle/working/customer-churn-ft_transformer\r\n",
      "total 112\r\n",
      "drwxr-xr-x 10 root root  4096 Jul 24 01:22 .\r\n",
      "drwxr-xr-x  3 root root  4096 Jul 24 01:19 ..\r\n",
      "drwxr-xr-x  3 root root  4096 Jul 24 01:19 data\r\n",
      "-rw-r--r--  1 root root 24621 Jul 24 01:19 Experiments.ipynb\r\n",
      "drwxr-xr-x  3 root root  4096 Jul 24 01:22 ftt_plus\r\n",
      "drwxr-xr-x  8 root root  4096 Jul 24 01:19 .git\r\n",
      "drwxr-xr-x  2 root root  4096 Jul 24 01:19 images\r\n",
      "-rw-r--r--  1 root root  8324 Jul 24 01:19 interpretability_analyzer.py\r\n",
      "-rw-r--r--  1 root root 10266 Jul 24 01:19 num_embedding_factory.py\r\n",
      "drwxr-xr-x  2 root root  4096 Jul 24 01:22 __pycache__\r\n",
      "-rw-r--r--  1 root root  5034 Jul 24 01:19 README.md\r\n",
      "drwxr-xr-x  3 root root  4096 Jul 24 01:22 results\r\n",
      "drwxr-xr-x  5 root root  4096 Jul 24 01:19 rtdl_lib\r\n",
      "-rw-r--r--  1 root root  6821 Jul 24 01:19 test_embeddings.py\r\n",
      "drwxr-xr-x  4 root root  4096 Jul 24 01:19 train\r\n",
      "-rw-r--r--  1 root root  2333 Jul 24 01:19 utils.py\r\n"
     ]
    }
   ],
   "source": [
    "!pwd\n",
    "!ls -la"
   ]
  },
  {
   "cell_type": "code",
   "execution_count": 11,
   "id": "6f3ea928",
   "metadata": {
    "execution": {
     "iopub.execute_input": "2025-07-24T01:22:42.038771Z",
     "iopub.status.busy": "2025-07-24T01:22:42.038443Z",
     "iopub.status.idle": "2025-07-24T01:22:42.047863Z",
     "shell.execute_reply": "2025-07-24T01:22:42.047100Z"
    },
    "papermill": {
     "duration": 0.01767,
     "end_time": "2025-07-24T01:22:42.049502",
     "exception": false,
     "start_time": "2025-07-24T01:22:42.031832",
     "status": "completed"
    },
    "tags": []
   },
   "outputs": [
    {
     "data": {
      "text/plain": [
       "'/kaggle/working/results.zip'"
      ]
     },
     "execution_count": 11,
     "metadata": {},
     "output_type": "execute_result"
    }
   ],
   "source": [
    "import shutil\n",
    "\n",
    "# On se place dans le bon dossier racine\n",
    "import os\n",
    "os.chdir('/kaggle/working/customer-churn-ft_transformer')\n",
    "\n",
    "# On crée une archive ZIP du dossier results\n",
    "shutil.make_archive('/kaggle/working/results', 'zip', 'results')\n"
   ]
  },
  {
   "cell_type": "code",
   "execution_count": null,
   "id": "53e73bac",
   "metadata": {
    "papermill": {
     "duration": 0.00548,
     "end_time": "2025-07-24T01:22:42.061097",
     "exception": false,
     "start_time": "2025-07-24T01:22:42.055617",
     "status": "completed"
    },
    "tags": []
   },
   "outputs": [],
   "source": []
  },
  {
   "cell_type": "code",
   "execution_count": null,
   "id": "caf2d047",
   "metadata": {
    "papermill": {
     "duration": 0.00538,
     "end_time": "2025-07-24T01:22:42.072192",
     "exception": false,
     "start_time": "2025-07-24T01:22:42.066812",
     "status": "completed"
    },
    "tags": []
   },
   "outputs": [],
   "source": []
  }
 ],
 "metadata": {
  "kaggle": {
   "accelerator": "none",
   "dataSources": [],
   "dockerImageVersionId": 31041,
   "isGpuEnabled": false,
   "isInternetEnabled": true,
   "language": "python",
   "sourceType": "notebook"
  },
  "kernelspec": {
   "display_name": "Python 3",
   "language": "python",
   "name": "python3"
  },
  "language_info": {
   "codemirror_mode": {
    "name": "ipython",
    "version": 3
   },
   "file_extension": ".py",
   "mimetype": "text/x-python",
   "name": "python",
   "nbconvert_exporter": "python",
   "pygments_lexer": "ipython3",
   "version": "3.11.11"
  },
  "papermill": {
   "default_parameters": {},
   "duration": 222.096553,
   "end_time": "2025-07-24T01:22:42.498635",
   "environment_variables": {},
   "exception": null,
   "input_path": "__notebook__.ipynb",
   "output_path": "__notebook__.ipynb",
   "parameters": {},
   "start_time": "2025-07-24T01:19:00.402082",
   "version": "2.6.0"
  }
 },
 "nbformat": 4,
 "nbformat_minor": 5
}
