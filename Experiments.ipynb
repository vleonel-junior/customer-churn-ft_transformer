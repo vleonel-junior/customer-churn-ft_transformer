{
 "cells": [
  {
   "cell_type": "code",
   "execution_count": 1,
   "id": "d50fae15",
   "metadata": {
    "_cell_guid": "b1076dfc-b9ad-4769-8c92-a6c4dae69d19",
    "_uuid": "8f2839f25d086af736a60e9eeb907d3b93b6e0e5",
    "execution": {
     "iopub.execute_input": "2025-07-01T16:57:43.428759Z",
     "iopub.status.busy": "2025-07-01T16:57:43.428557Z",
     "iopub.status.idle": "2025-07-01T16:57:44.870442Z",
     "shell.execute_reply": "2025-07-01T16:57:44.869747Z"
    },
    "papermill": {
     "duration": 1.447629,
     "end_time": "2025-07-01T16:57:44.871783",
     "exception": false,
     "start_time": "2025-07-01T16:57:43.424154",
     "status": "completed"
    },
    "tags": []
   },
   "outputs": [
    {
     "name": "stdout",
     "output_type": "stream",
     "text": [
      "Cloning into 'customer-churn-ft_transformer'...\r\n",
      "remote: Enumerating objects: 402, done.\u001b[K\r\n",
      "remote: Counting objects: 100% (94/94), done.\u001b[K\r\n",
      "remote: Compressing objects: 100% (56/56), done.\u001b[K\r\n",
      "remote: Total 402 (delta 37), reused 74 (delta 22), pack-reused 308 (from 1)\u001b[K\r\n",
      "Receiving objects: 100% (402/402), 632.87 KiB | 3.98 MiB/s, done.\r\n",
      "Resolving deltas: 100% (181/181), done.\r\n"
     ]
    }
   ],
   "source": [
    "!git clone https://github.com/vleonel-junior/customer-churn-ft_transformer.git"
   ]
  },
  {
   "cell_type": "code",
   "execution_count": 2,
   "id": "c925ea81",
   "metadata": {
    "execution": {
     "iopub.execute_input": "2025-07-01T16:57:44.880263Z",
     "iopub.status.busy": "2025-07-01T16:57:44.880031Z",
     "iopub.status.idle": "2025-07-01T16:57:44.883740Z",
     "shell.execute_reply": "2025-07-01T16:57:44.883185Z"
    },
    "papermill": {
     "duration": 0.009065,
     "end_time": "2025-07-01T16:57:44.884786",
     "exception": false,
     "start_time": "2025-07-01T16:57:44.875721",
     "status": "completed"
    },
    "tags": []
   },
   "outputs": [],
   "source": [
    "import sys\n",
    "sys.path.append('/kaggle/working/customer-churn-ft_transformer')"
   ]
  },
  {
   "cell_type": "code",
   "execution_count": 3,
   "id": "475c86b6",
   "metadata": {
    "execution": {
     "iopub.execute_input": "2025-07-01T16:57:44.892718Z",
     "iopub.status.busy": "2025-07-01T16:57:44.892145Z",
     "iopub.status.idle": "2025-07-01T16:57:45.234674Z",
     "shell.execute_reply": "2025-07-01T16:57:45.233727Z"
    },
    "papermill": {
     "duration": 0.347804,
     "end_time": "2025-07-01T16:57:45.236026",
     "exception": false,
     "start_time": "2025-07-01T16:57:44.888222",
     "status": "completed"
    },
    "tags": []
   },
   "outputs": [
    {
     "name": "stdout",
     "output_type": "stream",
     "text": [
      "/kaggle/working/customer-churn-ft_transformer\r\n",
      "total 96\r\n",
      "drwxr-xr-x 8 root root  4096 Jul  1 16:57 .\r\n",
      "drwxr-xr-x 3 root root  4096 Jul  1 16:57 ..\r\n",
      "drwxr-xr-x 3 root root  4096 Jul  1 16:57 data\r\n",
      "-rw-r--r-- 1 root root 22409 Jul  1 16:57 Experiments.ipynb\r\n",
      "drwxr-xr-x 2 root root  4096 Jul  1 16:57 ftt_plus\r\n",
      "drwxr-xr-x 8 root root  4096 Jul  1 16:57 .git\r\n",
      "-rw-r--r-- 1 root root 11358 Jul  1 16:57 interpretability_analyzer.py\r\n",
      "-rw-r--r-- 1 root root 10266 Jul  1 16:57 num_embedding_factory.py\r\n",
      "drwxr-xr-x 2 root root  4096 Jul  1 16:57 __pycache__\r\n",
      "-rw-r--r-- 1 root root    32 Jul  1 16:57 README.md\r\n",
      "drwxr-xr-x 5 root root  4096 Jul  1 16:57 rtdl_lib\r\n",
      "-rw-r--r-- 1 root root  6821 Jul  1 16:57 test_embeddings.py\r\n",
      "drwxr-xr-x 3 root root  4096 Jul  1 16:57 train\r\n",
      "-rw-r--r-- 1 root root  2213 Jul  1 16:57 utils.py\r\n",
      "total 968\r\n",
      "drwxr-xr-x 3 root root   4096 Jul  1 16:57 .\r\n",
      "drwxr-xr-x 8 root root   4096 Jul  1 16:57 ..\r\n",
      "-rw-r--r-- 1 root root   4224 Jul  1 16:57 process_telecom_data.py\r\n",
      "drwxr-xr-x 2 root root   4096 Jul  1 16:57 __pycache__\r\n",
      "-rw-r--r-- 1 root root 970457 Jul  1 16:57 Telco_Customer_Churn.csv\r\n",
      "-rw-r--r-- 1 root root      0 Jul  1 16:57 utils.py\r\n"
     ]
    }
   ],
   "source": [
    "# Le bon chemin est directement :\n",
    "import os\n",
    "os.chdir('/kaggle/working/customer-churn-ft_transformer')\n",
    "\n",
    "# Vérifier que vous êtes au bon endroit\n",
    "!pwd\n",
    "!ls -la\n",
    "\n",
    "# Vérifier que les datasets sont là\n",
    "!ls -la data/"
   ]
  },
  {
   "cell_type": "code",
   "execution_count": 4,
   "id": "fdb01602",
   "metadata": {
    "execution": {
     "iopub.execute_input": "2025-07-01T16:57:45.244758Z",
     "iopub.status.busy": "2025-07-01T16:57:45.244198Z",
     "iopub.status.idle": "2025-07-01T16:59:02.295377Z",
     "shell.execute_reply": "2025-07-01T16:59:02.294405Z"
    },
    "papermill": {
     "duration": 77.057032,
     "end_time": "2025-07-01T16:59:02.296916",
     "exception": false,
     "start_time": "2025-07-01T16:57:45.239884",
     "status": "completed"
    },
    "tags": []
   },
   "outputs": [
    {
     "name": "stdout",
     "output_type": "stream",
     "text": [
      "Installation de rtdl_num_embeddings réussie\r\n",
      "Installation de scikit-learn réussie\r\n"
     ]
    }
   ],
   "source": [
    "# Installation silencieuse des packages pour rtdl_num_embeddings\n",
    "!pip install rtdl_num_embeddings -qqq > /dev/null 2>&1 && echo 'Installation de rtdl_num_embeddings réussie'\n",
    "!pip install \"scikit-learn>=1.0,<2\" -qqq > /dev/null 2>&1 && echo 'Installation de scikit-learn réussie'"
   ]
  },
  {
   "cell_type": "code",
   "execution_count": 5,
   "id": "3656ae82",
   "metadata": {
    "execution": {
     "iopub.execute_input": "2025-07-01T16:59:02.306140Z",
     "iopub.status.busy": "2025-07-01T16:59:02.305872Z",
     "iopub.status.idle": "2025-07-01T17:00:31.651401Z",
     "shell.execute_reply": "2025-07-01T17:00:31.650445Z"
    },
    "papermill": {
     "duration": 89.352135,
     "end_time": "2025-07-01T17:00:31.652972",
     "exception": false,
     "start_time": "2025-07-01T16:59:02.300837",
     "status": "completed"
    },
    "tags": []
   },
   "outputs": [
    {
     "name": "stdout",
     "output_type": "stream",
     "text": [
      "Installation de libzero réussie\r\n",
      "Installation de optuna réussie\r\n"
     ]
    }
   ],
   "source": [
    "!pip install libzero==0.0.4 -qqq > /dev/null 2>&1 && echo 'Installation de libzero réussie'\n",
    "!pip install optuna -qqq > /dev/null 2>&1 && echo 'Installation de optuna réussie'"
   ]
  },
  {
   "cell_type": "code",
   "execution_count": null,
   "id": "7b15bf44",
   "metadata": {
    "papermill": {
     "duration": 0.003631,
     "end_time": "2025-07-01T17:00:31.660654",
     "exception": false,
     "start_time": "2025-07-01T17:00:31.657023",
     "status": "completed"
    },
    "tags": []
   },
   "outputs": [],
   "source": []
  },
  {
   "cell_type": "markdown",
   "id": "b373874d",
   "metadata": {
    "papermill": {
     "duration": 0.003445,
     "end_time": "2025-07-01T17:00:31.667768",
     "exception": false,
     "start_time": "2025-07-01T17:00:31.664323",
     "status": "completed"
    },
    "tags": []
   },
   "source": [
    "# Modèle FT-T"
   ]
  },
  {
   "cell_type": "code",
   "execution_count": 6,
   "id": "b027da5b",
   "metadata": {
    "execution": {
     "iopub.execute_input": "2025-07-01T17:00:31.676179Z",
     "iopub.status.busy": "2025-07-01T17:00:31.675918Z",
     "iopub.status.idle": "2025-07-01T17:01:09.368364Z",
     "shell.execute_reply": "2025-07-01T17:01:09.367662Z"
    },
    "papermill": {
     "duration": 37.698326,
     "end_time": "2025-07-01T17:01:09.369694",
     "exception": false,
     "start_time": "2025-07-01T17:00:31.671368",
     "status": "completed"
    },
    "tags": []
   },
   "outputs": [
    {
     "name": "stdout",
     "output_type": "stream",
     "text": [
      "Utilisation du device: cuda\r\n",
      "Seed: 0\r\n",
      "Données originales: 7043 lignes\r\n",
      "Après nettoyage: 7032 lignes (11 supprimées)\r\n",
      "\r\n",
      "Informations sur les features:\r\n",
      "Features numériques (3): ['tenure', 'MonthlyCharges', 'TotalCharges']\r\n",
      "Variables catégorielles (16): ['gender', 'SeniorCitizen', 'Partner', 'Dependents', 'PhoneService', 'MultipleLines', 'InternetService', 'OnlineSecurity', 'OnlineBackup', 'DeviceProtection', 'TechSupport', 'StreamingTV', 'StreamingMovies', 'Contract', 'PaperlessBilling', 'PaymentMethod']\r\n",
      "Cardinalités des variables catégorielles: [2, 2, 2, 2, 2, 3, 3, 3, 3, 3, 3, 3, 3, 3, 2, 4]\r\n",
      "Distribution des classes: [5163 1869]\r\n",
      "Tailles des ensembles:\r\n",
      "Train: 4781 | Val: 844 | Test: 1407\r\n",
      "Type d'embedding numérique: Q-LR\r\n",
      "Nombre de paramètres: 912,385\r\n",
      "\r\n",
      "=== Début de l'entraînement ===\r\n",
      "Epoch 000 | Training loss: 0.4626\r\n",
      "Epoch 000 | Validation loss: 0.4170\r\n",
      "Epoch 000 completed in 1.24s\r\n",
      " <<< NOUVEAU MEILLEUR MODÈLE (val_loss: 0.4170)\r\n",
      " >>> Évaluation sur l'ensemble de test:\r\n",
      "Performance for test_dataset\r\n",
      "AUC-ROC: 0.8441, AUC-PR: 0.66, Accuracy: 0.7974, B_ACC : 0.6787, MCC: 0.4277, Sensitivity/Recall: 0.4251, Specificity: 0.9322, Precision: 0.6943, F1-score: 0.5273, CK-score 0.4078\r\n",
      "Test Performance:\r\n",
      "  ROC-AUC: 0.8441 | PR-AUC: 0.6600 | Accuracy: 0.7974\r\n",
      "  F1: 0.5273 | MCC: 0.4277 | Balanced Acc: 0.6787\r\n",
      "------------------------------------------------------------\r\n",
      "Epoch 001 | Training loss: 0.4240\r\n",
      "Epoch 001 | Validation loss: 0.4123\r\n",
      "Epoch 001 completed in 0.93s\r\n",
      " <<< NOUVEAU MEILLEUR MODÈLE (val_loss: 0.4123)\r\n",
      " >>> Évaluation sur l'ensemble de test:\r\n",
      "Performance for test_dataset\r\n",
      "AUC-ROC: 0.8471, AUC-PR: 0.6639, Accuracy: 0.7932, B_ACC : 0.6681, MCC: 0.4112, Sensitivity/Recall: 0.4011, Specificity: 0.9351, Precision: 0.6912, F1-score: 0.5076, CK-score 0.3882\r\n",
      "Test Performance:\r\n",
      "  ROC-AUC: 0.8471 | PR-AUC: 0.6639 | Accuracy: 0.7932\r\n",
      "  F1: 0.5076 | MCC: 0.4112 | Balanced Acc: 0.6681\r\n",
      "------------------------------------------------------------\r\n",
      "Epoch 002 | Training loss: 0.4238\r\n",
      "Epoch 002 | Validation loss: 0.4090\r\n",
      "Epoch 002 completed in 1.00s\r\n",
      " <<< NOUVEAU MEILLEUR MODÈLE (val_loss: 0.4090)\r\n",
      " >>> Évaluation sur l'ensemble de test:\r\n",
      "Performance for test_dataset\r\n",
      "AUC-ROC: 0.8486, AUC-PR: 0.6688, Accuracy: 0.7996, B_ACC : 0.681, MCC: 0.434, Sensitivity/Recall: 0.4278, Specificity: 0.9342, Precision: 0.7018, F1-score: 0.5316, CK-score 0.4135\r\n",
      "Test Performance:\r\n",
      "  ROC-AUC: 0.8486 | PR-AUC: 0.6688 | Accuracy: 0.7996\r\n",
      "  F1: 0.5316 | MCC: 0.4340 | Balanced Acc: 0.6810\r\n",
      "------------------------------------------------------------\r\n",
      "Epoch 003 | Training loss: 0.4209\r\n",
      "Epoch 003 | Validation loss: 0.4105\r\n",
      "Epoch 003 completed in 0.93s\r\n",
      "------------------------------------------------------------\r\n",
      "Epoch 004 | Training loss: 0.4185\r\n",
      "Epoch 004 | Validation loss: 0.4105\r\n",
      "Epoch 004 completed in 0.92s\r\n",
      "------------------------------------------------------------\r\n",
      "Epoch 005 | Training loss: 0.4204\r\n",
      "Epoch 005 | Validation loss: 0.4089\r\n",
      "Epoch 005 completed in 0.93s\r\n",
      " <<< NOUVEAU MEILLEUR MODÈLE (val_loss: 0.4089)\r\n",
      " >>> Évaluation sur l'ensemble de test:\r\n",
      "Performance for test_dataset\r\n",
      "AUC-ROC: 0.8501, AUC-PR: 0.6702, Accuracy: 0.796, B_ACC : 0.6666, MCC: 0.4173, Sensitivity/Recall: 0.3904, Specificity: 0.9429, Precision: 0.7122, F1-score: 0.5043, CK-score 0.3894\r\n",
      "Test Performance:\r\n",
      "  ROC-AUC: 0.8501 | PR-AUC: 0.6702 | Accuracy: 0.7960\r\n",
      "  F1: 0.5043 | MCC: 0.4173 | Balanced Acc: 0.6666\r\n",
      "------------------------------------------------------------\r\n",
      "Epoch 006 | Training loss: 0.4177\r\n",
      "Epoch 006 | Validation loss: 0.4093\r\n",
      "Epoch 006 completed in 0.94s\r\n",
      "------------------------------------------------------------\r\n",
      "Epoch 007 | Training loss: 0.4168\r\n",
      "Epoch 007 | Validation loss: 0.4072\r\n",
      "Epoch 007 completed in 0.95s\r\n",
      " <<< NOUVEAU MEILLEUR MODÈLE (val_loss: 0.4072)\r\n",
      " >>> Évaluation sur l'ensemble de test:\r\n",
      "Performance for test_dataset\r\n",
      "AUC-ROC: 0.8508, AUC-PR: 0.674, Accuracy: 0.7989, B_ACC : 0.6694, MCC: 0.426, Sensitivity/Recall: 0.393, Specificity: 0.9458, Precision: 0.7241, F1-score: 0.5095, CK-score 0.3967\r\n",
      "Test Performance:\r\n",
      "  ROC-AUC: 0.8508 | PR-AUC: 0.6740 | Accuracy: 0.7989\r\n",
      "  F1: 0.5095 | MCC: 0.4260 | Balanced Acc: 0.6694\r\n",
      "------------------------------------------------------------\r\n",
      "Epoch 008 | Training loss: 0.4162\r\n",
      "Epoch 008 | Validation loss: 0.4070\r\n",
      "Epoch 008 completed in 1.17s\r\n",
      " <<< NOUVEAU MEILLEUR MODÈLE (val_loss: 0.4070)\r\n",
      " >>> Évaluation sur l'ensemble de test:\r\n",
      "Performance for test_dataset\r\n",
      "AUC-ROC: 0.8503, AUC-PR: 0.6748, Accuracy: 0.8017, B_ACC : 0.6739, MCC: 0.4355, Sensitivity/Recall: 0.4011, Specificity: 0.9468, Precision: 0.7317, F1-score: 0.5182, CK-score 0.4064\r\n",
      "Test Performance:\r\n",
      "  ROC-AUC: 0.8503 | PR-AUC: 0.6748 | Accuracy: 0.8017\r\n",
      "  F1: 0.5182 | MCC: 0.4355 | Balanced Acc: 0.6739\r\n",
      "------------------------------------------------------------\r\n",
      "Epoch 009 | Training loss: 0.4139\r\n",
      "Epoch 009 | Validation loss: 0.4069\r\n",
      "Epoch 009 completed in 1.01s\r\n",
      " <<< NOUVEAU MEILLEUR MODÈLE (val_loss: 0.4069)\r\n",
      " >>> Évaluation sur l'ensemble de test:\r\n",
      "Performance for test_dataset\r\n",
      "AUC-ROC: 0.8475, AUC-PR: 0.6691, Accuracy: 0.801, B_ACC : 0.682, MCC: 0.4378, Sensitivity/Recall: 0.4278, Specificity: 0.9361, Precision: 0.708, F1-score: 0.5333, CK-score 0.4165\r\n",
      "Test Performance:\r\n",
      "  ROC-AUC: 0.8475 | PR-AUC: 0.6691 | Accuracy: 0.8010\r\n",
      "  F1: 0.5333 | MCC: 0.4378 | Balanced Acc: 0.6820\r\n",
      "------------------------------------------------------------\r\n",
      "Epoch 010 | Training loss: 0.4131\r\n",
      "Epoch 010 | Validation loss: 0.4076\r\n",
      "Epoch 010 completed in 0.97s\r\n",
      "------------------------------------------------------------\r\n",
      "Epoch 011 | Training loss: 0.4143\r\n",
      "Epoch 011 | Validation loss: 0.4041\r\n",
      "Epoch 011 completed in 0.97s\r\n",
      " <<< NOUVEAU MEILLEUR MODÈLE (val_loss: 0.4041)\r\n",
      " >>> Évaluation sur l'ensemble de test:\r\n",
      "Performance for test_dataset\r\n",
      "AUC-ROC: 0.8483, AUC-PR: 0.673, Accuracy: 0.8017, B_ACC : 0.685, MCC: 0.4412, Sensitivity/Recall: 0.4358, Specificity: 0.9342, Precision: 0.7056, F1-score: 0.5388, CK-score 0.4214\r\n",
      "Test Performance:\r\n",
      "  ROC-AUC: 0.8483 | PR-AUC: 0.6730 | Accuracy: 0.8017\r\n",
      "  F1: 0.5388 | MCC: 0.4412 | Balanced Acc: 0.6850\r\n",
      "------------------------------------------------------------\r\n",
      "Epoch 012 | Training loss: 0.4105\r\n",
      "Epoch 012 | Validation loss: 0.4066\r\n",
      "Epoch 012 completed in 0.95s\r\n",
      "------------------------------------------------------------\r\n",
      "Epoch 013 | Training loss: 0.4097\r\n",
      "Epoch 013 | Validation loss: 0.4064\r\n",
      "Epoch 013 completed in 0.93s\r\n",
      "------------------------------------------------------------\r\n",
      "Epoch 014 | Training loss: 0.4087\r\n",
      "Epoch 014 | Validation loss: 0.4049\r\n",
      "Epoch 014 completed in 0.97s\r\n",
      "------------------------------------------------------------\r\n",
      "Epoch 015 | Training loss: 0.4091\r\n",
      "Epoch 015 | Validation loss: 0.4028\r\n",
      "Epoch 015 completed in 1.01s\r\n",
      " <<< NOUVEAU MEILLEUR MODÈLE (val_loss: 0.4028)\r\n",
      " >>> Évaluation sur l'ensemble de test:\r\n",
      "Performance for test_dataset\r\n",
      "AUC-ROC: 0.8479, AUC-PR: 0.6668, Accuracy: 0.8053, B_ACC : 0.7028, MCC: 0.4602, Sensitivity/Recall: 0.484, Specificity: 0.9216, Precision: 0.6908, F1-score: 0.5692, CK-score 0.4484\r\n",
      "Test Performance:\r\n",
      "  ROC-AUC: 0.8479 | PR-AUC: 0.6668 | Accuracy: 0.8053\r\n",
      "  F1: 0.5692 | MCC: 0.4602 | Balanced Acc: 0.7028\r\n",
      "------------------------------------------------------------\r\n",
      "Epoch 016 | Training loss: 0.4085\r\n",
      "Epoch 016 | Validation loss: 0.4055\r\n",
      "Epoch 016 completed in 0.96s\r\n",
      "------------------------------------------------------------\r\n",
      "Epoch 017 | Training loss: 0.4052\r\n",
      "Epoch 017 | Validation loss: 0.4029\r\n",
      "Epoch 017 completed in 0.91s\r\n",
      "------------------------------------------------------------\r\n",
      "Epoch 018 | Training loss: 0.4018\r\n",
      "Epoch 018 | Validation loss: 0.4062\r\n",
      "Epoch 018 completed in 0.97s\r\n",
      "------------------------------------------------------------\r\n",
      "Epoch 019 | Training loss: 0.4018\r\n",
      "Epoch 019 | Validation loss: 0.4041\r\n",
      "Epoch 019 completed in 0.95s\r\n",
      "------------------------------------------------------------\r\n",
      "Epoch 020 | Training loss: 0.3999\r\n",
      "Epoch 020 | Validation loss: 0.4042\r\n",
      "Epoch 020 completed in 0.91s\r\n",
      "------------------------------------------------------------\r\n",
      "Epoch 021 | Training loss: 0.4011\r\n",
      "Epoch 021 | Validation loss: 0.4023\r\n",
      "Epoch 021 completed in 0.91s\r\n",
      " <<< NOUVEAU MEILLEUR MODÈLE (val_loss: 0.4023)\r\n",
      " >>> Évaluation sur l'ensemble de test:\r\n",
      "Performance for test_dataset\r\n",
      "AUC-ROC: 0.8426, AUC-PR: 0.6542, Accuracy: 0.8053, B_ACC : 0.7224, MCC: 0.4752, Sensitivity/Recall: 0.5455, Specificity: 0.8993, Precision: 0.6623, F1-score: 0.5983, CK-score 0.4713\r\n",
      "Test Performance:\r\n",
      "  ROC-AUC: 0.8426 | PR-AUC: 0.6542 | Accuracy: 0.8053\r\n",
      "  F1: 0.5983 | MCC: 0.4752 | Balanced Acc: 0.7224\r\n",
      "------------------------------------------------------------\r\n",
      "Epoch 022 | Training loss: 0.3966\r\n",
      "Epoch 022 | Validation loss: 0.4031\r\n",
      "Epoch 022 completed in 0.94s\r\n",
      "------------------------------------------------------------\r\n",
      "Epoch 023 | Training loss: 0.3954\r\n",
      "Epoch 023 | Validation loss: 0.4052\r\n",
      "Epoch 023 completed in 0.93s\r\n",
      "------------------------------------------------------------\r\n",
      "Epoch 024 | Training loss: 0.3956\r\n",
      "Epoch 024 | Validation loss: 0.4122\r\n",
      "Epoch 024 completed in 0.94s\r\n",
      "------------------------------------------------------------\r\n",
      "Epoch 025 | Training loss: 0.3935\r\n",
      "Epoch 025 | Validation loss: 0.4067\r\n",
      "Epoch 025 completed in 0.93s\r\n",
      "------------------------------------------------------------\r\n",
      "Epoch 026 | Training loss: 0.3892\r\n",
      "Epoch 026 | Validation loss: 0.4179\r\n",
      "Epoch 026 completed in 0.92s\r\n",
      "------------------------------------------------------------\r\n",
      "Epoch 027 | Training loss: 0.3862\r\n",
      "Epoch 027 | Validation loss: 0.4195\r\n",
      "Epoch 027 completed in 0.91s\r\n",
      "------------------------------------------------------------\r\n",
      "Epoch 028 | Training loss: 0.3849\r\n",
      "Epoch 028 | Validation loss: 0.4249\r\n",
      "Epoch 028 completed in 0.92s\r\n",
      "------------------------------------------------------------\r\n",
      "Epoch 029 | Training loss: 0.3877\r\n",
      "Epoch 029 | Validation loss: 0.4236\r\n",
      "Epoch 029 completed in 0.93s\r\n",
      "------------------------------------------------------------\r\n",
      "Epoch 030 | Training loss: 0.3844\r\n",
      "Epoch 030 | Validation loss: 0.4225\r\n",
      "Epoch 030 completed in 0.91s\r\n",
      "------------------------------------------------------------\r\n",
      "Epoch 031 | Training loss: 0.3831\r\n",
      "Epoch 031 | Validation loss: 0.4307\r\n",
      "Epoch 031 completed in 0.92s\r\n",
      "\r\n",
      "Early stopping à l'époque 31 (patience: 10)\r\n",
      "\r\n",
      "Meilleur modèle chargé (époque 21, val_loss: 0.4023)\r\n",
      "\r\n",
      "=== Évaluation finale ===\r\n",
      "Performance sur l'ensemble de validation:\r\n",
      "Performance for test_dataset\r\n",
      "AUC-ROC: 0.8423, AUC-PR: 0.6639, Accuracy: 0.7855, B_ACC : 0.7271, MCC: 0.4524, Sensitivity/Recall: 0.6027, Specificity: 0.8516, Precision: 0.5947, F1-score: 0.5987, CK-score 0.4524\r\n",
      "Val Performance:\r\n",
      "  ROC-AUC: 0.8423 | PR-AUC: 0.6639 | Accuracy: 0.7855\r\n",
      "  F1: 0.5987 | MCC: 0.4524 | Balanced Acc: 0.7271\r\n",
      "\r\n",
      "Performance sur l'ensemble de test:\r\n",
      "Performance for test_dataset\r\n",
      "AUC-ROC: 0.84, AUC-PR: 0.6398, Accuracy: 0.8038, B_ACC : 0.7368, MCC: 0.4858, Sensitivity/Recall: 0.5936, Specificity: 0.88, Precision: 0.6416, F1-score: 0.6167, CK-score 0.4851\r\n",
      "Test Performance:\r\n",
      "  ROC-AUC: 0.8400 | PR-AUC: 0.6398 | Accuracy: 0.8038\r\n",
      "  F1: 0.6167 | MCC: 0.4858 | Balanced Acc: 0.7368\r\n",
      "\r\n",
      "Résultats sauvegardés dans ./outputs/seed_0/\r\n",
      "Entraînement terminé!\r\n"
     ]
    }
   ],
   "source": [
    "import os\n",
    "\n",
    "# Changer vers le répertoire racine\n",
    "os.chdir('/kaggle/working/customer-churn-ft_transformer')\n",
    "\n",
    "# Utiliser PYTHONPATH pour que train.py trouve les modules\n",
    "!PYTHONPATH=/kaggle/working/customer-churn-ft_transformer python train/Telecom/train_ftt/train.py"
   ]
  },
  {
   "cell_type": "code",
   "execution_count": null,
   "id": "64d038fa",
   "metadata": {
    "papermill": {
     "duration": 0.006135,
     "end_time": "2025-07-01T17:01:09.382772",
     "exception": false,
     "start_time": "2025-07-01T17:01:09.376637",
     "status": "completed"
    },
    "tags": []
   },
   "outputs": [],
   "source": []
  },
  {
   "cell_type": "code",
   "execution_count": null,
   "id": "b93942f6",
   "metadata": {
    "papermill": {
     "duration": 0.006106,
     "end_time": "2025-07-01T17:01:09.395081",
     "exception": false,
     "start_time": "2025-07-01T17:01:09.388975",
     "status": "completed"
    },
    "tags": []
   },
   "outputs": [],
   "source": []
  },
  {
   "cell_type": "code",
   "execution_count": null,
   "id": "9f731f91",
   "metadata": {
    "papermill": {
     "duration": 0.005987,
     "end_time": "2025-07-01T17:01:09.407208",
     "exception": false,
     "start_time": "2025-07-01T17:01:09.401221",
     "status": "completed"
    },
    "tags": []
   },
   "outputs": [],
   "source": []
  },
  {
   "cell_type": "markdown",
   "id": "1fe3c0a0",
   "metadata": {
    "papermill": {
     "duration": 0.006004,
     "end_time": "2025-07-01T17:01:09.419380",
     "exception": false,
     "start_time": "2025-07-01T17:01:09.413376",
     "status": "completed"
    },
    "tags": []
   },
   "source": [
    "# Modèle FT-T Plus *Interprétable*"
   ]
  },
  {
   "cell_type": "code",
   "execution_count": 7,
   "id": "3a205870",
   "metadata": {
    "execution": {
     "iopub.execute_input": "2025-07-01T17:01:09.432946Z",
     "iopub.status.busy": "2025-07-01T17:01:09.432417Z",
     "iopub.status.idle": "2025-07-01T17:02:00.669066Z",
     "shell.execute_reply": "2025-07-01T17:02:00.668307Z"
    },
    "papermill": {
     "duration": 51.244852,
     "end_time": "2025-07-01T17:02:00.670339",
     "exception": false,
     "start_time": "2025-07-01T17:01:09.425487",
     "status": "completed"
    },
    "tags": []
   },
   "outputs": [
    {
     "name": "stdout",
     "output_type": "stream",
     "text": [
      "Utilisation du device: cuda\r\n",
      "Seed: 0\r\n",
      "Données originales: 7043 lignes\r\n",
      "Après nettoyage: 7032 lignes (11 supprimées)\r\n",
      "\r\n",
      "Informations sur les features:\r\n",
      "Features numériques (3): ['tenure', 'MonthlyCharges', 'TotalCharges']\r\n",
      "Variables catégorielles (16): ['gender', 'SeniorCitizen', 'Partner', 'Dependents', 'PhoneService', 'MultipleLines', 'InternetService', 'OnlineSecurity', 'OnlineBackup', 'DeviceProtection', 'TechSupport', 'StreamingTV', 'StreamingMovies', 'Contract', 'PaperlessBilling', 'PaymentMethod']\r\n",
      "Cardinalités des variables catégorielles: [2, 2, 2, 2, 2, 3, 3, 3, 3, 3, 3, 3, 3, 3, 2, 4]\r\n",
      "Distribution des classes: [5163 1869]\r\n",
      "Tailles des ensembles:\r\n",
      "Train: 4781 | Val: 844 | Test: 1407\r\n",
      "Configuration du modèle:\r\n",
      "  - Features numériques: 3\r\n",
      "  - Features catégorielles: 16 (cardinalités: [2, 2, 2, 2, 2, 3, 3, 3, 3, 3, 3, 3, 3, 3, 2, 4])\r\n",
      "  - Taille des tokens: 64\r\n",
      "Type d'embedding numérique: LR\r\n",
      "Nombre de paramètres: 88,001\r\n",
      "\r\n",
      "=== Début de l'entraînement ===\r\n",
      "Epoch 000 | Training loss: 0.4805\r\n",
      "Epoch 000 | Validation loss: 0.4336\r\n",
      "Epoch 000 completed in 2.07s\r\n",
      " <<< NOUVEAU MEILLEUR MODÈLE (val_loss: 0.4336)\r\n",
      " >>> Évaluation sur l'ensemble de test:\r\n",
      "Performance for test_dataset\r\n",
      "AUC-ROC: 0.8356, AUC-PR: 0.6561, Accuracy: 0.7932, B_ACC : 0.6621, MCC: 0.4077, Sensitivity/Recall: 0.3824, Specificity: 0.9419, Precision: 0.7044, F1-score: 0.4957, CK-score 0.3796\r\n",
      "Test Performance:\r\n",
      "  ROC-AUC: 0.8356 | PR-AUC: 0.6561 | Accuracy: 0.7932\r\n",
      "  F1: 0.4957 | MCC: 0.4077 | Balanced Acc: 0.6621\r\n",
      "------------------------------------------------------------\r\n",
      "Epoch 001 | Training loss: 0.4530\r\n",
      "Epoch 001 | Validation loss: 0.4292\r\n",
      "Epoch 001 completed in 1.79s\r\n",
      " <<< NOUVEAU MEILLEUR MODÈLE (val_loss: 0.4292)\r\n",
      " >>> Évaluation sur l'ensemble de test:\r\n",
      "Performance for test_dataset\r\n",
      "AUC-ROC: 0.8374, AUC-PR: 0.6638, Accuracy: 0.8045, B_ACC : 0.6878, MCC: 0.4495, Sensitivity/Recall: 0.4385, Specificity: 0.9371, Precision: 0.7162, F1-score: 0.544, CK-score 0.4286\r\n",
      "Test Performance:\r\n",
      "  ROC-AUC: 0.8374 | PR-AUC: 0.6638 | Accuracy: 0.8045\r\n",
      "  F1: 0.5440 | MCC: 0.4495 | Balanced Acc: 0.6878\r\n",
      "------------------------------------------------------------\r\n",
      "Epoch 002 | Training loss: 0.4475\r\n",
      "Epoch 002 | Validation loss: 0.4258\r\n",
      "Epoch 002 completed in 1.79s\r\n",
      " <<< NOUVEAU MEILLEUR MODÈLE (val_loss: 0.4258)\r\n",
      " >>> Évaluation sur l'ensemble de test:\r\n",
      "Performance for test_dataset\r\n",
      "AUC-ROC: 0.841, AUC-PR: 0.661, Accuracy: 0.7996, B_ACC : 0.7117, MCC: 0.4567, Sensitivity/Recall: 0.5241, Specificity: 0.8993, Precision: 0.6533, F1-score: 0.5816, CK-score 0.4519\r\n",
      "Test Performance:\r\n",
      "  ROC-AUC: 0.8410 | PR-AUC: 0.6610 | Accuracy: 0.7996\r\n",
      "  F1: 0.5816 | MCC: 0.4567 | Balanced Acc: 0.7117\r\n",
      "------------------------------------------------------------\r\n",
      "Epoch 003 | Training loss: 0.4417\r\n",
      "Epoch 003 | Validation loss: 0.4242\r\n",
      "Epoch 003 completed in 1.78s\r\n",
      " <<< NOUVEAU MEILLEUR MODÈLE (val_loss: 0.4242)\r\n",
      " >>> Évaluation sur l'ensemble de test:\r\n",
      "Performance for test_dataset\r\n",
      "AUC-ROC: 0.844, AUC-PR: 0.6651, Accuracy: 0.8117, B_ACC : 0.7165, MCC: 0.4824, Sensitivity/Recall: 0.5134, Specificity: 0.9197, Precision: 0.6982, F1-score: 0.5917, CK-score 0.473\r\n",
      "Test Performance:\r\n",
      "  ROC-AUC: 0.8440 | PR-AUC: 0.6651 | Accuracy: 0.8117\r\n",
      "  F1: 0.5917 | MCC: 0.4824 | Balanced Acc: 0.7165\r\n",
      "------------------------------------------------------------\r\n",
      "Epoch 004 | Training loss: 0.4406\r\n",
      "Epoch 004 | Validation loss: 0.4225\r\n",
      "Epoch 004 completed in 1.76s\r\n",
      " <<< NOUVEAU MEILLEUR MODÈLE (val_loss: 0.4225)\r\n",
      " >>> Évaluation sur l'ensemble de test:\r\n",
      "Performance for test_dataset\r\n",
      "AUC-ROC: 0.8401, AUC-PR: 0.6547, Accuracy: 0.8038, B_ACC : 0.6924, MCC: 0.4505, Sensitivity/Recall: 0.4545, Specificity: 0.9303, Precision: 0.7025, F1-score: 0.5519, CK-score 0.4337\r\n",
      "Test Performance:\r\n",
      "  ROC-AUC: 0.8401 | PR-AUC: 0.6547 | Accuracy: 0.8038\r\n",
      "  F1: 0.5519 | MCC: 0.4505 | Balanced Acc: 0.6924\r\n",
      "------------------------------------------------------------\r\n",
      "Epoch 005 | Training loss: 0.4324\r\n",
      "Epoch 005 | Validation loss: 0.4237\r\n",
      "Epoch 005 completed in 1.83s\r\n",
      "------------------------------------------------------------\r\n",
      "Epoch 006 | Training loss: 0.4379\r\n",
      "Epoch 006 | Validation loss: 0.4174\r\n",
      "Epoch 006 completed in 1.88s\r\n",
      " <<< NOUVEAU MEILLEUR MODÈLE (val_loss: 0.4174)\r\n",
      " >>> Évaluation sur l'ensemble de test:\r\n",
      "Performance for test_dataset\r\n",
      "AUC-ROC: 0.8453, AUC-PR: 0.6635, Accuracy: 0.8053, B_ACC : 0.6977, MCC: 0.4569, Sensitivity/Recall: 0.4679, Specificity: 0.9274, Precision: 0.7, F1-score: 0.5609, CK-score 0.4421\r\n",
      "Test Performance:\r\n",
      "  ROC-AUC: 0.8453 | PR-AUC: 0.6635 | Accuracy: 0.8053\r\n",
      "  F1: 0.5609 | MCC: 0.4569 | Balanced Acc: 0.6977\r\n",
      "------------------------------------------------------------\r\n",
      "Epoch 007 | Training loss: 0.4327\r\n",
      "Epoch 007 | Validation loss: 0.4248\r\n",
      "Epoch 007 completed in 1.75s\r\n",
      "------------------------------------------------------------\r\n",
      "Epoch 008 | Training loss: 0.4347\r\n",
      "Epoch 008 | Validation loss: 0.4263\r\n",
      "Epoch 008 completed in 1.77s\r\n",
      "------------------------------------------------------------\r\n",
      "Epoch 009 | Training loss: 0.4288\r\n",
      "Epoch 009 | Validation loss: 0.4249\r\n",
      "Epoch 009 completed in 1.78s\r\n",
      "------------------------------------------------------------\r\n",
      "Epoch 010 | Training loss: 0.4303\r\n",
      "Epoch 010 | Validation loss: 0.4242\r\n",
      "Epoch 010 completed in 1.77s\r\n",
      "------------------------------------------------------------\r\n",
      "Epoch 011 | Training loss: 0.4314\r\n",
      "Epoch 011 | Validation loss: 0.4230\r\n",
      "Epoch 011 completed in 1.76s\r\n",
      "------------------------------------------------------------\r\n",
      "Epoch 012 | Training loss: 0.4309\r\n",
      "Epoch 012 | Validation loss: 0.4177\r\n",
      "Epoch 012 completed in 1.80s\r\n",
      "------------------------------------------------------------\r\n",
      "Epoch 013 | Training loss: 0.4342\r\n",
      "Epoch 013 | Validation loss: 0.4185\r\n",
      "Epoch 013 completed in 1.77s\r\n",
      "------------------------------------------------------------\r\n",
      "Epoch 014 | Training loss: 0.4287\r\n",
      "Epoch 014 | Validation loss: 0.4119\r\n",
      "Epoch 014 completed in 1.78s\r\n",
      " <<< NOUVEAU MEILLEUR MODÈLE (val_loss: 0.4119)\r\n",
      " >>> Évaluation sur l'ensemble de test:\r\n",
      "Performance for test_dataset\r\n",
      "AUC-ROC: 0.8508, AUC-PR: 0.67, Accuracy: 0.8117, B_ACC : 0.7182, MCC: 0.4836, Sensitivity/Recall: 0.5187, Specificity: 0.9177, Precision: 0.6953, F1-score: 0.5942, CK-score 0.4749\r\n",
      "Test Performance:\r\n",
      "  ROC-AUC: 0.8508 | PR-AUC: 0.6700 | Accuracy: 0.8117\r\n",
      "  F1: 0.5942 | MCC: 0.4836 | Balanced Acc: 0.7182\r\n",
      "------------------------------------------------------------\r\n",
      "Epoch 015 | Training loss: 0.4212\r\n",
      "Epoch 015 | Validation loss: 0.4160\r\n",
      "Epoch 015 completed in 1.75s\r\n",
      "------------------------------------------------------------\r\n",
      "Epoch 016 | Training loss: 0.4235\r\n",
      "Epoch 016 | Validation loss: 0.4184\r\n",
      "Epoch 016 completed in 1.75s\r\n",
      "------------------------------------------------------------\r\n",
      "Epoch 017 | Training loss: 0.4280\r\n",
      "Epoch 017 | Validation loss: 0.4161\r\n",
      "Epoch 017 completed in 1.78s\r\n",
      "------------------------------------------------------------\r\n",
      "Epoch 018 | Training loss: 0.4295\r\n",
      "Epoch 018 | Validation loss: 0.4214\r\n",
      "Epoch 018 completed in 1.73s\r\n",
      "------------------------------------------------------------\r\n",
      "Epoch 019 | Training loss: 0.4303\r\n",
      "Epoch 019 | Validation loss: 0.4228\r\n",
      "Epoch 019 completed in 1.74s\r\n",
      "------------------------------------------------------------\r\n",
      "Epoch 020 | Training loss: 0.4267\r\n",
      "Epoch 020 | Validation loss: 0.4255\r\n",
      "Epoch 020 completed in 1.74s\r\n",
      "------------------------------------------------------------\r\n",
      "Epoch 021 | Training loss: 0.4250\r\n",
      "Epoch 021 | Validation loss: 0.4200\r\n",
      "Epoch 021 completed in 1.75s\r\n",
      "------------------------------------------------------------\r\n",
      "Epoch 022 | Training loss: 0.4236\r\n",
      "Epoch 022 | Validation loss: 0.4248\r\n",
      "Epoch 022 completed in 1.75s\r\n",
      "------------------------------------------------------------\r\n",
      "Epoch 023 | Training loss: 0.4260\r\n",
      "Epoch 023 | Validation loss: 0.4242\r\n",
      "Epoch 023 completed in 1.92s\r\n",
      "------------------------------------------------------------\r\n",
      "Epoch 024 | Training loss: 0.4223\r\n",
      "Epoch 024 | Validation loss: 0.4249\r\n",
      "Epoch 024 completed in 1.83s\r\n",
      "\r\n",
      "Early stopping à l'époque 24 (patience: 10)\r\n",
      "\r\n",
      "Meilleur modèle chargé (époque 14, val_loss: 0.4119)\r\n",
      "\r\n",
      "=== Évaluation finale ===\r\n",
      "Performance sur l'ensemble de validation:\r\n",
      "Performance for test_dataset\r\n",
      "AUC-ROC: 0.8445, AUC-PR: 0.6917, Accuracy: 0.7962, B_ACC : 0.7116, MCC: 0.4508, Sensitivity/Recall: 0.5312, Specificity: 0.8919, Precision: 0.6398, F1-score: 0.5805, CK-score 0.4474\r\n",
      "Val Performance:\r\n",
      "  ROC-AUC: 0.8445 | PR-AUC: 0.6917 | Accuracy: 0.7962\r\n",
      "  F1: 0.5805 | MCC: 0.4508 | Balanced Acc: 0.7116\r\n",
      "\r\n",
      "Performance sur l'ensemble de test:\r\n",
      "Performance for test_dataset\r\n",
      "AUC-ROC: 0.8487, AUC-PR: 0.6635, Accuracy: 0.8152, B_ACC : 0.7283, MCC: 0.4974, Sensitivity/Recall: 0.5428, Specificity: 0.9138, Precision: 0.6952, F1-score: 0.6096, CK-score 0.491\r\n",
      "Test Performance:\r\n",
      "  ROC-AUC: 0.8487 | PR-AUC: 0.6635 | Accuracy: 0.8152\r\n",
      "  F1: 0.6096 | MCC: 0.4974 | Balanced Acc: 0.7283\r\n",
      "\r\n",
      "=== Analyse d'interprétabilité ===\r\n",
      "Calcul de l'importance des features sur l'ensemble de test...\r\n",
      "\r\n",
      "Top 10 des features les plus importantes:\r\n",
      "   1. TechSupport         : 0.0534\r\n",
      "   2. InternetService     : 0.0531\r\n",
      "   3. PaymentMethod       : 0.0531\r\n",
      "   4. tenure              : 0.0530\r\n",
      "   5. Dependents          : 0.0529\r\n",
      "   6. Contract            : 0.0529\r\n",
      "   7. PaperlessBilling    : 0.0529\r\n",
      "   8. OnlineBackup        : 0.0527\r\n",
      "   9. DeviceProtection    : 0.0526\r\n",
      "  10. TotalCharges        : 0.0526\r\n",
      "\r\n",
      "Génération du graphique d'importance des features...\r\n",
      "Graphique d'importance sauvegardé: results/results_telecom/heatmaps/interpretable_ftt_plus_telecom_cls_importance_seed_0.png\r\n",
      "\r\n",
      "=== Résultats sauvegardés ===\r\n",
      "Métriques de performance: results/results_telecom/métriques/interpretable_ftt_plus_telecom_results_seed_0.json\r\n",
      "Métriques d'interprétabilité: results/results_telecom/métriques/interpretable_ftt_plus_telecom_interpretability_seed_0.json\r\n",
      "Graphique d'importance: results/results_telecom/heatmaps/interpretable_ftt_plus_telecom_cls_importance_seed_0.png\r\n",
      "Modèle sauvegardé: results/results_telecom/best_models/interpretable_ftt_plus_telecom_seed_0.pt\r\n",
      "Entraînement terminé!\r\n"
     ]
    }
   ],
   "source": [
    "import os\n",
    "\n",
    "# Changer vers le répertoire racine\n",
    "os.chdir('/kaggle/working/customer-churn-ft_transformer')\n",
    "\n",
    "# Utiliser PYTHONPATH pour que train.py trouve les modules\n",
    "!PYTHONPATH=/kaggle/working/customer-churn-ft_transformer python train/Telecom/train_ftt_plus/train.py"
   ]
  },
  {
   "cell_type": "code",
   "execution_count": null,
   "id": "9cbbee3d",
   "metadata": {
    "papermill": {
     "duration": 0.008427,
     "end_time": "2025-07-01T17:02:00.687970",
     "exception": false,
     "start_time": "2025-07-01T17:02:00.679543",
     "status": "completed"
    },
    "tags": []
   },
   "outputs": [],
   "source": []
  },
  {
   "cell_type": "code",
   "execution_count": null,
   "id": "49c00094",
   "metadata": {
    "papermill": {
     "duration": 0.0083,
     "end_time": "2025-07-01T17:02:00.704737",
     "exception": false,
     "start_time": "2025-07-01T17:02:00.696437",
     "status": "completed"
    },
    "tags": []
   },
   "outputs": [],
   "source": []
  },
  {
   "cell_type": "code",
   "execution_count": null,
   "id": "baf342f0",
   "metadata": {
    "papermill": {
     "duration": 0.008339,
     "end_time": "2025-07-01T17:02:00.721560",
     "exception": false,
     "start_time": "2025-07-01T17:02:00.713221",
     "status": "completed"
    },
    "tags": []
   },
   "outputs": [],
   "source": []
  },
  {
   "cell_type": "markdown",
   "id": "81e48981",
   "metadata": {
    "papermill": {
     "duration": 0.008447,
     "end_time": "2025-07-01T17:02:00.738488",
     "exception": false,
     "start_time": "2025-07-01T17:02:00.730041",
     "status": "completed"
    },
    "tags": []
   },
   "source": [
    "# Modèle FT-T Random *Interprétable*"
   ]
  },
  {
   "cell_type": "code",
   "execution_count": 8,
   "id": "dcb1a5df",
   "metadata": {
    "execution": {
     "iopub.execute_input": "2025-07-01T17:02:00.756947Z",
     "iopub.status.busy": "2025-07-01T17:02:00.756259Z",
     "iopub.status.idle": "2025-07-01T17:02:00.969507Z",
     "shell.execute_reply": "2025-07-01T17:02:00.968586Z"
    },
    "papermill": {
     "duration": 0.224003,
     "end_time": "2025-07-01T17:02:00.970886",
     "exception": false,
     "start_time": "2025-07-01T17:02:00.746883",
     "status": "completed"
    },
    "tags": []
   },
   "outputs": [
    {
     "name": "stdout",
     "output_type": "stream",
     "text": [
      "python3: can't open file '/kaggle/working/customer-churn-ft_transformer/train/Telecom/train_ftt_random/train.py': [Errno 2] No such file or directory\r\n"
     ]
    }
   ],
   "source": [
    "import os\n",
    "\n",
    "# Changer vers le répertoire racine\n",
    "os.chdir('/kaggle/working/customer-churn-ft_transformer')\n",
    "\n",
    "# Utiliser PYTHONPATH pour que train.py trouve les modules\n",
    "!PYTHONPATH=/kaggle/working/customer-churn-ft_transformer python train/Telecom/train_ftt_random/train.py"
   ]
  },
  {
   "cell_type": "code",
   "execution_count": null,
   "id": "f1f20737",
   "metadata": {
    "papermill": {
     "duration": 0.008717,
     "end_time": "2025-07-01T17:02:00.988867",
     "exception": false,
     "start_time": "2025-07-01T17:02:00.980150",
     "status": "completed"
    },
    "tags": []
   },
   "outputs": [],
   "source": []
  },
  {
   "cell_type": "code",
   "execution_count": null,
   "id": "360c6b85",
   "metadata": {
    "papermill": {
     "duration": 0.008576,
     "end_time": "2025-07-01T17:02:01.006352",
     "exception": false,
     "start_time": "2025-07-01T17:02:00.997776",
     "status": "completed"
    },
    "tags": []
   },
   "outputs": [],
   "source": []
  },
  {
   "cell_type": "code",
   "execution_count": null,
   "id": "cea04add",
   "metadata": {
    "papermill": {
     "duration": 0.008616,
     "end_time": "2025-07-01T17:02:01.023671",
     "exception": false,
     "start_time": "2025-07-01T17:02:01.015055",
     "status": "completed"
    },
    "tags": []
   },
   "outputs": [],
   "source": []
  },
  {
   "cell_type": "markdown",
   "id": "4120775f",
   "metadata": {
    "papermill": {
     "duration": 0.008606,
     "end_time": "2025-07-01T17:02:01.041191",
     "exception": false,
     "start_time": "2025-07-01T17:02:01.032585",
     "status": "completed"
    },
    "tags": []
   },
   "source": [
    "# Modèle FT-T Plus Plus *Interprétable*"
   ]
  },
  {
   "cell_type": "code",
   "execution_count": 9,
   "id": "49519a69",
   "metadata": {
    "execution": {
     "iopub.execute_input": "2025-07-01T17:02:01.107279Z",
     "iopub.status.busy": "2025-07-01T17:02:01.106981Z",
     "iopub.status.idle": "2025-07-01T17:02:01.321343Z",
     "shell.execute_reply": "2025-07-01T17:02:01.320416Z"
    },
    "papermill": {
     "duration": 0.22539,
     "end_time": "2025-07-01T17:02:01.322638",
     "exception": false,
     "start_time": "2025-07-01T17:02:01.097248",
     "status": "completed"
    },
    "tags": []
   },
   "outputs": [
    {
     "name": "stdout",
     "output_type": "stream",
     "text": [
      "python3: can't open file '/kaggle/working/customer-churn-ft_transformer/train/Telecom/train_ftt_plus_plus/train.py': [Errno 2] No such file or directory\r\n"
     ]
    }
   ],
   "source": [
    "import os\n",
    "\n",
    "# Changer vers le répertoire racine\n",
    "os.chdir('/kaggle/working/customer-churn-ft_transformer')\n",
    "\n",
    "# Utiliser PYTHONPATH pour que train.py trouve les modules\n",
    "!PYTHONPATH=/kaggle/working/customer-churn-ft_transformer python train/Telecom/train_ftt_plus_plus/train.py"
   ]
  },
  {
   "cell_type": "code",
   "execution_count": null,
   "id": "d0733de6",
   "metadata": {
    "papermill": {
     "duration": 0.008675,
     "end_time": "2025-07-01T17:02:01.340473",
     "exception": false,
     "start_time": "2025-07-01T17:02:01.331798",
     "status": "completed"
    },
    "tags": []
   },
   "outputs": [],
   "source": []
  },
  {
   "cell_type": "code",
   "execution_count": null,
   "id": "e0bbd9d7",
   "metadata": {
    "papermill": {
     "duration": 0.008554,
     "end_time": "2025-07-01T17:02:01.357686",
     "exception": false,
     "start_time": "2025-07-01T17:02:01.349132",
     "status": "completed"
    },
    "tags": []
   },
   "outputs": [],
   "source": []
  },
  {
   "cell_type": "code",
   "execution_count": null,
   "id": "6726c4c7",
   "metadata": {
    "papermill": {
     "duration": 0.008617,
     "end_time": "2025-07-01T17:02:01.374983",
     "exception": false,
     "start_time": "2025-07-01T17:02:01.366366",
     "status": "completed"
    },
    "tags": []
   },
   "outputs": [],
   "source": []
  }
 ],
 "metadata": {
  "kaggle": {
   "accelerator": "gpu",
   "dataSources": [],
   "dockerImageVersionId": 31041,
   "isGpuEnabled": true,
   "isInternetEnabled": true,
   "language": "python",
   "sourceType": "notebook"
  },
  "kernelspec": {
   "display_name": "Python 3",
   "language": "python",
   "name": "python3"
  },
  "language_info": {
   "codemirror_mode": {
    "name": "ipython",
    "version": 3
   },
   "file_extension": ".py",
   "mimetype": "text/x-python",
   "name": "python",
   "nbconvert_exporter": "python",
   "pygments_lexer": "ipython3",
   "version": "3.11.11"
  },
  "papermill": {
   "default_parameters": {},
   "duration": 262.376133,
   "end_time": "2025-07-01T17:02:01.600672",
   "environment_variables": {},
   "exception": null,
   "input_path": "__notebook__.ipynb",
   "output_path": "__notebook__.ipynb",
   "parameters": {},
   "start_time": "2025-07-01T16:57:39.224539",
   "version": "2.6.0"
  }
 },
 "nbformat": 4,
 "nbformat_minor": 5
}
