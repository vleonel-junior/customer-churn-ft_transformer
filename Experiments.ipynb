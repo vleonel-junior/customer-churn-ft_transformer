{
 "cells": [
  {
   "cell_type": "code",
   "execution_count": 1,
   "id": "bdb44f2f",
   "metadata": {
    "_cell_guid": "b1076dfc-b9ad-4769-8c92-a6c4dae69d19",
    "_uuid": "8f2839f25d086af736a60e9eeb907d3b93b6e0e5",
    "execution": {
     "iopub.execute_input": "2025-06-26T22:55:14.482730Z",
     "iopub.status.busy": "2025-06-26T22:55:14.482363Z",
     "iopub.status.idle": "2025-06-26T22:55:15.950838Z",
     "shell.execute_reply": "2025-06-26T22:55:15.949686Z"
    },
    "papermill": {
     "duration": 1.474443,
     "end_time": "2025-06-26T22:55:15.952798",
     "exception": false,
     "start_time": "2025-06-26T22:55:14.478355",
     "status": "completed"
    },
    "tags": []
   },
   "outputs": [
    {
     "name": "stdout",
     "output_type": "stream",
     "text": [
      "Cloning into 'customer-churn-ft_transformer'...\r\n",
      "remote: Enumerating objects: 105, done.\u001b[K\r\n",
      "remote: Counting objects: 100% (105/105), done.\u001b[K\r\n",
      "remote: Compressing objects: 100% (75/75), done.\u001b[K\r\n",
      "remote: Total 105 (delta 40), reused 85 (delta 20), pack-reused 0 (from 0)\u001b[K\r\n",
      "Receiving objects: 100% (105/105), 478.11 KiB | 1.69 MiB/s, done.\r\n",
      "Resolving deltas: 100% (40/40), done.\r\n"
     ]
    }
   ],
   "source": [
    "!git clone https://github.com/vleonel-junior/customer-churn-ft_transformer.git"
   ]
  },
  {
   "cell_type": "code",
   "execution_count": 2,
   "id": "30dc00f5",
   "metadata": {
    "execution": {
     "iopub.execute_input": "2025-06-26T22:55:15.961535Z",
     "iopub.status.busy": "2025-06-26T22:55:15.961106Z",
     "iopub.status.idle": "2025-06-26T22:55:15.966645Z",
     "shell.execute_reply": "2025-06-26T22:55:15.965680Z"
    },
    "papermill": {
     "duration": 0.011904,
     "end_time": "2025-06-26T22:55:15.968659",
     "exception": false,
     "start_time": "2025-06-26T22:55:15.956755",
     "status": "completed"
    },
    "tags": []
   },
   "outputs": [],
   "source": [
    "import sys\n",
    "sys.path.append('/kaggle/working/customer-churn-ft_transformer')"
   ]
  },
  {
   "cell_type": "code",
   "execution_count": 3,
   "id": "8c1d75a2",
   "metadata": {
    "execution": {
     "iopub.execute_input": "2025-06-26T22:55:15.976945Z",
     "iopub.status.busy": "2025-06-26T22:55:15.976637Z",
     "iopub.status.idle": "2025-06-26T22:55:16.335863Z",
     "shell.execute_reply": "2025-06-26T22:55:16.334544Z"
    },
    "papermill": {
     "duration": 0.365575,
     "end_time": "2025-06-26T22:55:16.337938",
     "exception": false,
     "start_time": "2025-06-26T22:55:15.972363",
     "status": "completed"
    },
    "tags": []
   },
   "outputs": [
    {
     "name": "stdout",
     "output_type": "stream",
     "text": [
      "/kaggle/working/customer-churn-ft_transformer\r\n",
      "total 44\r\n",
      "drwxr-xr-x 8 root root 4096 Jun 26 22:55 .\r\n",
      "drwxr-xr-x 3 root root 4096 Jun 26 22:55 ..\r\n",
      "drwxr-xr-x 3 root root 4096 Jun 26 22:55 data\r\n",
      "drwxr-xr-x 2 root root 4096 Jun 26 22:55 ftt_plus\r\n",
      "drwxr-xr-x 8 root root 4096 Jun 26 22:55 .git\r\n",
      "-rw-r--r-- 1 root root    0 Jun 26 22:55 model.py\r\n",
      "drwxr-xr-x 2 root root 4096 Jun 26 22:55 __pycache__\r\n",
      "-rw-r--r-- 1 root root   32 Jun 26 22:55 README.md\r\n",
      "drwxr-xr-x 3 root root 4096 Jun 26 22:55 rtdl\r\n",
      "-rw-r--r-- 1 root root  788 Jun 26 22:55 test.ipynb\r\n",
      "drwxr-xr-x 3 root root 4096 Jun 26 22:55 train\r\n",
      "-rw-r--r-- 1 root root 2213 Jun 26 22:55 utils.py\r\n",
      "total 2008\r\n",
      "drwxr-xr-x 3 root root    4096 Jun 26 22:55 .\r\n",
      "drwxr-xr-x 8 root root    4096 Jun 26 22:55 ..\r\n",
      "-rw-r--r-- 1 root root 1059732 Jun 26 22:55 online_shoppers_intention.csv\r\n",
      "-rw-r--r-- 1 root root    2597 Jun 26 22:55 process_data.py\r\n",
      "-rw-r--r-- 1 root root    4224 Jun 26 22:55 process_telecom_data.py\r\n",
      "drwxr-xr-x 2 root root    4096 Jun 26 22:55 __pycache__\r\n",
      "-rw-r--r-- 1 root root  970457 Jun 26 22:55 Telco_Customer_Churn.csv\r\n",
      "-rw-r--r-- 1 root root       0 Jun 26 22:55 utils.py\r\n"
     ]
    }
   ],
   "source": [
    "# Le bon chemin est directement :\n",
    "import os\n",
    "os.chdir('/kaggle/working/customer-churn-ft_transformer')\n",
    "\n",
    "# Vérifier que vous êtes au bon endroit\n",
    "!pwd\n",
    "!ls -la\n",
    "\n",
    "# Vérifier que les datasets sont là\n",
    "!ls -la data/"
   ]
  },
  {
   "cell_type": "code",
   "execution_count": 4,
   "id": "fe684b68",
   "metadata": {
    "execution": {
     "iopub.execute_input": "2025-06-26T22:55:16.345801Z",
     "iopub.status.busy": "2025-06-26T22:55:16.345430Z",
     "iopub.status.idle": "2025-06-26T22:57:54.438281Z",
     "shell.execute_reply": "2025-06-26T22:57:54.435785Z"
    },
    "papermill": {
     "duration": 158.100133,
     "end_time": "2025-06-26T22:57:54.441270",
     "exception": false,
     "start_time": "2025-06-26T22:55:16.341137",
     "status": "completed"
    },
    "tags": []
   },
   "outputs": [
    {
     "name": "stdout",
     "output_type": "stream",
     "text": [
      "Collecting rtdl\r\n",
      "  Downloading rtdl-0.0.13-py3-none-any.whl.metadata (1.0 kB)\r\n",
      "Requirement already satisfied: numpy<2,>=1.18 in /usr/local/lib/python3.11/dist-packages (from rtdl) (1.26.4)\r\n",
      "Collecting torch<2,>=1.7 (from rtdl)\r\n",
      "  Downloading torch-1.13.1-cp311-cp311-manylinux1_x86_64.whl.metadata (24 kB)\r\n",
      "Requirement already satisfied: mkl_fft in /usr/local/lib/python3.11/dist-packages (from numpy<2,>=1.18->rtdl) (1.3.8)\r\n",
      "Requirement already satisfied: mkl_random in /usr/local/lib/python3.11/dist-packages (from numpy<2,>=1.18->rtdl) (1.2.4)\r\n",
      "Requirement already satisfied: mkl_umath in /usr/local/lib/python3.11/dist-packages (from numpy<2,>=1.18->rtdl) (0.1.1)\r\n",
      "Requirement already satisfied: mkl in /usr/local/lib/python3.11/dist-packages (from numpy<2,>=1.18->rtdl) (2025.1.0)\r\n",
      "Requirement already satisfied: tbb4py in /usr/local/lib/python3.11/dist-packages (from numpy<2,>=1.18->rtdl) (2022.1.0)\r\n",
      "Requirement already satisfied: mkl-service in /usr/local/lib/python3.11/dist-packages (from numpy<2,>=1.18->rtdl) (2.4.1)\r\n",
      "Requirement already satisfied: typing-extensions in /usr/local/lib/python3.11/dist-packages (from torch<2,>=1.7->rtdl) (4.13.2)\r\n",
      "Collecting nvidia-cuda-runtime-cu11==11.7.99 (from torch<2,>=1.7->rtdl)\r\n",
      "  Downloading nvidia_cuda_runtime_cu11-11.7.99-py3-none-manylinux1_x86_64.whl.metadata (1.6 kB)\r\n",
      "Collecting nvidia-cudnn-cu11==8.5.0.96 (from torch<2,>=1.7->rtdl)\r\n",
      "  Downloading nvidia_cudnn_cu11-8.5.0.96-2-py3-none-manylinux1_x86_64.whl.metadata (1.6 kB)\r\n",
      "Collecting nvidia-cublas-cu11==11.10.3.66 (from torch<2,>=1.7->rtdl)\r\n",
      "  Downloading nvidia_cublas_cu11-11.10.3.66-py3-none-manylinux1_x86_64.whl.metadata (1.6 kB)\r\n",
      "Collecting nvidia-cuda-nvrtc-cu11==11.7.99 (from torch<2,>=1.7->rtdl)\r\n",
      "  Downloading nvidia_cuda_nvrtc_cu11-11.7.99-2-py3-none-manylinux1_x86_64.whl.metadata (1.5 kB)\r\n",
      "Requirement already satisfied: setuptools in /usr/local/lib/python3.11/dist-packages (from nvidia-cublas-cu11==11.10.3.66->torch<2,>=1.7->rtdl) (75.2.0)\r\n",
      "Requirement already satisfied: wheel in /usr/local/lib/python3.11/dist-packages (from nvidia-cublas-cu11==11.10.3.66->torch<2,>=1.7->rtdl) (0.45.1)\r\n",
      "Requirement already satisfied: intel-openmp<2026,>=2024 in /usr/local/lib/python3.11/dist-packages (from mkl->numpy<2,>=1.18->rtdl) (2024.2.0)\r\n",
      "Requirement already satisfied: tbb==2022.* in /usr/local/lib/python3.11/dist-packages (from mkl->numpy<2,>=1.18->rtdl) (2022.1.0)\r\n",
      "Requirement already satisfied: tcmlib==1.* in /usr/local/lib/python3.11/dist-packages (from tbb==2022.*->mkl->numpy<2,>=1.18->rtdl) (1.3.0)\r\n",
      "Requirement already satisfied: intel-cmplr-lib-rt in /usr/local/lib/python3.11/dist-packages (from mkl_umath->numpy<2,>=1.18->rtdl) (2024.2.0)\r\n",
      "Requirement already satisfied: intel-cmplr-lib-ur==2024.2.0 in /usr/local/lib/python3.11/dist-packages (from intel-openmp<2026,>=2024->mkl->numpy<2,>=1.18->rtdl) (2024.2.0)\r\n",
      "Downloading rtdl-0.0.13-py3-none-any.whl (23 kB)\r\n",
      "Downloading torch-1.13.1-cp311-cp311-manylinux1_x86_64.whl (887.4 MB)\r\n",
      "\u001b[2K   \u001b[90m━━━━━━━━━━━━━━━━━━━━━━━━━━━━━━━━━━━━━━━━\u001b[0m \u001b[32m887.4/887.4 MB\u001b[0m \u001b[31m1.4 MB/s\u001b[0m eta \u001b[36m0:00:00\u001b[0m\r\n",
      "\u001b[?25hDownloading nvidia_cublas_cu11-11.10.3.66-py3-none-manylinux1_x86_64.whl (317.1 MB)\r\n",
      "\u001b[2K   \u001b[90m━━━━━━━━━━━━━━━━━━━━━━━━━━━━━━━━━━━━━━━━\u001b[0m \u001b[32m317.1/317.1 MB\u001b[0m \u001b[31m5.1 MB/s\u001b[0m eta \u001b[36m0:00:00\u001b[0m\r\n",
      "\u001b[?25hDownloading nvidia_cuda_nvrtc_cu11-11.7.99-2-py3-none-manylinux1_x86_64.whl (21.0 MB)\r\n",
      "\u001b[2K   \u001b[90m━━━━━━━━━━━━━━━━━━━━━━━━━━━━━━━━━━━━━━━━\u001b[0m \u001b[32m21.0/21.0 MB\u001b[0m \u001b[31m64.2 MB/s\u001b[0m eta \u001b[36m0:00:00\u001b[0m\r\n",
      "\u001b[?25hDownloading nvidia_cuda_runtime_cu11-11.7.99-py3-none-manylinux1_x86_64.whl (849 kB)\r\n",
      "\u001b[2K   \u001b[90m━━━━━━━━━━━━━━━━━━━━━━━━━━━━━━━━━━━━━━━━\u001b[0m \u001b[32m849.3/849.3 kB\u001b[0m \u001b[31m39.1 MB/s\u001b[0m eta \u001b[36m0:00:00\u001b[0m\r\n",
      "\u001b[?25hDownloading nvidia_cudnn_cu11-8.5.0.96-2-py3-none-manylinux1_x86_64.whl (557.1 MB)\r\n",
      "\u001b[2K   \u001b[90m━━━━━━━━━━━━━━━━━━━━━━━━━━━━━━━━━━━━━━━━\u001b[0m \u001b[32m557.1/557.1 MB\u001b[0m \u001b[31m2.8 MB/s\u001b[0m eta \u001b[36m0:00:00\u001b[0m\r\n",
      "\u001b[?25hInstalling collected packages: nvidia-cuda-runtime-cu11, nvidia-cuda-nvrtc-cu11, nvidia-cublas-cu11, nvidia-cudnn-cu11, torch, rtdl\r\n",
      "  Attempting uninstall: torch\r\n",
      "    Found existing installation: torch 2.6.0+cu124\r\n",
      "    Uninstalling torch-2.6.0+cu124:\r\n",
      "      Successfully uninstalled torch-2.6.0+cu124\r\n",
      "\u001b[31mERROR: pip's dependency resolver does not currently take into account all the packages that are installed. This behaviour is the source of the following dependency conflicts.\r\n",
      "torchdata 0.11.0 requires torch>=2, but you have torch 1.13.1 which is incompatible.\r\n",
      "torchmetrics 1.7.1 requires torch>=2.0.0, but you have torch 1.13.1 which is incompatible.\r\n",
      "pytorch-lightning 2.5.1.post0 requires torch>=2.1.0, but you have torch 1.13.1 which is incompatible.\r\n",
      "torchaudio 2.6.0+cu124 requires torch==2.6.0, but you have torch 1.13.1 which is incompatible.\r\n",
      "torchvision 0.21.0+cu124 requires torch==2.6.0, but you have torch 1.13.1 which is incompatible.\r\n",
      "accelerate 1.5.2 requires torch>=2.0.0, but you have torch 1.13.1 which is incompatible.\u001b[0m\u001b[31m\r\n",
      "\u001b[0mSuccessfully installed nvidia-cublas-cu11-11.10.3.66 nvidia-cuda-nvrtc-cu11-11.7.99 nvidia-cuda-runtime-cu11-11.7.99 nvidia-cudnn-cu11-8.5.0.96 rtdl-0.0.13 torch-1.13.1\r\n",
      "Collecting libzero==0.0.4\r\n",
      "  Downloading libzero-0.0.4-py3-none-any.whl.metadata (834 bytes)\r\n",
      "Requirement already satisfied: numpy<2,>=1.17 in /usr/local/lib/python3.11/dist-packages (from libzero==0.0.4) (1.26.4)\r\n",
      "Collecting pynvml<9,>=8.0 (from libzero==0.0.4)\r\n",
      "  Downloading pynvml-8.0.4-py3-none-any.whl.metadata (8.6 kB)\r\n",
      "Requirement already satisfied: torch<2,>=1.6 in /usr/local/lib/python3.11/dist-packages (from libzero==0.0.4) (1.13.1)\r\n",
      "Requirement already satisfied: tqdm<5,>=4.0 in /usr/local/lib/python3.11/dist-packages (from libzero==0.0.4) (4.67.1)\r\n",
      "Requirement already satisfied: mkl_fft in /usr/local/lib/python3.11/dist-packages (from numpy<2,>=1.17->libzero==0.0.4) (1.3.8)\r\n",
      "Requirement already satisfied: mkl_random in /usr/local/lib/python3.11/dist-packages (from numpy<2,>=1.17->libzero==0.0.4) (1.2.4)\r\n",
      "Requirement already satisfied: mkl_umath in /usr/local/lib/python3.11/dist-packages (from numpy<2,>=1.17->libzero==0.0.4) (0.1.1)\r\n",
      "Requirement already satisfied: mkl in /usr/local/lib/python3.11/dist-packages (from numpy<2,>=1.17->libzero==0.0.4) (2025.1.0)\r\n",
      "Requirement already satisfied: tbb4py in /usr/local/lib/python3.11/dist-packages (from numpy<2,>=1.17->libzero==0.0.4) (2022.1.0)\r\n",
      "Requirement already satisfied: mkl-service in /usr/local/lib/python3.11/dist-packages (from numpy<2,>=1.17->libzero==0.0.4) (2.4.1)\r\n",
      "Requirement already satisfied: typing-extensions in /usr/local/lib/python3.11/dist-packages (from torch<2,>=1.6->libzero==0.0.4) (4.13.2)\r\n",
      "Requirement already satisfied: nvidia-cuda-runtime-cu11==11.7.99 in /usr/local/lib/python3.11/dist-packages (from torch<2,>=1.6->libzero==0.0.4) (11.7.99)\r\n",
      "Requirement already satisfied: nvidia-cudnn-cu11==8.5.0.96 in /usr/local/lib/python3.11/dist-packages (from torch<2,>=1.6->libzero==0.0.4) (8.5.0.96)\r\n",
      "Requirement already satisfied: nvidia-cublas-cu11==11.10.3.66 in /usr/local/lib/python3.11/dist-packages (from torch<2,>=1.6->libzero==0.0.4) (11.10.3.66)\r\n",
      "Requirement already satisfied: nvidia-cuda-nvrtc-cu11==11.7.99 in /usr/local/lib/python3.11/dist-packages (from torch<2,>=1.6->libzero==0.0.4) (11.7.99)\r\n",
      "Requirement already satisfied: setuptools in /usr/local/lib/python3.11/dist-packages (from nvidia-cublas-cu11==11.10.3.66->torch<2,>=1.6->libzero==0.0.4) (75.2.0)\r\n",
      "Requirement already satisfied: wheel in /usr/local/lib/python3.11/dist-packages (from nvidia-cublas-cu11==11.10.3.66->torch<2,>=1.6->libzero==0.0.4) (0.45.1)\r\n",
      "Requirement already satisfied: intel-openmp<2026,>=2024 in /usr/local/lib/python3.11/dist-packages (from mkl->numpy<2,>=1.17->libzero==0.0.4) (2024.2.0)\r\n",
      "Requirement already satisfied: tbb==2022.* in /usr/local/lib/python3.11/dist-packages (from mkl->numpy<2,>=1.17->libzero==0.0.4) (2022.1.0)\r\n",
      "Requirement already satisfied: tcmlib==1.* in /usr/local/lib/python3.11/dist-packages (from tbb==2022.*->mkl->numpy<2,>=1.17->libzero==0.0.4) (1.3.0)\r\n",
      "Requirement already satisfied: intel-cmplr-lib-rt in /usr/local/lib/python3.11/dist-packages (from mkl_umath->numpy<2,>=1.17->libzero==0.0.4) (2024.2.0)\r\n",
      "Requirement already satisfied: intel-cmplr-lib-ur==2024.2.0 in /usr/local/lib/python3.11/dist-packages (from intel-openmp<2026,>=2024->mkl->numpy<2,>=1.17->libzero==0.0.4) (2024.2.0)\r\n",
      "Downloading libzero-0.0.4-py3-none-any.whl (26 kB)\r\n",
      "Downloading pynvml-8.0.4-py3-none-any.whl (36 kB)\r\n",
      "Installing collected packages: pynvml, libzero\r\n",
      "  Attempting uninstall: pynvml\r\n",
      "    Found existing installation: pynvml 12.0.0\r\n",
      "    Uninstalling pynvml-12.0.0:\r\n",
      "      Successfully uninstalled pynvml-12.0.0\r\n",
      "\u001b[31mERROR: pip's dependency resolver does not currently take into account all the packages that are installed. This behaviour is the source of the following dependency conflicts.\r\n",
      "ucx-py-cu12 0.42.0 requires pynvml<13.0.0a0,>=12.0.0, but you have pynvml 8.0.4 which is incompatible.\r\n",
      "dask-cudf-cu12 25.2.2 requires pynvml<13.0.0a0,>=12.0.0, but you have pynvml 8.0.4 which is incompatible.\r\n",
      "dask-cuda 25.2.0 requires pynvml<13.0.0a0,>=12.0.0, but you have pynvml 8.0.4 which is incompatible.\r\n",
      "ucxx-cu12 0.42.0 requires pynvml<13.0.0a0,>=12.0.0, but you have pynvml 8.0.4 which is incompatible.\u001b[0m\u001b[31m\r\n",
      "\u001b[0mSuccessfully installed libzero-0.0.4 pynvml-8.0.4\r\n"
     ]
    }
   ],
   "source": [
    "!pip install rtdl\n",
    "!pip install libzero==0.0.4"
   ]
  },
  {
   "cell_type": "code",
   "execution_count": 5,
   "id": "26630599",
   "metadata": {
    "execution": {
     "iopub.execute_input": "2025-06-26T22:57:54.725110Z",
     "iopub.status.busy": "2025-06-26T22:57:54.724716Z",
     "iopub.status.idle": "2025-06-26T22:57:54.987399Z",
     "shell.execute_reply": "2025-06-26T22:57:54.986036Z"
    },
    "papermill": {
     "duration": 0.480382,
     "end_time": "2025-06-26T22:57:54.989386",
     "exception": false,
     "start_time": "2025-06-26T22:57:54.509004",
     "status": "completed"
    },
    "tags": []
   },
   "outputs": [
    {
     "name": "stdout",
     "output_type": "stream",
     "text": [
      "python3: can't open file '/kaggle/working/customer-churn-ft_transformer/train.py': [Errno 2] No such file or directory\r\n"
     ]
    }
   ],
   "source": [
    "# Sur Kaggle\n",
    "# import os\n",
    "# os.chdir('/kaggle/working/purchasing-behavior-ft_transformer')\n",
    "# !git pull origin main\n",
    "!python train.py"
   ]
  },
  {
   "cell_type": "code",
   "execution_count": null,
   "id": "0914725b",
   "metadata": {
    "papermill": {
     "duration": 0.066554,
     "end_time": "2025-06-26T22:57:55.124647",
     "exception": false,
     "start_time": "2025-06-26T22:57:55.058093",
     "status": "completed"
    },
    "tags": []
   },
   "outputs": [],
   "source": []
  },
  {
   "cell_type": "code",
   "execution_count": null,
   "id": "0a2d693b",
   "metadata": {
    "papermill": {
     "duration": 0.065625,
     "end_time": "2025-06-26T22:57:55.258305",
     "exception": false,
     "start_time": "2025-06-26T22:57:55.192680",
     "status": "completed"
    },
    "tags": []
   },
   "outputs": [],
   "source": []
  },
  {
   "cell_type": "code",
   "execution_count": null,
   "id": "cc14d020",
   "metadata": {
    "papermill": {
     "duration": 0.068712,
     "end_time": "2025-06-26T22:57:55.393951",
     "exception": false,
     "start_time": "2025-06-26T22:57:55.325239",
     "status": "completed"
    },
    "tags": []
   },
   "outputs": [],
   "source": []
  }
 ],
 "metadata": {
  "kaggle": {
   "accelerator": "none",
   "dataSources": [],
   "dockerImageVersionId": 31041,
   "isGpuEnabled": false,
   "isInternetEnabled": true,
   "language": "python",
   "sourceType": "notebook"
  },
  "kernelspec": {
   "display_name": "Python 3",
   "language": "python",
   "name": "python3"
  },
  "language_info": {
   "codemirror_mode": {
    "name": "ipython",
    "version": 3
   },
   "file_extension": ".py",
   "mimetype": "text/x-python",
   "name": "python",
   "nbconvert_exporter": "python",
   "pygments_lexer": "ipython3",
   "version": "3.11.11"
  },
  "papermill": {
   "default_parameters": {},
   "duration": 166.745116,
   "end_time": "2025-06-26T22:57:55.982081",
   "environment_variables": {},
   "exception": null,
   "input_path": "__notebook__.ipynb",
   "output_path": "__notebook__.ipynb",
   "parameters": {},
   "start_time": "2025-06-26T22:55:09.236965",
   "version": "2.6.0"
  }
 },
 "nbformat": 4,
 "nbformat_minor": 5
}
